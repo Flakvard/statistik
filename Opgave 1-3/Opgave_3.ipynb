{
 "cells": [
  {
   "cell_type": "markdown",
   "id": "380f75ec-91bd-4c18-91d6-a141a363e180",
   "metadata": {},
   "source": [
    "# Opgave III. Download filen ”Sekundære data Bolig”\n",
    "<h2>Der er 2386 tilfældige respondenter fra en undersøgelse i 2012 efterår\n",
    "Variabel ”Husholdnings samlede indkomst” er numerisk kontinuert, derfor frekvenstabeller ikke duer, der skal laves en histogram. Med Pivot funktion kan det styres bedre.</h2>\n",
    "\n",
    "1) Lav histogram for husholdningden samlede månedelige indkomst, med 10.000 kr intervaller. Og maks værdi på 150.000 kr. \n",
    "Brug Grupper funktion, når du højre klikker en celle under rækkenavne:"
   ]
  },
  {
   "cell_type": "code",
   "execution_count": 2,
   "id": "8f83debd-80f3-4582-891a-133992709c38",
   "metadata": {
    "tags": []
   },
   "outputs": [],
   "source": [
    "import pandas as pd\n",
    "import numpy as np\n",
    "import matplotlib.pyplot as plt\n",
    "import seaborn as sns"
   ]
  },
  {
   "cell_type": "code",
   "execution_count": 27,
   "id": "280aae9c-740a-469f-82e3-d05d6e3cc515",
   "metadata": {
    "tags": []
   },
   "outputs": [],
   "source": [
    "df = pd.read_excel(\"./Sekundær data Bolig.xlsx\")"
   ]
  },
  {
   "cell_type": "code",
   "execution_count": 28,
   "id": "cf5fbe15-eee2-403c-bea3-626a9182ce1e",
   "metadata": {
    "tags": []
   },
   "outputs": [
    {
     "data": {
      "text/html": [
       "<div>\n",
       "<style scoped>\n",
       "    .dataframe tbody tr th:only-of-type {\n",
       "        vertical-align: middle;\n",
       "    }\n",
       "\n",
       "    .dataframe tbody tr th {\n",
       "        vertical-align: top;\n",
       "    }\n",
       "\n",
       "    .dataframe thead th {\n",
       "        text-align: right;\n",
       "    }\n",
       "</style>\n",
       "<table border=\"1\" class=\"dataframe\">\n",
       "  <thead>\n",
       "    <tr style=\"text-align: right;\">\n",
       "      <th></th>\n",
       "      <th>respnr</th>\n",
       "      <th>Føler du stress for tiden?</th>\n",
       "      <th>Husholdnings samlede månedelige indkomst</th>\n",
       "      <th>Hvilken type bolig er din helårsbolig?</th>\n",
       "      <th>Bor du i ejer-, leje- eller andelsbolig?</th>\n",
       "      <th>Den samlede værdi af husholdningens kontante opsparing i hjemmet eller banken</th>\n",
       "    </tr>\n",
       "  </thead>\n",
       "  <tbody>\n",
       "    <tr>\n",
       "      <th>0</th>\n",
       "      <td>10001</td>\n",
       "      <td>Aldrig</td>\n",
       "      <td>18000</td>\n",
       "      <td>Parcelhus</td>\n",
       "      <td>Ejerbolig</td>\n",
       "      <td>90000.0</td>\n",
       "    </tr>\n",
       "    <tr>\n",
       "      <th>1</th>\n",
       "      <td>10002</td>\n",
       "      <td>Sjældent</td>\n",
       "      <td>60000</td>\n",
       "      <td>Parcelhus</td>\n",
       "      <td>Ejerbolig</td>\n",
       "      <td>100000.0</td>\n",
       "    </tr>\n",
       "    <tr>\n",
       "      <th>2</th>\n",
       "      <td>10003</td>\n",
       "      <td>Sjældent</td>\n",
       "      <td>11000</td>\n",
       "      <td>Etagebolig</td>\n",
       "      <td>Lejebolig</td>\n",
       "      <td>NaN</td>\n",
       "    </tr>\n",
       "    <tr>\n",
       "      <th>3</th>\n",
       "      <td>10004</td>\n",
       "      <td>Aldrig</td>\n",
       "      <td>14000</td>\n",
       "      <td>Række-/dobbelthus</td>\n",
       "      <td>Lejebolig</td>\n",
       "      <td>100000.0</td>\n",
       "    </tr>\n",
       "    <tr>\n",
       "      <th>4</th>\n",
       "      <td>10005</td>\n",
       "      <td>Sommetider</td>\n",
       "      <td>65000</td>\n",
       "      <td>Række-/dobbelthus</td>\n",
       "      <td>Andelsbolig</td>\n",
       "      <td>NaN</td>\n",
       "    </tr>\n",
       "    <tr>\n",
       "      <th>...</th>\n",
       "      <td>...</td>\n",
       "      <td>...</td>\n",
       "      <td>...</td>\n",
       "      <td>...</td>\n",
       "      <td>...</td>\n",
       "      <td>...</td>\n",
       "    </tr>\n",
       "    <tr>\n",
       "      <th>2381</th>\n",
       "      <td>13727</td>\n",
       "      <td>Sjældent</td>\n",
       "      <td>85000</td>\n",
       "      <td>Parcelhus</td>\n",
       "      <td>Ejerbolig</td>\n",
       "      <td>100000.0</td>\n",
       "    </tr>\n",
       "    <tr>\n",
       "      <th>2382</th>\n",
       "      <td>13728</td>\n",
       "      <td>Sjældent</td>\n",
       "      <td>25000</td>\n",
       "      <td>Parcelhus</td>\n",
       "      <td>Ejerbolig</td>\n",
       "      <td>NaN</td>\n",
       "    </tr>\n",
       "    <tr>\n",
       "      <th>2383</th>\n",
       "      <td>13729</td>\n",
       "      <td>Sjældent</td>\n",
       "      <td>40000</td>\n",
       "      <td>Parcelhus</td>\n",
       "      <td>Ejerbolig</td>\n",
       "      <td>NaN</td>\n",
       "    </tr>\n",
       "    <tr>\n",
       "      <th>2384</th>\n",
       "      <td>13730</td>\n",
       "      <td>Sommetider</td>\n",
       "      <td>42000</td>\n",
       "      <td>Parcelhus</td>\n",
       "      <td>Ejerbolig</td>\n",
       "      <td>NaN</td>\n",
       "    </tr>\n",
       "    <tr>\n",
       "      <th>2385</th>\n",
       "      <td>13731</td>\n",
       "      <td>Sjældent</td>\n",
       "      <td>31000</td>\n",
       "      <td>Etagebolig</td>\n",
       "      <td>Ejerbolig</td>\n",
       "      <td>40000.0</td>\n",
       "    </tr>\n",
       "  </tbody>\n",
       "</table>\n",
       "<p>2386 rows × 6 columns</p>\n",
       "</div>"
      ],
      "text/plain": [
       "      respnr Føler du stress for tiden?  \\\n",
       "0      10001                     Aldrig   \n",
       "1      10002                   Sjældent   \n",
       "2      10003                   Sjældent   \n",
       "3      10004                     Aldrig   \n",
       "4      10005                 Sommetider   \n",
       "...      ...                        ...   \n",
       "2381   13727                   Sjældent   \n",
       "2382   13728                   Sjældent   \n",
       "2383   13729                   Sjældent   \n",
       "2384   13730                 Sommetider   \n",
       "2385   13731                   Sjældent   \n",
       "\n",
       "      Husholdnings samlede månedelige indkomst  \\\n",
       "0                                        18000   \n",
       "1                                        60000   \n",
       "2                                        11000   \n",
       "3                                        14000   \n",
       "4                                        65000   \n",
       "...                                        ...   \n",
       "2381                                     85000   \n",
       "2382                                     25000   \n",
       "2383                                     40000   \n",
       "2384                                     42000   \n",
       "2385                                     31000   \n",
       "\n",
       "     Hvilken type bolig er din helårsbolig?  \\\n",
       "0                                 Parcelhus   \n",
       "1                                 Parcelhus   \n",
       "2                                Etagebolig   \n",
       "3                         Række-/dobbelthus   \n",
       "4                         Række-/dobbelthus   \n",
       "...                                     ...   \n",
       "2381                              Parcelhus   \n",
       "2382                              Parcelhus   \n",
       "2383                              Parcelhus   \n",
       "2384                              Parcelhus   \n",
       "2385                             Etagebolig   \n",
       "\n",
       "     Bor du i ejer-, leje- eller andelsbolig?  \\\n",
       "0                                   Ejerbolig   \n",
       "1                                   Ejerbolig   \n",
       "2                                   Lejebolig   \n",
       "3                                   Lejebolig   \n",
       "4                                 Andelsbolig   \n",
       "...                                       ...   \n",
       "2381                                Ejerbolig   \n",
       "2382                                Ejerbolig   \n",
       "2383                                Ejerbolig   \n",
       "2384                                Ejerbolig   \n",
       "2385                                Ejerbolig   \n",
       "\n",
       "      Den samlede værdi af husholdningens kontante opsparing i hjemmet eller banken  \n",
       "0                                               90000.0                              \n",
       "1                                              100000.0                              \n",
       "2                                                   NaN                              \n",
       "3                                              100000.0                              \n",
       "4                                                   NaN                              \n",
       "...                                                 ...                              \n",
       "2381                                           100000.0                              \n",
       "2382                                                NaN                              \n",
       "2383                                                NaN                              \n",
       "2384                                                NaN                              \n",
       "2385                                            40000.0                              \n",
       "\n",
       "[2386 rows x 6 columns]"
      ]
     },
     "execution_count": 28,
     "metadata": {},
     "output_type": "execute_result"
    }
   ],
   "source": [
    "df"
   ]
  },
  {
   "cell_type": "code",
   "execution_count": 29,
   "id": "18c6c6d8-c3e3-4386-95ca-95f4d11e37fe",
   "metadata": {
    "tags": []
   },
   "outputs": [
    {
     "data": {
      "text/plain": [
       "Index(['respnr', 'Føler du stress for tiden?',\n",
       "       'Husholdnings samlede månedelige indkomst',\n",
       "       'Hvilken type bolig er din helårsbolig?',\n",
       "       'Bor du i ejer-, leje- eller andelsbolig?',\n",
       "       'Den samlede værdi af husholdningens kontante opsparing i hjemmet eller banken'],\n",
       "      dtype='object')"
      ]
     },
     "execution_count": 29,
     "metadata": {},
     "output_type": "execute_result"
    }
   ],
   "source": [
    "df.columns"
   ]
  },
  {
   "cell_type": "code",
   "execution_count": 30,
   "id": "a6f85b94-290f-44f2-8024-05439db5f4d2",
   "metadata": {
    "tags": []
   },
   "outputs": [],
   "source": [
    "df= df.rename(columns={'respnr':'nr', 'Føler du stress for tiden?':'stres?',\n",
    "       'Husholdnings samlede månedelige indkomst':'indkomst',\n",
    "       'Hvilken type bolig er din helårsbolig?':'type_bolig',\n",
    "       'Bor du i ejer-, leje- eller andelsbolig?':'bor/ejer',\n",
    "       'Den samlede værdi af husholdningens kontante opsparing i hjemmet eller banken':'opsparing'}).copy()"
   ]
  },
  {
   "cell_type": "markdown",
   "id": "7bc46a70-28dd-4d73-961d-009700ed9c9a",
   "metadata": {},
   "source": [
    "# 1) Lav histogram for husholdningden samlede månedelige indkomst, med 10.000 kr intervaller. Og maks værdi på 150.000 kr. <br> Brug Grupper funktion, når du højre klikker en celle under rækkenavne:"
   ]
  },
  {
   "cell_type": "code",
   "execution_count": 120,
   "id": "f3453db1-f505-45bd-8f45-dda4b6e3fda6",
   "metadata": {
    "tags": []
   },
   "outputs": [
    {
     "data": {
      "text/html": [
       "<div>\n",
       "<style scoped>\n",
       "    .dataframe tbody tr th:only-of-type {\n",
       "        vertical-align: middle;\n",
       "    }\n",
       "\n",
       "    .dataframe tbody tr th {\n",
       "        vertical-align: top;\n",
       "    }\n",
       "\n",
       "    .dataframe thead th {\n",
       "        text-align: right;\n",
       "    }\n",
       "</style>\n",
       "<table border=\"1\" class=\"dataframe\">\n",
       "  <thead>\n",
       "    <tr style=\"text-align: right;\">\n",
       "      <th></th>\n",
       "      <th>nr</th>\n",
       "      <th>stres?</th>\n",
       "      <th>indkomst</th>\n",
       "      <th>type_bolig</th>\n",
       "      <th>bor/ejer</th>\n",
       "      <th>opsparing</th>\n",
       "    </tr>\n",
       "  </thead>\n",
       "  <tbody>\n",
       "    <tr>\n",
       "      <th>0</th>\n",
       "      <td>10001</td>\n",
       "      <td>Aldrig</td>\n",
       "      <td>18000</td>\n",
       "      <td>Parcelhus</td>\n",
       "      <td>Ejerbolig</td>\n",
       "      <td>90000.0</td>\n",
       "    </tr>\n",
       "    <tr>\n",
       "      <th>1</th>\n",
       "      <td>10002</td>\n",
       "      <td>Sjældent</td>\n",
       "      <td>60000</td>\n",
       "      <td>Parcelhus</td>\n",
       "      <td>Ejerbolig</td>\n",
       "      <td>100000.0</td>\n",
       "    </tr>\n",
       "    <tr>\n",
       "      <th>2</th>\n",
       "      <td>10003</td>\n",
       "      <td>Sjældent</td>\n",
       "      <td>11000</td>\n",
       "      <td>Etagebolig</td>\n",
       "      <td>Lejebolig</td>\n",
       "      <td>NaN</td>\n",
       "    </tr>\n",
       "    <tr>\n",
       "      <th>3</th>\n",
       "      <td>10004</td>\n",
       "      <td>Aldrig</td>\n",
       "      <td>14000</td>\n",
       "      <td>Række-/dobbelthus</td>\n",
       "      <td>Lejebolig</td>\n",
       "      <td>100000.0</td>\n",
       "    </tr>\n",
       "    <tr>\n",
       "      <th>4</th>\n",
       "      <td>10005</td>\n",
       "      <td>Sommetider</td>\n",
       "      <td>65000</td>\n",
       "      <td>Række-/dobbelthus</td>\n",
       "      <td>Andelsbolig</td>\n",
       "      <td>NaN</td>\n",
       "    </tr>\n",
       "    <tr>\n",
       "      <th>...</th>\n",
       "      <td>...</td>\n",
       "      <td>...</td>\n",
       "      <td>...</td>\n",
       "      <td>...</td>\n",
       "      <td>...</td>\n",
       "      <td>...</td>\n",
       "    </tr>\n",
       "    <tr>\n",
       "      <th>2381</th>\n",
       "      <td>13727</td>\n",
       "      <td>Sjældent</td>\n",
       "      <td>85000</td>\n",
       "      <td>Parcelhus</td>\n",
       "      <td>Ejerbolig</td>\n",
       "      <td>100000.0</td>\n",
       "    </tr>\n",
       "    <tr>\n",
       "      <th>2382</th>\n",
       "      <td>13728</td>\n",
       "      <td>Sjældent</td>\n",
       "      <td>25000</td>\n",
       "      <td>Parcelhus</td>\n",
       "      <td>Ejerbolig</td>\n",
       "      <td>NaN</td>\n",
       "    </tr>\n",
       "    <tr>\n",
       "      <th>2383</th>\n",
       "      <td>13729</td>\n",
       "      <td>Sjældent</td>\n",
       "      <td>40000</td>\n",
       "      <td>Parcelhus</td>\n",
       "      <td>Ejerbolig</td>\n",
       "      <td>NaN</td>\n",
       "    </tr>\n",
       "    <tr>\n",
       "      <th>2384</th>\n",
       "      <td>13730</td>\n",
       "      <td>Sommetider</td>\n",
       "      <td>42000</td>\n",
       "      <td>Parcelhus</td>\n",
       "      <td>Ejerbolig</td>\n",
       "      <td>NaN</td>\n",
       "    </tr>\n",
       "    <tr>\n",
       "      <th>2385</th>\n",
       "      <td>13731</td>\n",
       "      <td>Sjældent</td>\n",
       "      <td>31000</td>\n",
       "      <td>Etagebolig</td>\n",
       "      <td>Ejerbolig</td>\n",
       "      <td>40000.0</td>\n",
       "    </tr>\n",
       "  </tbody>\n",
       "</table>\n",
       "<p>2386 rows × 6 columns</p>\n",
       "</div>"
      ],
      "text/plain": [
       "         nr      stres?  indkomst         type_bolig     bor/ejer  opsparing\n",
       "0     10001      Aldrig     18000          Parcelhus    Ejerbolig    90000.0\n",
       "1     10002    Sjældent     60000          Parcelhus    Ejerbolig   100000.0\n",
       "2     10003    Sjældent     11000         Etagebolig    Lejebolig        NaN\n",
       "3     10004      Aldrig     14000  Række-/dobbelthus    Lejebolig   100000.0\n",
       "4     10005  Sommetider     65000  Række-/dobbelthus  Andelsbolig        NaN\n",
       "...     ...         ...       ...                ...          ...        ...\n",
       "2381  13727    Sjældent     85000          Parcelhus    Ejerbolig   100000.0\n",
       "2382  13728    Sjældent     25000          Parcelhus    Ejerbolig        NaN\n",
       "2383  13729    Sjældent     40000          Parcelhus    Ejerbolig        NaN\n",
       "2384  13730  Sommetider     42000          Parcelhus    Ejerbolig        NaN\n",
       "2385  13731    Sjældent     31000         Etagebolig    Ejerbolig    40000.0\n",
       "\n",
       "[2386 rows x 6 columns]"
      ]
     },
     "execution_count": 120,
     "metadata": {},
     "output_type": "execute_result"
    }
   ],
   "source": [
    "df"
   ]
  },
  {
   "cell_type": "code",
   "execution_count": 183,
   "id": "4bc0b1a8-6b36-4ce3-8345-4d274bb9c4d4",
   "metadata": {
    "tags": []
   },
   "outputs": [],
   "source": [
    "histopsp = df[df['opsparing'].notna()]"
   ]
  },
  {
   "cell_type": "code",
   "execution_count": 184,
   "id": "d76fd2cb-1619-418e-b20c-3dd025e5d80a",
   "metadata": {
    "tags": []
   },
   "outputs": [],
   "source": [
    "histopsp = round(histopsp['opsparing'],2)"
   ]
  },
  {
   "cell_type": "code",
   "execution_count": 186,
   "id": "2c782d42-14a7-420d-a1e2-91414ddc7b93",
   "metadata": {
    "tags": []
   },
   "outputs": [
    {
     "data": {
      "text/plain": [
       "count       1271.00\n",
       "mean      245743.67\n",
       "std       433420.07\n",
       "min            0.00\n",
       "25%        40000.00\n",
       "50%       100000.00\n",
       "75%       300000.00\n",
       "max      5000000.00\n",
       "Name: opsparing, dtype: float64"
      ]
     },
     "execution_count": 186,
     "metadata": {},
     "output_type": "execute_result"
    }
   ],
   "source": [
    "round(histopsp.describe(),2)"
   ]
  },
  {
   "cell_type": "code",
   "execution_count": 67,
   "id": "66542746-aafb-4c0c-afcf-0bfb8eb6eac4",
   "metadata": {
    "tags": []
   },
   "outputs": [],
   "source": [
    "histdata = round(df[df['indkomst']<=150000],2)"
   ]
  },
  {
   "cell_type": "code",
   "execution_count": 107,
   "id": "4270d58a-b4f8-4ffc-985d-9468fb9ce35a",
   "metadata": {
    "tags": []
   },
   "outputs": [
    {
     "data": {
      "text/plain": [
       "count      2309.00\n",
       "mean      40157.78\n",
       "std       27945.24\n",
       "min           0.00\n",
       "25%       20000.00\n",
       "50%       35500.00\n",
       "75%       58000.00\n",
       "max      150000.00\n",
       "Name: indkomst, dtype: float64"
      ]
     },
     "execution_count": 107,
     "metadata": {},
     "output_type": "execute_result"
    }
   ],
   "source": [
    "indkomstdata = round(df[df['indkomst']<=150000].describe(),2)\n",
    "indkomstdata['indkomst']"
   ]
  },
  {
   "cell_type": "code",
   "execution_count": 190,
   "id": "7be7f2bc-450f-443e-b316-7924a3905655",
   "metadata": {
    "tags": []
   },
   "outputs": [
    {
     "data": {
      "image/png": "[encoded data removed]",
      "text/plain": [
       "<Figure size 1800x400 with 3 Axes>"
      ]
     },
     "metadata": {},
     "output_type": "display_data"
    }
   ],
   "source": [
    "fig, axes = plt.subplots(1,3,figsize=(18,4))\n",
    "ax = axes[0]\n",
    "ax.hist(histdata['indkomst'],bins=15, color='blue', density=True)\n",
    "ax.grid(color='gray', linestyle='-', linewidth=0.5)\n",
    "ax.set_title('Indkomst')\n",
    "\n",
    "ax = axes[1]\n",
    "ax.boxplot(histdata['indkomst'], showmeans=True)\n",
    "ax.grid(color='gray', linestyle='-', linewidth=0.5)\n",
    "ax.set_title('Indkomst i boxplot')\n",
    "\n",
    "ax = axes[2]\n",
    "ax.hist(histopsp.sort_values(),bins=5, color='red')\n",
    "ax.grid(color='gray', linestyle='-', linewidth=0.5)\n",
    "ax.set_title('Opsparing')\n",
    "\n",
    "plt.show()"
   ]
  },
  {
   "cell_type": "code",
   "execution_count": null,
   "id": "98ae75f1-e27c-4201-ba50-9336187b7ee7",
   "metadata": {},
   "outputs": [],
   "source": []
  }
 ],
 "metadata": {
  "kernelspec": {
   "display_name": "Python 3 (ipykernel)",
   "language": "python",
   "name": "python3"
  },
  "language_info": {
   "codemirror_mode": {
    "name": "ipython",
    "version": 3
   },
   "file_extension": ".py",
   "mimetype": "text/x-python",
   "name": "python",
   "nbconvert_exporter": "python",
   "pygments_lexer": "ipython3",
   "version": "3.10.9"
  }
 },
 "nbformat": 4,
 "nbformat_minor": 5
}
