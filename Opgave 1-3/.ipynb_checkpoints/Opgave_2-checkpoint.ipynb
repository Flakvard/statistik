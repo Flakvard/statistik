{
 "cells": [
  {
   "cell_type": "markdown",
   "id": "489dcbd3-3d5b-4347-b3b4-b52af0702661",
   "metadata": {},
   "source": [
    "<h1>Opgave II. Download filen ”Tilfredsheds undersøgelsen)</h1>\n",
    "1) Lav frekvenstabel og søjlediagram for ”Primær Bank” variabel<br>\n",
    "2) Beregn gennemsnitlig tilfredshed og standardafvigelse for alle i stikprøven (i Excel: =middel(..), =stdafv.s( )<br>\n",
    "3) Beregn gennemsnitlig tilfredshed for hver bank kategori (nu med Pivot funktioner). Hvilken bank har mest tilfredse og mest utilfredse kunder? (Lav en søjlediagram)<br> \n",
    "4) Beregn gennemsnitlig alder og standard afvigelsen for alder for alle i stikprøven.<br>\n",
    "5) Beregn gennemsnitlig alder for hver bank kategori. Hvilken bank har mest tilfredse og mest utilfredse kunder? (Lav en søjlediagram) <br>"
   ]
  },
  {
   "cell_type": "code",
   "execution_count": 151,
   "id": "c371b67a-14a6-4710-b4b2-6937e09a57ee",
   "metadata": {
    "tags": []
   },
   "outputs": [],
   "source": [
    "import pandas as pd\n",
    "import matplotlib.pyplot as plt\n",
    "import numpy as np\n",
    "import seaborn as sns\n",
    "plt.style.use('ggplot')"
   ]
  },
  {
   "cell_type": "code",
   "execution_count": 28,
   "id": "9ea0b2f1-f5c1-4e23-b58e-d59ef7c7d236",
   "metadata": {
    "tags": []
   },
   "outputs": [],
   "source": [
    "df = pd.read_excel(\"./Tilfredshed bank.xlsx\", \"Complete\")"
   ]
  },
  {
   "cell_type": "code",
   "execution_count": 29,
   "id": "5c533705-adaa-4542-b210-9893362783b0",
   "metadata": {
    "tags": []
   },
   "outputs": [
    {
     "data": {
      "text/html": [
       "<div>\n",
       "<style scoped>\n",
       "    .dataframe tbody tr th:only-of-type {\n",
       "        vertical-align: middle;\n",
       "    }\n",
       "\n",
       "    .dataframe tbody tr th {\n",
       "        vertical-align: top;\n",
       "    }\n",
       "\n",
       "    .dataframe thead th {\n",
       "        text-align: right;\n",
       "    }\n",
       "</style>\n",
       "<table border=\"1\" class=\"dataframe\">\n",
       "  <thead>\n",
       "    <tr style=\"text-align: right;\">\n",
       "      <th></th>\n",
       "      <th>Hvad er din primære bank?</th>\n",
       "      <th>På en skala fra 1 til 10, hvor tilfreds er du alt i alt med din primære bank? (1=Meget Utilfreds, 10=Meget Tilfreds)</th>\n",
       "      <th>Hvad er din alder? (tast din alder ind)</th>\n",
       "      <th>E-mail</th>\n",
       "      <th>Samlet status - Ny</th>\n",
       "      <th>Samlet status - Distribueret</th>\n",
       "      <th>Samlet status - Nogen svar</th>\n",
       "      <th>Samlet status - Gennemført</th>\n",
       "      <th>Samlet status - Frafaldet</th>\n",
       "    </tr>\n",
       "  </thead>\n",
       "  <tbody>\n",
       "    <tr>\n",
       "      <th>0</th>\n",
       "      <td>Nykredit</td>\n",
       "      <td>3.0</td>\n",
       "      <td>22.0</td>\n",
       "      <td>NaN</td>\n",
       "      <td>0</td>\n",
       "      <td>0</td>\n",
       "      <td>0</td>\n",
       "      <td>1</td>\n",
       "      <td>0</td>\n",
       "    </tr>\n",
       "    <tr>\n",
       "      <th>1</th>\n",
       "      <td>Andet</td>\n",
       "      <td>7.0</td>\n",
       "      <td>24.0</td>\n",
       "      <td>NaN</td>\n",
       "      <td>0</td>\n",
       "      <td>0</td>\n",
       "      <td>0</td>\n",
       "      <td>1</td>\n",
       "      <td>0</td>\n",
       "    </tr>\n",
       "    <tr>\n",
       "      <th>2</th>\n",
       "      <td>Danske Bank</td>\n",
       "      <td>8.0</td>\n",
       "      <td>23.0</td>\n",
       "      <td>NaN</td>\n",
       "      <td>0</td>\n",
       "      <td>0</td>\n",
       "      <td>0</td>\n",
       "      <td>1</td>\n",
       "      <td>0</td>\n",
       "    </tr>\n",
       "    <tr>\n",
       "      <th>3</th>\n",
       "      <td>Sydbank</td>\n",
       "      <td>10.0</td>\n",
       "      <td>NaN</td>\n",
       "      <td>NaN</td>\n",
       "      <td>0</td>\n",
       "      <td>0</td>\n",
       "      <td>0</td>\n",
       "      <td>1</td>\n",
       "      <td>0</td>\n",
       "    </tr>\n",
       "    <tr>\n",
       "      <th>4</th>\n",
       "      <td>Danske Bank</td>\n",
       "      <td>6.0</td>\n",
       "      <td>NaN</td>\n",
       "      <td>NaN</td>\n",
       "      <td>0</td>\n",
       "      <td>0</td>\n",
       "      <td>0</td>\n",
       "      <td>1</td>\n",
       "      <td>0</td>\n",
       "    </tr>\n",
       "    <tr>\n",
       "      <th>...</th>\n",
       "      <td>...</td>\n",
       "      <td>...</td>\n",
       "      <td>...</td>\n",
       "      <td>...</td>\n",
       "      <td>...</td>\n",
       "      <td>...</td>\n",
       "      <td>...</td>\n",
       "      <td>...</td>\n",
       "      <td>...</td>\n",
       "    </tr>\n",
       "    <tr>\n",
       "      <th>195</th>\n",
       "      <td>Jyske Bank</td>\n",
       "      <td>6.0</td>\n",
       "      <td>23.0</td>\n",
       "      <td>NaN</td>\n",
       "      <td>0</td>\n",
       "      <td>0</td>\n",
       "      <td>0</td>\n",
       "      <td>1</td>\n",
       "      <td>0</td>\n",
       "    </tr>\n",
       "    <tr>\n",
       "      <th>196</th>\n",
       "      <td>Andet</td>\n",
       "      <td>9.0</td>\n",
       "      <td>24.0</td>\n",
       "      <td>NaN</td>\n",
       "      <td>0</td>\n",
       "      <td>0</td>\n",
       "      <td>0</td>\n",
       "      <td>1</td>\n",
       "      <td>0</td>\n",
       "    </tr>\n",
       "    <tr>\n",
       "      <th>197</th>\n",
       "      <td>Andet</td>\n",
       "      <td>10.0</td>\n",
       "      <td>21.0</td>\n",
       "      <td>NaN</td>\n",
       "      <td>0</td>\n",
       "      <td>0</td>\n",
       "      <td>0</td>\n",
       "      <td>1</td>\n",
       "      <td>0</td>\n",
       "    </tr>\n",
       "    <tr>\n",
       "      <th>198</th>\n",
       "      <td>Nordea</td>\n",
       "      <td>7.0</td>\n",
       "      <td>26.0</td>\n",
       "      <td>NaN</td>\n",
       "      <td>0</td>\n",
       "      <td>0</td>\n",
       "      <td>0</td>\n",
       "      <td>1</td>\n",
       "      <td>0</td>\n",
       "    </tr>\n",
       "    <tr>\n",
       "      <th>199</th>\n",
       "      <td>Nordea</td>\n",
       "      <td>10.0</td>\n",
       "      <td>21.0</td>\n",
       "      <td>NaN</td>\n",
       "      <td>0</td>\n",
       "      <td>0</td>\n",
       "      <td>0</td>\n",
       "      <td>1</td>\n",
       "      <td>0</td>\n",
       "    </tr>\n",
       "  </tbody>\n",
       "</table>\n",
       "<p>200 rows × 9 columns</p>\n",
       "</div>"
      ],
      "text/plain": [
       "    Hvad er din primære bank?  \\\n",
       "0                    Nykredit   \n",
       "1                       Andet   \n",
       "2                 Danske Bank   \n",
       "3                     Sydbank   \n",
       "4                 Danske Bank   \n",
       "..                        ...   \n",
       "195                Jyske Bank   \n",
       "196                     Andet   \n",
       "197                     Andet   \n",
       "198                    Nordea   \n",
       "199                    Nordea   \n",
       "\n",
       "     På en skala fra 1 til 10, hvor tilfreds er du alt i alt med din primære bank? (1=Meget Utilfreds, 10=Meget Tilfreds)  \\\n",
       "0                                                  3.0                                                                      \n",
       "1                                                  7.0                                                                      \n",
       "2                                                  8.0                                                                      \n",
       "3                                                 10.0                                                                      \n",
       "4                                                  6.0                                                                      \n",
       "..                                                 ...                                                                      \n",
       "195                                                6.0                                                                      \n",
       "196                                                9.0                                                                      \n",
       "197                                               10.0                                                                      \n",
       "198                                                7.0                                                                      \n",
       "199                                               10.0                                                                      \n",
       "\n",
       "     Hvad er din alder? (tast din alder ind)  E-mail  Samlet status - Ny  \\\n",
       "0                                       22.0     NaN                   0   \n",
       "1                                       24.0     NaN                   0   \n",
       "2                                       23.0     NaN                   0   \n",
       "3                                        NaN     NaN                   0   \n",
       "4                                        NaN     NaN                   0   \n",
       "..                                       ...     ...                 ...   \n",
       "195                                     23.0     NaN                   0   \n",
       "196                                     24.0     NaN                   0   \n",
       "197                                     21.0     NaN                   0   \n",
       "198                                     26.0     NaN                   0   \n",
       "199                                     21.0     NaN                   0   \n",
       "\n",
       "     Samlet status - Distribueret  Samlet status - Nogen svar  \\\n",
       "0                               0                           0   \n",
       "1                               0                           0   \n",
       "2                               0                           0   \n",
       "3                               0                           0   \n",
       "4                               0                           0   \n",
       "..                            ...                         ...   \n",
       "195                             0                           0   \n",
       "196                             0                           0   \n",
       "197                             0                           0   \n",
       "198                             0                           0   \n",
       "199                             0                           0   \n",
       "\n",
       "     Samlet status - Gennemført  Samlet status - Frafaldet  \n",
       "0                             1                          0  \n",
       "1                             1                          0  \n",
       "2                             1                          0  \n",
       "3                             1                          0  \n",
       "4                             1                          0  \n",
       "..                          ...                        ...  \n",
       "195                           1                          0  \n",
       "196                           1                          0  \n",
       "197                           1                          0  \n",
       "198                           1                          0  \n",
       "199                           1                          0  \n",
       "\n",
       "[200 rows x 9 columns]"
      ]
     },
     "execution_count": 29,
     "metadata": {},
     "output_type": "execute_result"
    }
   ],
   "source": [
    "df"
   ]
  },
  {
   "cell_type": "code",
   "execution_count": 30,
   "id": "544c3e17-5b90-4427-a4d3-7ce7b6beed7c",
   "metadata": {
    "tags": []
   },
   "outputs": [],
   "source": [
    "df = df[['Hvad er din primære bank?',\n",
    "       'På en skala fra 1 til 10, hvor tilfreds er du alt i alt med din primære bank? (1=Meget Utilfreds, 10=Meget Tilfreds)',\n",
    "       'Hvad er din alder? (tast din alder ind)'\n",
    "        # 'E-mail',\n",
    "       # 'Samlet status - Ny', 'Samlet status - Distribueret',\n",
    "       # 'Samlet status - Nogen svar', 'Samlet status - Gennemført',\n",
    "       # 'Samlet status - Frafaldet'\n",
    "   ]].copy()"
   ]
  },
  {
   "cell_type": "code",
   "execution_count": 31,
   "id": "f16a7578-7dc0-40bf-a4bc-7718a1788f95",
   "metadata": {
    "tags": []
   },
   "outputs": [],
   "source": [
    "df = df.rename(columns={'Hvad er din primære bank?':'bank',\n",
    "       'På en skala fra 1 til 10, hvor tilfreds er du alt i alt med din primære bank? (1=Meget Utilfreds, 10=Meget Tilfreds)':'skala',\n",
    "       'Hvad er din alder? (tast din alder ind)':'alder'})"
   ]
  },
  {
   "cell_type": "code",
   "execution_count": 32,
   "id": "d4fdda24-a761-4807-9b45-a195f9378325",
   "metadata": {
    "tags": []
   },
   "outputs": [
    {
     "data": {
      "text/html": [
       "<div>\n",
       "<style scoped>\n",
       "    .dataframe tbody tr th:only-of-type {\n",
       "        vertical-align: middle;\n",
       "    }\n",
       "\n",
       "    .dataframe tbody tr th {\n",
       "        vertical-align: top;\n",
       "    }\n",
       "\n",
       "    .dataframe thead th {\n",
       "        text-align: right;\n",
       "    }\n",
       "</style>\n",
       "<table border=\"1\" class=\"dataframe\">\n",
       "  <thead>\n",
       "    <tr style=\"text-align: right;\">\n",
       "      <th></th>\n",
       "      <th>bank</th>\n",
       "      <th>skala</th>\n",
       "      <th>alder</th>\n",
       "    </tr>\n",
       "  </thead>\n",
       "  <tbody>\n",
       "    <tr>\n",
       "      <th>0</th>\n",
       "      <td>Nykredit</td>\n",
       "      <td>3.0</td>\n",
       "      <td>22.0</td>\n",
       "    </tr>\n",
       "    <tr>\n",
       "      <th>1</th>\n",
       "      <td>Andet</td>\n",
       "      <td>7.0</td>\n",
       "      <td>24.0</td>\n",
       "    </tr>\n",
       "    <tr>\n",
       "      <th>2</th>\n",
       "      <td>Danske Bank</td>\n",
       "      <td>8.0</td>\n",
       "      <td>23.0</td>\n",
       "    </tr>\n",
       "    <tr>\n",
       "      <th>3</th>\n",
       "      <td>Sydbank</td>\n",
       "      <td>10.0</td>\n",
       "      <td>NaN</td>\n",
       "    </tr>\n",
       "    <tr>\n",
       "      <th>4</th>\n",
       "      <td>Danske Bank</td>\n",
       "      <td>6.0</td>\n",
       "      <td>NaN</td>\n",
       "    </tr>\n",
       "    <tr>\n",
       "      <th>...</th>\n",
       "      <td>...</td>\n",
       "      <td>...</td>\n",
       "      <td>...</td>\n",
       "    </tr>\n",
       "    <tr>\n",
       "      <th>195</th>\n",
       "      <td>Jyske Bank</td>\n",
       "      <td>6.0</td>\n",
       "      <td>23.0</td>\n",
       "    </tr>\n",
       "    <tr>\n",
       "      <th>196</th>\n",
       "      <td>Andet</td>\n",
       "      <td>9.0</td>\n",
       "      <td>24.0</td>\n",
       "    </tr>\n",
       "    <tr>\n",
       "      <th>197</th>\n",
       "      <td>Andet</td>\n",
       "      <td>10.0</td>\n",
       "      <td>21.0</td>\n",
       "    </tr>\n",
       "    <tr>\n",
       "      <th>198</th>\n",
       "      <td>Nordea</td>\n",
       "      <td>7.0</td>\n",
       "      <td>26.0</td>\n",
       "    </tr>\n",
       "    <tr>\n",
       "      <th>199</th>\n",
       "      <td>Nordea</td>\n",
       "      <td>10.0</td>\n",
       "      <td>21.0</td>\n",
       "    </tr>\n",
       "  </tbody>\n",
       "</table>\n",
       "<p>200 rows × 3 columns</p>\n",
       "</div>"
      ],
      "text/plain": [
       "            bank  skala  alder\n",
       "0       Nykredit    3.0   22.0\n",
       "1          Andet    7.0   24.0\n",
       "2    Danske Bank    8.0   23.0\n",
       "3        Sydbank   10.0    NaN\n",
       "4    Danske Bank    6.0    NaN\n",
       "..           ...    ...    ...\n",
       "195   Jyske Bank    6.0   23.0\n",
       "196        Andet    9.0   24.0\n",
       "197        Andet   10.0   21.0\n",
       "198       Nordea    7.0   26.0\n",
       "199       Nordea   10.0   21.0\n",
       "\n",
       "[200 rows x 3 columns]"
      ]
     },
     "execution_count": 32,
     "metadata": {},
     "output_type": "execute_result"
    }
   ],
   "source": [
    "df"
   ]
  },
  {
   "cell_type": "markdown",
   "id": "deeaaaac-c715-40b0-aac4-93d16676d107",
   "metadata": {},
   "source": [
    "# 1) Lav frekvenstabel og søjlediagram for ”Primær Bank” variabel<br>"
   ]
  },
  {
   "cell_type": "code",
   "execution_count": 75,
   "id": "98089bd7-b47a-4a6a-95c0-3121a2dfc217",
   "metadata": {
    "tags": []
   },
   "outputs": [],
   "source": [
    "banker = df['bank'].value_counts(normalize=True).head(10)"
   ]
  },
  {
   "cell_type": "code",
   "execution_count": 84,
   "id": "b849c2b7-e561-4dd1-8f43-9947e3995740",
   "metadata": {
    "tags": []
   },
   "outputs": [
    {
     "data": {
      "text/plain": [
       "Danske Bank             31.63\n",
       "Andet                   23.98\n",
       "Nordea                  19.39\n",
       "Sydbank                 11.22\n",
       "Jyske Bank               6.12\n",
       "Nykredit                 4.08\n",
       "Arbejdernes Landsank     3.57\n",
       "Name: bank, dtype: float64"
      ]
     },
     "execution_count": 84,
     "metadata": {},
     "output_type": "execute_result"
    }
   ],
   "source": [
    "round(banker * 100,2)"
   ]
  },
  {
   "cell_type": "code",
   "execution_count": 152,
   "id": "ccd376e5-6357-4768-a83e-733d61915787",
   "metadata": {
    "tags": []
   },
   "outputs": [
    {
     "data": {
      "text/plain": [
       "<AxesSubplot: >"
      ]
     },
     "execution_count": 152,
     "metadata": {},
     "output_type": "execute_result"
    },
    {
     "data": {
      "image/png": "[encoded data removed]",
      "text/plain": [
       "<Figure size 640x480 with 1 Axes>"
      ]
     },
     "metadata": {},
     "output_type": "display_data"
    }
   ],
   "source": [
    "df['bank'].value_counts(normalize=True).head(10).plot(kind='barh')"
   ]
  },
  {
   "cell_type": "markdown",
   "id": "2e73002b-1fa4-445b-b800-e9d2c13e292d",
   "metadata": {},
   "source": [
    "# 2) Beregn gennemsnitlig tilfredshed og standardafvigelse for alle i stikprøven (i Excel: =middel(..), =stdafv.s( )<br>"
   ]
  },
  {
   "cell_type": "code",
   "execution_count": 176,
   "id": "e1a464fa-5f8a-4e5d-abc8-d7e186480c5d",
   "metadata": {
    "tags": []
   },
   "outputs": [
    {
     "data": {
      "text/plain": [
       "count    192.00\n",
       "mean       7.10\n",
       "std        2.07\n",
       "min        1.00\n",
       "25%        6.00\n",
       "50%        7.00\n",
       "75%        8.00\n",
       "max       10.00\n",
       "Name: skala, dtype: float64"
      ]
     },
     "execution_count": 176,
     "metadata": {},
     "output_type": "execute_result"
    }
   ],
   "source": [
    "round(df['skala'].describe(),2)"
   ]
  },
  {
   "cell_type": "code",
   "execution_count": 97,
   "id": "b8767a1c-a0b4-458a-b072-362430f7bff6",
   "metadata": {
    "tags": []
   },
   "outputs": [
    {
     "data": {
      "text/plain": [
       "2.07"
      ]
     },
     "execution_count": 97,
     "metadata": {},
     "output_type": "execute_result"
    }
   ],
   "source": [
    "round(df['skala'].std(),2)"
   ]
  },
  {
   "cell_type": "code",
   "execution_count": 98,
   "id": "7e61632d-b2db-41e6-8c39-8caf25fc013e",
   "metadata": {
    "tags": []
   },
   "outputs": [
    {
     "data": {
      "text/plain": [
       "7.1"
      ]
     },
     "execution_count": 98,
     "metadata": {},
     "output_type": "execute_result"
    }
   ],
   "source": [
    "round(df['skala'].mean(),2)"
   ]
  },
  {
   "cell_type": "code",
   "execution_count": 153,
   "id": "ce28cd5d-a10c-4e39-99f2-db74298a82e8",
   "metadata": {
    "tags": []
   },
   "outputs": [
    {
     "data": {
      "image/png": "[encoded data removed]",
      "text/plain": [
       "<Figure size 640x480 with 1 Axes>"
      ]
     },
     "metadata": {},
     "output_type": "display_data"
    }
   ],
   "source": [
    "# Plot the box plot of single column of DataFrame\n",
    "box_plot = df.boxplot()\n",
    "box_plot.plot()\n",
    "plt.show() "
   ]
  },
  {
   "cell_type": "markdown",
   "id": "c2e2c1d6-1f4c-4e11-aac1-332e084be4c0",
   "metadata": {
    "tags": []
   },
   "source": [
    "# 3) Beregn gennemsnitlig tilfredshed for hver bank kategori (nu med Pivot funktioner). Hvilken bank har mest tilfredse og mest utilfredse kunder? (Lav en søjlediagram)<br> "
   ]
  },
  {
   "cell_type": "code",
   "execution_count": 207,
   "id": "3d0ed0ba-b3d3-47f7-8608-cb58bba266b8",
   "metadata": {
    "tags": []
   },
   "outputs": [],
   "source": [
    "bank = df[['bank','skala']].groupby('bank').mean().sort_values(by=['skala','bank'])"
   ]
  },
  {
   "cell_type": "code",
   "execution_count": 209,
   "id": "f4f12dad-5bb8-483c-a0c3-c558157542a4",
   "metadata": {
    "tags": []
   },
   "outputs": [
    {
     "data": {
      "text/html": [
       "<style type=\"text/css\">\n",
       "#T_f3e92_row0_col0 {\n",
       "  background-color: #f7fcf5;\n",
       "  color: #000000;\n",
       "}\n",
       "#T_f3e92_row1_col0 {\n",
       "  background-color: #c1e6ba;\n",
       "  color: #000000;\n",
       "}\n",
       "#T_f3e92_row2_col0 {\n",
       "  background-color: #aedea7;\n",
       "  color: #000000;\n",
       "}\n",
       "#T_f3e92_row3_col0 {\n",
       "  background-color: #a5db9f;\n",
       "  color: #000000;\n",
       "}\n",
       "#T_f3e92_row4_col0 {\n",
       "  background-color: #45ad5f;\n",
       "  color: #f1f1f1;\n",
       "}\n",
       "#T_f3e92_row5_col0 {\n",
       "  background-color: #16803c;\n",
       "  color: #f1f1f1;\n",
       "}\n",
       "#T_f3e92_row6_col0 {\n",
       "  background-color: #00441b;\n",
       "  color: #f1f1f1;\n",
       "}\n",
       "</style>\n",
       "<table id=\"T_f3e92\">\n",
       "  <thead>\n",
       "    <tr>\n",
       "      <th class=\"blank\" >&nbsp;</th>\n",
       "      <th class=\"blank level0\" >&nbsp;</th>\n",
       "      <th id=\"T_f3e92_level0_col0\" class=\"col_heading level0 col0\" >0</th>\n",
       "    </tr>\n",
       "    <tr>\n",
       "      <th class=\"index_name level0\" >&nbsp;</th>\n",
       "      <th class=\"index_name level1\" >bank</th>\n",
       "      <th class=\"blank col0\" >&nbsp;</th>\n",
       "    </tr>\n",
       "  </thead>\n",
       "  <tbody>\n",
       "    <tr>\n",
       "      <th id=\"T_f3e92_level0_row0\" class=\"row_heading level0 row0\" rowspan=\"7\">skala</th>\n",
       "      <th id=\"T_f3e92_level1_row0\" class=\"row_heading level1 row0\" >Nykredit</th>\n",
       "      <td id=\"T_f3e92_row0_col0\" class=\"data row0 col0\" >6.250000</td>\n",
       "    </tr>\n",
       "    <tr>\n",
       "      <th id=\"T_f3e92_level1_row1\" class=\"row_heading level1 row1\" >Danske Bank</th>\n",
       "      <td id=\"T_f3e92_row1_col0\" class=\"data row1 col0\" >6.750000</td>\n",
       "    </tr>\n",
       "    <tr>\n",
       "      <th id=\"T_f3e92_level1_row2\" class=\"row_heading level1 row2\" >Nordea</th>\n",
       "      <td id=\"T_f3e92_row2_col0\" class=\"data row2 col0\" >6.864865</td>\n",
       "    </tr>\n",
       "    <tr>\n",
       "      <th id=\"T_f3e92_level1_row3\" class=\"row_heading level1 row3\" >Jyske Bank</th>\n",
       "      <td id=\"T_f3e92_row3_col0\" class=\"data row3 col0\" >6.916667</td>\n",
       "    </tr>\n",
       "    <tr>\n",
       "      <th id=\"T_f3e92_level1_row4\" class=\"row_heading level1 row4\" >Andet</th>\n",
       "      <td id=\"T_f3e92_row4_col0\" class=\"data row4 col0\" >7.382979</td>\n",
       "    </tr>\n",
       "    <tr>\n",
       "      <th id=\"T_f3e92_level1_row5\" class=\"row_heading level1 row5\" >Arbejdernes Landsank</th>\n",
       "      <td id=\"T_f3e92_row5_col0\" class=\"data row5 col0\" >7.714286</td>\n",
       "    </tr>\n",
       "    <tr>\n",
       "      <th id=\"T_f3e92_level1_row6\" class=\"row_heading level1 row6\" >Sydbank</th>\n",
       "      <td id=\"T_f3e92_row6_col0\" class=\"data row6 col0\" >8.095238</td>\n",
       "    </tr>\n",
       "  </tbody>\n",
       "</table>\n"
      ],
      "text/plain": [
       "<pandas.io.formats.style.Styler at 0x7f5e221a39d0>"
      ]
     },
     "execution_count": 209,
     "metadata": {},
     "output_type": "execute_result"
    }
   ],
   "source": [
    "bank.unstack().to_frame().style.background_gradient(cmap=\"Greens\", axis=0)"
   ]
  },
  {
   "cell_type": "code",
   "execution_count": 226,
   "id": "2b9a9d59-9c96-4800-a886-52b202a925e1",
   "metadata": {
    "tags": []
   },
   "outputs": [
    {
     "data": {
      "text/plain": [
       "<AxesSubplot: ylabel='bank'>"
      ]
     },
     "execution_count": 226,
     "metadata": {},
     "output_type": "execute_result"
    },
    {
     "data": {
      "image/png": "[encoded data removed]",
      "text/plain": [
       "<Figure size 640x480 with 1 Axes>"
      ]
     },
     "metadata": {},
     "output_type": "display_data"
    }
   ],
   "source": [
    "bank.plot(kind='barh', color='green')"
   ]
  },
  {
   "cell_type": "markdown",
   "id": "a4110dee-3efc-40e7-8300-4ed8b50e2ea2",
   "metadata": {},
   "source": [
    "# 4) Beregn gennemsnitlig alder og standard afvigelsen for alder for alle i stikprøven.<br>"
   ]
  },
  {
   "cell_type": "code",
   "execution_count": 233,
   "id": "cff6cde0-6878-4ae1-813b-bdc1536322f7",
   "metadata": {
    "tags": []
   },
   "outputs": [
    {
     "data": {
      "text/plain": [
       "count    102.000000\n",
       "mean      22.931373\n",
       "std        5.044868\n",
       "min       19.000000\n",
       "25%       21.000000\n",
       "50%       22.000000\n",
       "75%       23.000000\n",
       "max       56.000000\n",
       "Name: alder, dtype: float64"
      ]
     },
     "execution_count": 233,
     "metadata": {},
     "output_type": "execute_result"
    }
   ],
   "source": [
    "df['alder'].describe()"
   ]
  },
  {
   "cell_type": "code",
   "execution_count": 247,
   "id": "a76174fd-fc74-4cc6-b8da-236b4f34ddea",
   "metadata": {
    "tags": []
   },
   "outputs": [
    {
     "name": "stdout",
     "output_type": "stream",
     "text": [
      " Standard afvigelsen for alder =  5.04 \n",
      " Gennemsnitlig alder =  22.93\n"
     ]
    }
   ],
   "source": [
    "std = df['alder'].std()\n",
    "gns = df['alder'].mean()\n",
    "print(\" Standard afvigelsen for alder = \",round(std,2),\"\\n\",\"Gennemsnitlig alder = \", round(gns,2))"
   ]
  },
  {
   "cell_type": "markdown",
   "id": "35a926a5-03c3-4371-8683-674cd702f499",
   "metadata": {},
   "source": [
    "# 5) Beregn gennemsnitlig alder for hver bank kategori. Hvilken bank har mest tilfredse og mest utilfredse kunder? (Lav en søjlediagram) <br>"
   ]
  },
  {
   "cell_type": "code",
   "execution_count": 292,
   "id": "11e5b376-ec26-410d-a2f1-3f3b0f11929d",
   "metadata": {
    "tags": []
   },
   "outputs": [],
   "source": [
    "bankerman = df[['bank','skala','alder']].groupby('bank').mean().sort_values(by=['alder','skala'])"
   ]
  },
  {
   "cell_type": "code",
   "execution_count": 293,
   "id": "736309f9-2e5e-4a2e-a07e-c4e7b2b07686",
   "metadata": {
    "tags": []
   },
   "outputs": [
    {
     "data": {
      "text/html": [
       "<style type=\"text/css\">\n",
       "#T_b350c_row0_col0 {\n",
       "  background-color: #16803c;\n",
       "  color: #f1f1f1;\n",
       "}\n",
       "#T_b350c_row0_col1, #T_b350c_row5_col0 {\n",
       "  background-color: #f7fcf5;\n",
       "  color: #000000;\n",
       "}\n",
       "#T_b350c_row1_col0 {\n",
       "  background-color: #a5db9f;\n",
       "  color: #000000;\n",
       "}\n",
       "#T_b350c_row1_col1 {\n",
       "  background-color: #a3da9d;\n",
       "  color: #000000;\n",
       "}\n",
       "#T_b350c_row2_col0 {\n",
       "  background-color: #c1e6ba;\n",
       "  color: #000000;\n",
       "}\n",
       "#T_b350c_row2_col1 {\n",
       "  background-color: #80ca80;\n",
       "  color: #000000;\n",
       "}\n",
       "#T_b350c_row3_col0 {\n",
       "  background-color: #45ad5f;\n",
       "  color: #f1f1f1;\n",
       "}\n",
       "#T_b350c_row3_col1 {\n",
       "  background-color: #6dc072;\n",
       "  color: #000000;\n",
       "}\n",
       "#T_b350c_row4_col0, #T_b350c_row6_col1 {\n",
       "  background-color: #00441b;\n",
       "  color: #f1f1f1;\n",
       "}\n",
       "#T_b350c_row4_col1 {\n",
       "  background-color: #62bb6d;\n",
       "  color: #f1f1f1;\n",
       "}\n",
       "#T_b350c_row5_col1 {\n",
       "  background-color: #2e964d;\n",
       "  color: #f1f1f1;\n",
       "}\n",
       "#T_b350c_row6_col0 {\n",
       "  background-color: #aedea7;\n",
       "  color: #000000;\n",
       "}\n",
       "</style>\n",
       "<table id=\"T_b350c\">\n",
       "  <thead>\n",
       "    <tr>\n",
       "      <th class=\"blank level0\" >&nbsp;</th>\n",
       "      <th id=\"T_b350c_level0_col0\" class=\"col_heading level0 col0\" >skala</th>\n",
       "      <th id=\"T_b350c_level0_col1\" class=\"col_heading level0 col1\" >alder</th>\n",
       "    </tr>\n",
       "    <tr>\n",
       "      <th class=\"index_name level0\" >bank</th>\n",
       "      <th class=\"blank col0\" >&nbsp;</th>\n",
       "      <th class=\"blank col1\" >&nbsp;</th>\n",
       "    </tr>\n",
       "  </thead>\n",
       "  <tbody>\n",
       "    <tr>\n",
       "      <th id=\"T_b350c_level0_row0\" class=\"row_heading level0 row0\" >Arbejdernes Landsank</th>\n",
       "      <td id=\"T_b350c_row0_col0\" class=\"data row0 col0\" >7.714286</td>\n",
       "      <td id=\"T_b350c_row0_col1\" class=\"data row0 col1\" >20.000000</td>\n",
       "    </tr>\n",
       "    <tr>\n",
       "      <th id=\"T_b350c_level0_row1\" class=\"row_heading level0 row1\" >Jyske Bank</th>\n",
       "      <td id=\"T_b350c_row1_col0\" class=\"data row1 col0\" >6.916667</td>\n",
       "      <td id=\"T_b350c_row1_col1\" class=\"data row1 col1\" >21.750000</td>\n",
       "    </tr>\n",
       "    <tr>\n",
       "      <th id=\"T_b350c_level0_row2\" class=\"row_heading level0 row2\" >Danske Bank</th>\n",
       "      <td id=\"T_b350c_row2_col0\" class=\"data row2 col0\" >6.750000</td>\n",
       "      <td id=\"T_b350c_row2_col1\" class=\"data row2 col1\" >22.214286</td>\n",
       "    </tr>\n",
       "    <tr>\n",
       "      <th id=\"T_b350c_level0_row3\" class=\"row_heading level0 row3\" >Andet</th>\n",
       "      <td id=\"T_b350c_row3_col0\" class=\"data row3 col0\" >7.382979</td>\n",
       "      <td id=\"T_b350c_row3_col1\" class=\"data row3 col1\" >22.444444</td>\n",
       "    </tr>\n",
       "    <tr>\n",
       "      <th id=\"T_b350c_level0_row4\" class=\"row_heading level0 row4\" >Sydbank</th>\n",
       "      <td id=\"T_b350c_row4_col0\" class=\"data row4 col0\" >8.095238</td>\n",
       "      <td id=\"T_b350c_row4_col1\" class=\"data row4 col1\" >22.583333</td>\n",
       "    </tr>\n",
       "    <tr>\n",
       "      <th id=\"T_b350c_level0_row5\" class=\"row_heading level0 row5\" >Nykredit</th>\n",
       "      <td id=\"T_b350c_row5_col0\" class=\"data row5 col0\" >6.250000</td>\n",
       "      <td id=\"T_b350c_row5_col1\" class=\"data row5 col1\" >23.333333</td>\n",
       "    </tr>\n",
       "    <tr>\n",
       "      <th id=\"T_b350c_level0_row6\" class=\"row_heading level0 row6\" >Nordea</th>\n",
       "      <td id=\"T_b350c_row6_col0\" class=\"data row6 col0\" >6.864865</td>\n",
       "      <td id=\"T_b350c_row6_col1\" class=\"data row6 col1\" >24.730769</td>\n",
       "    </tr>\n",
       "  </tbody>\n",
       "</table>\n"
      ],
      "text/plain": [
       "<pandas.io.formats.style.Styler at 0x7f5e20c9af20>"
      ]
     },
     "execution_count": 293,
     "metadata": {},
     "output_type": "execute_result"
    }
   ],
   "source": [
    "bankerman.style.background_gradient(cmap=\"Greens\", axis=0)"
   ]
  },
  {
   "cell_type": "code",
   "execution_count": 294,
   "id": "5260c255-e51f-4a95-b3dd-3e183163aa0c",
   "metadata": {
    "tags": []
   },
   "outputs": [
    {
     "data": {
      "text/plain": [
       "<AxesSubplot: xlabel='bank'>"
      ]
     },
     "execution_count": 294,
     "metadata": {},
     "output_type": "execute_result"
    },
    {
     "data": {
      "image/png": "[encoded data removed]",
      "text/plain": [
       "<Figure size 640x480 with 1 Axes>"
      ]
     },
     "metadata": {},
     "output_type": "display_data"
    }
   ],
   "source": [
    "bankerman.plot(kind='bar')"
   ]
  }
 ],
 "metadata": {
  "kernelspec": {
   "display_name": "Python 3 (ipykernel)",
   "language": "python",
   "name": "python3"
  },
  "language_info": {
   "codemirror_mode": {
    "name": "ipython",
    "version": 3
   },
   "file_extension": ".py",
   "mimetype": "text/x-python",
   "name": "python",
   "nbconvert_exporter": "python",
   "pygments_lexer": "ipython3",
   "version": "3.10.9"
  }
 },
 "nbformat": 4,
 "nbformat_minor": 5
}
