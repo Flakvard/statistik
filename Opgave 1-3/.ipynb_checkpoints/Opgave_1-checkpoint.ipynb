{
 "cells": [
  {
   "cell_type": "markdown",
   "id": "9b3252ba-f74c-4906-8693-d55929b9e520",
   "metadata": {
    "tags": []
   },
   "source": [
    "<h1> Opgave I. Download filen ”Invest i værdipapirer”</h1>\n",
    "Alle tabeller og søjlediagrammer skal indsættes i teksfil ”Dagens opgaver” under de forskelige spørgsmål. <br>\n",
    "Svar på følgende spørgsmål: <br>\n",
    "1) Hvor mange invester i værdipairer? (beregn frekvenser og tilføj lagkagefigur)<br>\n",
    "2) Beregn frekvenser for de forskellige uddannelser (illustrer med søjlediagram)<br>\n",
    "3) Beregn andel af HHX’er, som har værdipapirer<br>\n",
    "4) Er der sammenhæng mellem uddannelsesniveau og om man invester i værdipapirer? (illustrer med søjlediagram)<br>\n",
    "5) Er der sammenhæng mellem alder og hvor meget man har investeret?<br>\n",
    "    \n",
    "    "
   ]
  },
  {
   "cell_type": "code",
   "execution_count": 22,
   "id": "b2dc4ea1-da85-4ade-8cfe-1d63cb52dddb",
   "metadata": {
    "tags": []
   },
   "outputs": [],
   "source": [
    "import pandas as pd\n",
    "import numpy as np\n",
    "import matplotlib.pyplot as plt\n",
    "import seaborn as sns\n",
    "\n",
    "plt.style.use('ggplot')\n",
    "pd.set_option('display.max_columns',50)"
   ]
  },
  {
   "cell_type": "code",
   "execution_count": 72,
   "id": "f175e281-e8b0-4b3a-89e8-060dc155a7fa",
   "metadata": {
    "tags": []
   },
   "outputs": [],
   "source": [
    "df = pd.read_excel(\"./Invest værdipapirer.xlsx\",\"Complete\")"
   ]
  },
  {
   "cell_type": "code",
   "execution_count": 50,
   "id": "85fcb764-c378-4e8d-8d41-c3128d8f4211",
   "metadata": {
    "tags": []
   },
   "outputs": [
    {
     "data": {
      "text/plain": [
       "(184, 11)"
      ]
     },
     "execution_count": 50,
     "metadata": {},
     "output_type": "execute_result"
    }
   ],
   "source": [
    "df.shape #Shows rows and columns - (rows, columns = 184, 11)"
   ]
  },
  {
   "cell_type": "code",
   "execution_count": 51,
   "id": "2faccbec-bbf8-4040-81a0-03d150826742",
   "metadata": {
    "tags": []
   },
   "outputs": [
    {
     "data": {
      "text/html": [
       "<div>\n",
       "<style scoped>\n",
       "    .dataframe tbody tr th:only-of-type {\n",
       "        vertical-align: middle;\n",
       "    }\n",
       "\n",
       "    .dataframe tbody tr th {\n",
       "        vertical-align: top;\n",
       "    }\n",
       "\n",
       "    .dataframe thead th {\n",
       "        text-align: right;\n",
       "    }\n",
       "</style>\n",
       "<table border=\"1\" class=\"dataframe\">\n",
       "  <thead>\n",
       "    <tr style=\"text-align: right;\">\n",
       "      <th></th>\n",
       "      <th>Hvad er din alder?</th>\n",
       "      <th>Angiv din adgangsgivende eksamen til din nuværende uddannelse</th>\n",
       "      <th>Ejer du i dag værdipapirer, som f.eks. aktier og/eller obligationer?</th>\n",
       "      <th>Hvad er værdien af din portefølje i kr.?</th>\n",
       "      <th>Hvorfor investerer du ikke i værdipapirer?</th>\n",
       "      <th>E-mail</th>\n",
       "      <th>Samlet status - Ny</th>\n",
       "      <th>Samlet status - Distribueret</th>\n",
       "      <th>Samlet status - Nogen svar</th>\n",
       "      <th>Samlet status - Gennemført</th>\n",
       "      <th>Samlet status - Frafaldet</th>\n",
       "    </tr>\n",
       "  </thead>\n",
       "  <tbody>\n",
       "    <tr>\n",
       "      <th>0</th>\n",
       "      <td>20 - 21</td>\n",
       "      <td>STX (Almen studentereksamen)</td>\n",
       "      <td>Nej</td>\n",
       "      <td>NaN</td>\n",
       "      <td>Har ikke råd</td>\n",
       "      <td>NaN</td>\n",
       "      <td>0</td>\n",
       "      <td>0</td>\n",
       "      <td>0</td>\n",
       "      <td>1</td>\n",
       "      <td>0</td>\n",
       "    </tr>\n",
       "    <tr>\n",
       "      <th>1</th>\n",
       "      <td>22 - 23</td>\n",
       "      <td>HHX</td>\n",
       "      <td>Ja</td>\n",
       "      <td>1001 - 5000 kr.</td>\n",
       "      <td>NaN</td>\n",
       "      <td>NaN</td>\n",
       "      <td>0</td>\n",
       "      <td>0</td>\n",
       "      <td>0</td>\n",
       "      <td>1</td>\n",
       "      <td>0</td>\n",
       "    </tr>\n",
       "    <tr>\n",
       "      <th>2</th>\n",
       "      <td>24 eller mere</td>\n",
       "      <td>STX (Almen studentereksamen)</td>\n",
       "      <td>Nej</td>\n",
       "      <td>NaN</td>\n",
       "      <td>Mangler viden om det</td>\n",
       "      <td>NaN</td>\n",
       "      <td>0</td>\n",
       "      <td>0</td>\n",
       "      <td>0</td>\n",
       "      <td>1</td>\n",
       "      <td>0</td>\n",
       "    </tr>\n",
       "    <tr>\n",
       "      <th>3</th>\n",
       "      <td>NaN</td>\n",
       "      <td>NaN</td>\n",
       "      <td>NaN</td>\n",
       "      <td>NaN</td>\n",
       "      <td>NaN</td>\n",
       "      <td>NaN</td>\n",
       "      <td>0</td>\n",
       "      <td>1</td>\n",
       "      <td>0</td>\n",
       "      <td>0</td>\n",
       "      <td>0</td>\n",
       "    </tr>\n",
       "    <tr>\n",
       "      <th>4</th>\n",
       "      <td>22 - 23</td>\n",
       "      <td>HHX</td>\n",
       "      <td>Ja</td>\n",
       "      <td>10.001 kr eller mere</td>\n",
       "      <td>NaN</td>\n",
       "      <td>NaN</td>\n",
       "      <td>0</td>\n",
       "      <td>0</td>\n",
       "      <td>0</td>\n",
       "      <td>1</td>\n",
       "      <td>0</td>\n",
       "    </tr>\n",
       "  </tbody>\n",
       "</table>\n",
       "</div>"
      ],
      "text/plain": [
       "  Hvad er din alder?  \\\n",
       "0            20 - 21   \n",
       "1            22 - 23   \n",
       "2      24 eller mere   \n",
       "3                NaN   \n",
       "4            22 - 23   \n",
       "\n",
       "  Angiv din adgangsgivende eksamen til din nuværende uddannelse  \\\n",
       "0                       STX (Almen studentereksamen)              \n",
       "1                                                HHX              \n",
       "2                       STX (Almen studentereksamen)              \n",
       "3                                                NaN              \n",
       "4                                                HHX              \n",
       "\n",
       "  Ejer du i dag værdipapirer, som f.eks. aktier og/eller obligationer?  \\\n",
       "0                                                Nej                     \n",
       "1                                                 Ja                     \n",
       "2                                                Nej                     \n",
       "3                                                NaN                     \n",
       "4                                                 Ja                     \n",
       "\n",
       "  Hvad er værdien af din portefølje i kr.?  \\\n",
       "0                                      NaN   \n",
       "1                         1001 - 5000 kr.    \n",
       "2                                      NaN   \n",
       "3                                      NaN   \n",
       "4                     10.001 kr eller mere   \n",
       "\n",
       "  Hvorfor investerer du ikke i værdipapirer?  E-mail  Samlet status - Ny  \\\n",
       "0                               Har ikke råd     NaN                   0   \n",
       "1                                        NaN     NaN                   0   \n",
       "2                       Mangler viden om det     NaN                   0   \n",
       "3                                        NaN     NaN                   0   \n",
       "4                                        NaN     NaN                   0   \n",
       "\n",
       "   Samlet status - Distribueret  Samlet status - Nogen svar  \\\n",
       "0                             0                           0   \n",
       "1                             0                           0   \n",
       "2                             0                           0   \n",
       "3                             1                           0   \n",
       "4                             0                           0   \n",
       "\n",
       "   Samlet status - Gennemført  Samlet status - Frafaldet  \n",
       "0                           1                          0  \n",
       "1                           1                          0  \n",
       "2                           1                          0  \n",
       "3                           0                          0  \n",
       "4                           1                          0  "
      ]
     },
     "execution_count": 51,
     "metadata": {},
     "output_type": "execute_result"
    }
   ],
   "source": [
    "df.head() #Shows the top 5 rows and all columns(or alternativly choose top val)"
   ]
  },
  {
   "cell_type": "code",
   "execution_count": 52,
   "id": "cd4d08c0-caa7-42b5-aae1-7735b067a5f7",
   "metadata": {
    "tags": []
   },
   "outputs": [
    {
     "data": {
      "text/plain": [
       "Index(['Hvad er din alder?',\n",
       "       'Angiv din adgangsgivende eksamen til din nuværende uddannelse',\n",
       "       'Ejer du i dag værdipapirer, som f.eks. aktier og/eller obligationer?',\n",
       "       'Hvad er værdien af din portefølje i kr.?',\n",
       "       'Hvorfor investerer du ikke i værdipapirer?', 'E-mail',\n",
       "       'Samlet status - Ny', 'Samlet status - Distribueret',\n",
       "       'Samlet status - Nogen svar', 'Samlet status - Gennemført',\n",
       "       'Samlet status - Frafaldet'],\n",
       "      dtype='object')"
      ]
     },
     "execution_count": 52,
     "metadata": {},
     "output_type": "execute_result"
    }
   ],
   "source": [
    "df.columns #Shows all the column names. Good for cleanup columns later"
   ]
  },
  {
   "cell_type": "code",
   "execution_count": 53,
   "id": "cb6710ad-9da8-416b-8f1b-7161a1dced85",
   "metadata": {
    "tags": []
   },
   "outputs": [
    {
     "data": {
      "text/plain": [
       "Hvad er din alder?                                                       object\n",
       "Angiv din adgangsgivende eksamen til din nuværende uddannelse            object\n",
       "Ejer du i dag værdipapirer, som f.eks. aktier og/eller obligationer?     object\n",
       "Hvad er værdien af din portefølje i kr.?                                 object\n",
       "Hvorfor investerer du ikke i værdipapirer?                               object\n",
       "E-mail                                                                  float64\n",
       "Samlet status - Ny                                                        int64\n",
       "Samlet status - Distribueret                                              int64\n",
       "Samlet status - Nogen svar                                                int64\n",
       "Samlet status - Gennemført                                                int64\n",
       "Samlet status - Frafaldet                                                 int64\n",
       "dtype: object"
      ]
     },
     "execution_count": 53,
     "metadata": {},
     "output_type": "execute_result"
    }
   ],
   "source": [
    "df.dtypes #Shows the columns datatypes. Good for cleanup columns later\n",
    "\n",
    "#df['Hvad er værdien af din portefølje i kr.?'] = pd.to_numeric(df['Hvad er værdien af din portefølje i kr.?'] #changes it from string to int64\n",
    "# pd.to_datetime(df['date'] #Changes it from object to date type"
   ]
  },
  {
   "cell_type": "code",
   "execution_count": 54,
   "id": "1489071a-244a-401d-93ce-cf117f2ae57e",
   "metadata": {
    "tags": []
   },
   "outputs": [
    {
     "data": {
      "text/html": [
       "<div>\n",
       "<style scoped>\n",
       "    .dataframe tbody tr th:only-of-type {\n",
       "        vertical-align: middle;\n",
       "    }\n",
       "\n",
       "    .dataframe tbody tr th {\n",
       "        vertical-align: top;\n",
       "    }\n",
       "\n",
       "    .dataframe thead th {\n",
       "        text-align: right;\n",
       "    }\n",
       "</style>\n",
       "<table border=\"1\" class=\"dataframe\">\n",
       "  <thead>\n",
       "    <tr style=\"text-align: right;\">\n",
       "      <th></th>\n",
       "      <th>E-mail</th>\n",
       "      <th>Samlet status - Ny</th>\n",
       "      <th>Samlet status - Distribueret</th>\n",
       "      <th>Samlet status - Nogen svar</th>\n",
       "      <th>Samlet status - Gennemført</th>\n",
       "      <th>Samlet status - Frafaldet</th>\n",
       "    </tr>\n",
       "  </thead>\n",
       "  <tbody>\n",
       "    <tr>\n",
       "      <th>count</th>\n",
       "      <td>0.0</td>\n",
       "      <td>184.0</td>\n",
       "      <td>184.000000</td>\n",
       "      <td>184.000000</td>\n",
       "      <td>184.000000</td>\n",
       "      <td>184.0</td>\n",
       "    </tr>\n",
       "    <tr>\n",
       "      <th>mean</th>\n",
       "      <td>NaN</td>\n",
       "      <td>0.0</td>\n",
       "      <td>0.114130</td>\n",
       "      <td>0.010870</td>\n",
       "      <td>0.875000</td>\n",
       "      <td>0.0</td>\n",
       "    </tr>\n",
       "    <tr>\n",
       "      <th>std</th>\n",
       "      <td>NaN</td>\n",
       "      <td>0.0</td>\n",
       "      <td>0.318837</td>\n",
       "      <td>0.103972</td>\n",
       "      <td>0.331621</td>\n",
       "      <td>0.0</td>\n",
       "    </tr>\n",
       "    <tr>\n",
       "      <th>min</th>\n",
       "      <td>NaN</td>\n",
       "      <td>0.0</td>\n",
       "      <td>0.000000</td>\n",
       "      <td>0.000000</td>\n",
       "      <td>0.000000</td>\n",
       "      <td>0.0</td>\n",
       "    </tr>\n",
       "    <tr>\n",
       "      <th>25%</th>\n",
       "      <td>NaN</td>\n",
       "      <td>0.0</td>\n",
       "      <td>0.000000</td>\n",
       "      <td>0.000000</td>\n",
       "      <td>1.000000</td>\n",
       "      <td>0.0</td>\n",
       "    </tr>\n",
       "    <tr>\n",
       "      <th>50%</th>\n",
       "      <td>NaN</td>\n",
       "      <td>0.0</td>\n",
       "      <td>0.000000</td>\n",
       "      <td>0.000000</td>\n",
       "      <td>1.000000</td>\n",
       "      <td>0.0</td>\n",
       "    </tr>\n",
       "    <tr>\n",
       "      <th>75%</th>\n",
       "      <td>NaN</td>\n",
       "      <td>0.0</td>\n",
       "      <td>0.000000</td>\n",
       "      <td>0.000000</td>\n",
       "      <td>1.000000</td>\n",
       "      <td>0.0</td>\n",
       "    </tr>\n",
       "    <tr>\n",
       "      <th>max</th>\n",
       "      <td>NaN</td>\n",
       "      <td>0.0</td>\n",
       "      <td>1.000000</td>\n",
       "      <td>1.000000</td>\n",
       "      <td>1.000000</td>\n",
       "      <td>0.0</td>\n",
       "    </tr>\n",
       "  </tbody>\n",
       "</table>\n",
       "</div>"
      ],
      "text/plain": [
       "       E-mail  Samlet status - Ny  Samlet status - Distribueret  \\\n",
       "count     0.0               184.0                    184.000000   \n",
       "mean      NaN                 0.0                      0.114130   \n",
       "std       NaN                 0.0                      0.318837   \n",
       "min       NaN                 0.0                      0.000000   \n",
       "25%       NaN                 0.0                      0.000000   \n",
       "50%       NaN                 0.0                      0.000000   \n",
       "75%       NaN                 0.0                      0.000000   \n",
       "max       NaN                 0.0                      1.000000   \n",
       "\n",
       "       Samlet status - Nogen svar  Samlet status - Gennemført  \\\n",
       "count                  184.000000                  184.000000   \n",
       "mean                     0.010870                    0.875000   \n",
       "std                      0.103972                    0.331621   \n",
       "min                      0.000000                    0.000000   \n",
       "25%                      0.000000                    1.000000   \n",
       "50%                      0.000000                    1.000000   \n",
       "75%                      0.000000                    1.000000   \n",
       "max                      1.000000                    1.000000   \n",
       "\n",
       "       Samlet status - Frafaldet  \n",
       "count                      184.0  \n",
       "mean                         0.0  \n",
       "std                          0.0  \n",
       "min                          0.0  \n",
       "25%                          0.0  \n",
       "50%                          0.0  \n",
       "75%                          0.0  \n",
       "max                          0.0  "
      ]
     },
     "execution_count": 54,
     "metadata": {},
     "output_type": "execute_result"
    }
   ],
   "source": [
    "df.describe() #Shows a statistical 'description' of all data types = float and int "
   ]
  },
  {
   "cell_type": "markdown",
   "id": "e923903a-755c-4b2e-b221-c6ea3c40a3c7",
   "metadata": {},
   "source": [
    "<h1>Sortere kolumnner fra</h1>"
   ]
  },
  {
   "cell_type": "code",
   "execution_count": 73,
   "id": "e30dcf03-c39c-4ca3-8ff5-c2ec4fdbd28b",
   "metadata": {
    "tags": []
   },
   "outputs": [],
   "source": [
    "df = df[[\n",
    "       'Hvad er din alder?',\n",
    "       'Angiv din adgangsgivende eksamen til din nuværende uddannelse',\n",
    "       'Ejer du i dag værdipapirer, som f.eks. aktier og/eller obligationer?',\n",
    "       'Hvad er værdien af din portefølje i kr.?',\n",
    "       'Hvorfor investerer du ikke i værdipapirer?', \n",
    "       # 'E-mail',\n",
    "       # 'Samlet status - Ny', 'Samlet status - Distribueret',\n",
    "       # 'Samlet status - Nogen svar', 'Samlet status - Gennemført',\n",
    "       # 'Samlet status - Frafaldet'\n",
    "   ]].copy()\n",
    "\n",
    "# df.drop(['Hvad er din alder?'], axis=1) #delete column (axis=1 == column)"
   ]
  },
  {
   "cell_type": "code",
   "execution_count": 132,
   "id": "c30dbf36-c625-43e5-a4f5-a7206bfc28ae",
   "metadata": {
    "tags": []
   },
   "outputs": [],
   "source": [
    "df = df.rename(columns={'Hvad er din alder?':'alder',\n",
    "       'Angiv din adgangsgivende eksamen til din nuværende uddannelse':'uddannelse',\n",
    "       'Ejer du i dag værdipapirer, som f.eks. aktier og/eller obligationer?':'ejer_værdipapir',\n",
    "        'Hvad er værdien af din portefølje i kr.?':'værdi',\n",
    "       'Hvorfor investerer du ikke i værdipapirer?':'hvorfor?'})"
   ]
  },
  {
   "cell_type": "markdown",
   "id": "256631c0-c392-41ba-8505-7abb873fb668",
   "metadata": {},
   "source": [
    "<h2>1) Hvor mange invester i værdipairer? (beregn frekvenser og tilføj lagkagefigur)</h2>"
   ]
  },
  {
   "cell_type": "code",
   "execution_count": 190,
   "id": "34537c27-dbf3-4c62-9c7b-6ed64762f1aa",
   "metadata": {
    "tags": []
   },
   "outputs": [],
   "source": [
    "val = df['ejer_værdipapir'].value_counts()/df['ejer_værdipapir'].count()"
   ]
  },
  {
   "cell_type": "code",
   "execution_count": 270,
   "id": "63b7b99c-61d5-488c-8428-ccbc51c8c1a0",
   "metadata": {},
   "outputs": [
    {
     "name": "stdout",
     "output_type": "stream",
     "text": [
      "50.31%\n",
      "49.69%\n"
     ]
    }
   ],
   "source": [
    "for x in val:\n",
    "    value=str('%.2f' % (x*100))+'%' #Change the value to .00 desimals and multiply by 100 and add a % and make it a string\n",
    "    print(value)"
   ]
  },
  {
   "cell_type": "code",
   "execution_count": 267,
   "id": "22ec6539-3ab8-4d86-97e9-5f74152e0282",
   "metadata": {
    "tags": []
   },
   "outputs": [
    {
     "data": {
      "image/png": "[encoded data removed]",
      "text/plain": [
       "<Figure size 640x480 with 1 Axes>"
      ]
     },
     "metadata": {},
     "output_type": "display_data"
    }
   ],
   "source": [
    "ax = (df['ejer_værdipapir'].value_counts()\\\n",
    "    /df['ejer_værdipapir'].count())\\\n",
    "    .plot(kind='pie', title='Hvor mange ejer værdipapir', autopct='%.2f')\n",
    "ax.set_ylabel('Svar i %')\n",
    "ax.legend()\n",
    "ax.plot()\n",
    "plt.show()"
   ]
  },
  {
   "cell_type": "markdown",
   "id": "b5b450ca-eb81-4e2c-9e25-d37fd15b768b",
   "metadata": {},
   "source": [
    "<h2>2) Beregn frekvenser for de forskellige uddannelser (illustrer med søjlediagram)</h2><br>"
   ]
  },
  {
   "cell_type": "code",
   "execution_count": 338,
   "id": "241ac4f9-1091-440a-9110-bad51a1c93e6",
   "metadata": {
    "tags": []
   },
   "outputs": [
    {
     "data": {
      "text/plain": [
       "HHX                             0.453416\n",
       "STX (Almen studentereksamen)    0.335404\n",
       "HF                              0.086957\n",
       "Andet                           0.074534\n",
       "HTX                             0.049689\n",
       "Name: uddannelse, dtype: float64"
      ]
     },
     "execution_count": 338,
     "metadata": {},
     "output_type": "execute_result"
    }
   ],
   "source": [
    "uddval = df['uddannelse'].value_counts(normalize=True)\n",
    "uddval"
   ]
  },
  {
   "cell_type": "code",
   "execution_count": 366,
   "id": "3f940330-d98d-4c31-bd03-833f4275b947",
   "metadata": {
    "tags": []
   },
   "outputs": [
    {
     "data": {
      "image/png": "[encoded data removed]",
      "text/plain": [
       "<Figure size 640x480 with 1 Axes>"
      ]
     },
     "metadata": {},
     "output_type": "display_data"
    }
   ],
   "source": [
    "uddan = df['uddannelse'].value_counts(normalize=True)\\\n",
    "                        .plot(kind='barh', color='teal')\n",
    "for x in uddan.containers:\n",
    "    plt.labels = uddval\n",
    "    \n",
    "plt.xlabel('% delt af alle studerende')\n",
    "plt.show()"
   ]
  },
  {
   "cell_type": "markdown",
   "id": "8aeb30d5-0963-4e0b-97b5-a0e14a1ceab1",
   "metadata": {},
   "source": [
    "<h2>3) Beregn andel af HHX’er, som har værdipapirer</h2><br>"
   ]
  },
  {
   "cell_type": "code",
   "execution_count": 390,
   "id": "549ece94-4f42-434d-9fa0-e70c7f62af46",
   "metadata": {
    "tags": []
   },
   "outputs": [
    {
     "data": {
      "text/html": [
       "<div>\n",
       "<style scoped>\n",
       "    .dataframe tbody tr th:only-of-type {\n",
       "        vertical-align: middle;\n",
       "    }\n",
       "\n",
       "    .dataframe tbody tr th {\n",
       "        vertical-align: top;\n",
       "    }\n",
       "\n",
       "    .dataframe thead th {\n",
       "        text-align: right;\n",
       "    }\n",
       "</style>\n",
       "<table border=\"1\" class=\"dataframe\">\n",
       "  <thead>\n",
       "    <tr style=\"text-align: right;\">\n",
       "      <th></th>\n",
       "      <th>alder</th>\n",
       "      <th>uddannelse</th>\n",
       "      <th>ejer_værdipapir</th>\n",
       "      <th>værdi</th>\n",
       "      <th>hvorfor?</th>\n",
       "    </tr>\n",
       "  </thead>\n",
       "  <tbody>\n",
       "    <tr>\n",
       "      <th>6</th>\n",
       "      <td>20 - 21</td>\n",
       "      <td>HHX</td>\n",
       "      <td>Nej</td>\n",
       "      <td>NaN</td>\n",
       "      <td>Har ikke råd</td>\n",
       "    </tr>\n",
       "    <tr>\n",
       "      <th>10</th>\n",
       "      <td>22 - 23</td>\n",
       "      <td>HHX</td>\n",
       "      <td>Nej</td>\n",
       "      <td>NaN</td>\n",
       "      <td>Mangler viden om det</td>\n",
       "    </tr>\n",
       "    <tr>\n",
       "      <th>18</th>\n",
       "      <td>20 - 21</td>\n",
       "      <td>HHX</td>\n",
       "      <td>Nej</td>\n",
       "      <td>NaN</td>\n",
       "      <td>Mangler viden om det</td>\n",
       "    </tr>\n",
       "    <tr>\n",
       "      <th>23</th>\n",
       "      <td>22 - 23</td>\n",
       "      <td>HHX</td>\n",
       "      <td>Nej</td>\n",
       "      <td>NaN</td>\n",
       "      <td>Risiko er for høj</td>\n",
       "    </tr>\n",
       "    <tr>\n",
       "      <th>26</th>\n",
       "      <td>22 - 23</td>\n",
       "      <td>HHX</td>\n",
       "      <td>Nej</td>\n",
       "      <td>NaN</td>\n",
       "      <td>Har ikke råd</td>\n",
       "    </tr>\n",
       "    <tr>\n",
       "      <th>31</th>\n",
       "      <td>22 - 23</td>\n",
       "      <td>HHX</td>\n",
       "      <td>Nej</td>\n",
       "      <td>NaN</td>\n",
       "      <td>Mangler viden om det</td>\n",
       "    </tr>\n",
       "    <tr>\n",
       "      <th>38</th>\n",
       "      <td>20 - 21</td>\n",
       "      <td>HHX</td>\n",
       "      <td>Nej</td>\n",
       "      <td>NaN</td>\n",
       "      <td>Mangler viden om det</td>\n",
       "    </tr>\n",
       "    <tr>\n",
       "      <th>39</th>\n",
       "      <td>20 - 21</td>\n",
       "      <td>HHX</td>\n",
       "      <td>Nej</td>\n",
       "      <td>NaN</td>\n",
       "      <td>Andet</td>\n",
       "    </tr>\n",
       "    <tr>\n",
       "      <th>41</th>\n",
       "      <td>24 eller mere</td>\n",
       "      <td>HHX</td>\n",
       "      <td>Nej</td>\n",
       "      <td>NaN</td>\n",
       "      <td>Det intresserer mig ikke</td>\n",
       "    </tr>\n",
       "    <tr>\n",
       "      <th>42</th>\n",
       "      <td>24 eller mere</td>\n",
       "      <td>HHX</td>\n",
       "      <td>Nej</td>\n",
       "      <td>NaN</td>\n",
       "      <td>Andet</td>\n",
       "    </tr>\n",
       "    <tr>\n",
       "      <th>47</th>\n",
       "      <td>20 - 21</td>\n",
       "      <td>HHX</td>\n",
       "      <td>Nej</td>\n",
       "      <td>NaN</td>\n",
       "      <td>Har ikke råd</td>\n",
       "    </tr>\n",
       "    <tr>\n",
       "      <th>53</th>\n",
       "      <td>22 - 23</td>\n",
       "      <td>HHX</td>\n",
       "      <td>Nej</td>\n",
       "      <td>NaN</td>\n",
       "      <td>Mangler viden om det</td>\n",
       "    </tr>\n",
       "    <tr>\n",
       "      <th>56</th>\n",
       "      <td>20 - 21</td>\n",
       "      <td>HHX</td>\n",
       "      <td>Nej</td>\n",
       "      <td>NaN</td>\n",
       "      <td>Mangler viden om det</td>\n",
       "    </tr>\n",
       "    <tr>\n",
       "      <th>80</th>\n",
       "      <td>22 - 23</td>\n",
       "      <td>HHX</td>\n",
       "      <td>Nej</td>\n",
       "      <td>NaN</td>\n",
       "      <td>Mangler viden om det</td>\n",
       "    </tr>\n",
       "    <tr>\n",
       "      <th>93</th>\n",
       "      <td>20 - 21</td>\n",
       "      <td>HHX</td>\n",
       "      <td>Nej</td>\n",
       "      <td>NaN</td>\n",
       "      <td>Det intresserer mig ikke</td>\n",
       "    </tr>\n",
       "    <tr>\n",
       "      <th>98</th>\n",
       "      <td>22 - 23</td>\n",
       "      <td>HHX</td>\n",
       "      <td>Nej</td>\n",
       "      <td>NaN</td>\n",
       "      <td>Mangler viden om det</td>\n",
       "    </tr>\n",
       "    <tr>\n",
       "      <th>106</th>\n",
       "      <td>20 - 21</td>\n",
       "      <td>HHX</td>\n",
       "      <td>Nej</td>\n",
       "      <td>NaN</td>\n",
       "      <td>Har ikke råd</td>\n",
       "    </tr>\n",
       "    <tr>\n",
       "      <th>108</th>\n",
       "      <td>24 eller mere</td>\n",
       "      <td>HHX</td>\n",
       "      <td>Nej</td>\n",
       "      <td>NaN</td>\n",
       "      <td>Det intresserer mig ikke</td>\n",
       "    </tr>\n",
       "    <tr>\n",
       "      <th>109</th>\n",
       "      <td>22 - 23</td>\n",
       "      <td>HHX</td>\n",
       "      <td>Nej</td>\n",
       "      <td>NaN</td>\n",
       "      <td>Mangler viden om det</td>\n",
       "    </tr>\n",
       "    <tr>\n",
       "      <th>110</th>\n",
       "      <td>22 - 23</td>\n",
       "      <td>HHX</td>\n",
       "      <td>Nej</td>\n",
       "      <td>NaN</td>\n",
       "      <td>Har ikke råd</td>\n",
       "    </tr>\n",
       "    <tr>\n",
       "      <th>111</th>\n",
       "      <td>24 eller mere</td>\n",
       "      <td>HHX</td>\n",
       "      <td>Nej</td>\n",
       "      <td>NaN</td>\n",
       "      <td>Mangler viden om det</td>\n",
       "    </tr>\n",
       "    <tr>\n",
       "      <th>115</th>\n",
       "      <td>22 - 23</td>\n",
       "      <td>HHX</td>\n",
       "      <td>Nej</td>\n",
       "      <td>NaN</td>\n",
       "      <td>Mangler viden om det</td>\n",
       "    </tr>\n",
       "    <tr>\n",
       "      <th>118</th>\n",
       "      <td>20 - 21</td>\n",
       "      <td>HHX</td>\n",
       "      <td>Nej</td>\n",
       "      <td>NaN</td>\n",
       "      <td>Mangler viden om det</td>\n",
       "    </tr>\n",
       "    <tr>\n",
       "      <th>119</th>\n",
       "      <td>20 - 21</td>\n",
       "      <td>HHX</td>\n",
       "      <td>Nej</td>\n",
       "      <td>NaN</td>\n",
       "      <td>Mangler viden om det</td>\n",
       "    </tr>\n",
       "    <tr>\n",
       "      <th>131</th>\n",
       "      <td>20 - 21</td>\n",
       "      <td>HHX</td>\n",
       "      <td>Nej</td>\n",
       "      <td>NaN</td>\n",
       "      <td>Mangler viden om det</td>\n",
       "    </tr>\n",
       "    <tr>\n",
       "      <th>143</th>\n",
       "      <td>20 - 21</td>\n",
       "      <td>HHX</td>\n",
       "      <td>Nej</td>\n",
       "      <td>NaN</td>\n",
       "      <td>Har ikke råd</td>\n",
       "    </tr>\n",
       "    <tr>\n",
       "      <th>147</th>\n",
       "      <td>22 - 23</td>\n",
       "      <td>HHX</td>\n",
       "      <td>Nej</td>\n",
       "      <td>NaN</td>\n",
       "      <td>Andet</td>\n",
       "    </tr>\n",
       "    <tr>\n",
       "      <th>151</th>\n",
       "      <td>24 eller mere</td>\n",
       "      <td>HHX</td>\n",
       "      <td>Nej</td>\n",
       "      <td>NaN</td>\n",
       "      <td>Mangler viden om det</td>\n",
       "    </tr>\n",
       "    <tr>\n",
       "      <th>161</th>\n",
       "      <td>22 - 23</td>\n",
       "      <td>HHX</td>\n",
       "      <td>Nej</td>\n",
       "      <td>NaN</td>\n",
       "      <td>Har ikke råd</td>\n",
       "    </tr>\n",
       "    <tr>\n",
       "      <th>162</th>\n",
       "      <td>24 eller mere</td>\n",
       "      <td>HHX</td>\n",
       "      <td>Nej</td>\n",
       "      <td>NaN</td>\n",
       "      <td>Har ikke råd</td>\n",
       "    </tr>\n",
       "    <tr>\n",
       "      <th>174</th>\n",
       "      <td>24 eller mere</td>\n",
       "      <td>HHX</td>\n",
       "      <td>Nej</td>\n",
       "      <td>NaN</td>\n",
       "      <td>Det intresserer mig ikke</td>\n",
       "    </tr>\n",
       "    <tr>\n",
       "      <th>180</th>\n",
       "      <td>20 - 21</td>\n",
       "      <td>HHX</td>\n",
       "      <td>Nej</td>\n",
       "      <td>NaN</td>\n",
       "      <td>Det intresserer mig ikke</td>\n",
       "    </tr>\n",
       "  </tbody>\n",
       "</table>\n",
       "</div>"
      ],
      "text/plain": [
       "             alder uddannelse ejer_værdipapir værdi                  hvorfor?\n",
       "6          20 - 21        HHX             Nej   NaN              Har ikke råd\n",
       "10         22 - 23        HHX             Nej   NaN      Mangler viden om det\n",
       "18         20 - 21        HHX             Nej   NaN      Mangler viden om det\n",
       "23         22 - 23        HHX             Nej   NaN         Risiko er for høj\n",
       "26         22 - 23        HHX             Nej   NaN              Har ikke råd\n",
       "31         22 - 23        HHX             Nej   NaN      Mangler viden om det\n",
       "38         20 - 21        HHX             Nej   NaN      Mangler viden om det\n",
       "39         20 - 21        HHX             Nej   NaN                     Andet\n",
       "41   24 eller mere        HHX             Nej   NaN  Det intresserer mig ikke\n",
       "42   24 eller mere        HHX             Nej   NaN                     Andet\n",
       "47         20 - 21        HHX             Nej   NaN              Har ikke råd\n",
       "53         22 - 23        HHX             Nej   NaN      Mangler viden om det\n",
       "56         20 - 21        HHX             Nej   NaN      Mangler viden om det\n",
       "80         22 - 23        HHX             Nej   NaN      Mangler viden om det\n",
       "93         20 - 21        HHX             Nej   NaN  Det intresserer mig ikke\n",
       "98         22 - 23        HHX             Nej   NaN      Mangler viden om det\n",
       "106        20 - 21        HHX             Nej   NaN              Har ikke råd\n",
       "108  24 eller mere        HHX             Nej   NaN  Det intresserer mig ikke\n",
       "109        22 - 23        HHX             Nej   NaN      Mangler viden om det\n",
       "110        22 - 23        HHX             Nej   NaN              Har ikke råd\n",
       "111  24 eller mere        HHX             Nej   NaN      Mangler viden om det\n",
       "115        22 - 23        HHX             Nej   NaN      Mangler viden om det\n",
       "118        20 - 21        HHX             Nej   NaN      Mangler viden om det\n",
       "119        20 - 21        HHX             Nej   NaN      Mangler viden om det\n",
       "131        20 - 21        HHX             Nej   NaN      Mangler viden om det\n",
       "143        20 - 21        HHX             Nej   NaN              Har ikke råd\n",
       "147        22 - 23        HHX             Nej   NaN                     Andet\n",
       "151  24 eller mere        HHX             Nej   NaN      Mangler viden om det\n",
       "161        22 - 23        HHX             Nej   NaN              Har ikke råd\n",
       "162  24 eller mere        HHX             Nej   NaN              Har ikke råd\n",
       "174  24 eller mere        HHX             Nej   NaN  Det intresserer mig ikke\n",
       "180        20 - 21        HHX             Nej   NaN  Det intresserer mig ikke"
      ]
     },
     "execution_count": 390,
     "metadata": {},
     "output_type": "execute_result"
    }
   ],
   "source": [
    "df.query('uddannelse==\"HHX\"').query('ejer_værdipapir==\"Nej\"')"
   ]
  },
  {
   "cell_type": "code",
   "execution_count": null,
   "id": "8a90acb7-63ee-4d54-9f7a-c11e35d6ade4",
   "metadata": {},
   "outputs": [],
   "source": []
  },
  {
   "cell_type": "markdown",
   "id": "b66329dd-d90d-4996-b76a-aa7b4c1ec004",
   "metadata": {
    "tags": []
   },
   "source": [
    "<h2>4) Er der sammenhæng mellem uddannelsesniveau og om man invester i værdipapirer? (illustrer med søjlediagram)</h2><br>"
   ]
  },
  {
   "cell_type": "markdown",
   "id": "09f2a49d-c2be-4030-a47a-ad794c49ca2e",
   "metadata": {},
   "source": [
    "<h2>5) Er der sammenhæng mellem alder og hvor meget man har investeret?</h2><br>"
   ]
  },
  {
   "cell_type": "code",
   "execution_count": null,
   "id": "f175c2ab-d5f3-40c1-ba4c-fd99a2d9a26c",
   "metadata": {},
   "outputs": [],
   "source": []
  }
 ],
 "metadata": {
  "kernelspec": {
   "display_name": "Python 3 (ipykernel)",
   "language": "python",
   "name": "python3"
  },
  "language_info": {
   "codemirror_mode": {
    "name": "ipython",
    "version": 3
   },
   "file_extension": ".py",
   "mimetype": "text/x-python",
   "name": "python",
   "nbconvert_exporter": "python",
   "pygments_lexer": "ipython3",
   "version": "3.10.9"
  }
 },
 "nbformat": 4,
 "nbformat_minor": 5
}
