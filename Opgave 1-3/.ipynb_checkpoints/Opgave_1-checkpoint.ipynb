{
 "cells": [
  {
   "cell_type": "markdown",
   "id": "9b3252ba-f74c-4906-8693-d55929b9e520",
   "metadata": {
    "tags": []
   },
   "source": [
    "<h1> Opgave I. Download filen ”Invest i værdipapirer”</h1>\n",
    "Alle tabeller og søjlediagrammer skal indsættes i teksfil ”Dagens opgaver” under de forskelige spørgsmål. <br>\n",
    "Svar på følgende spørgsmål: <br>\n",
    "1) Hvor mange invester i værdipairer? (beregn frekvenser og tilføj lagkagefigur)<br>\n",
    "2) Beregn frekvenser for de forskellige uddannelser (illustrer med søjlediagram)<br>\n",
    "3) Beregn andel af HHX’er, som har værdipapirer<br>\n",
    "4) Er der sammenhæng mellem uddannelsesniveau og om man invester i værdipapirer? (illustrer med søjlediagram)<br>\n",
    "5) Er der sammenhæng mellem alder og hvor meget man har investeret?<br>\n",
    "    \n",
    "    "
   ]
  },
  {
   "cell_type": "code",
   "execution_count": 3,
   "id": "b2dc4ea1-da85-4ade-8cfe-1d63cb52dddb",
   "metadata": {
    "tags": []
   },
   "outputs": [],
   "source": [
    "import pandas as pd\n",
    "import numpy as np\n",
    "import matplotlib.pyplot as plt\n",
    "import seaborn as sns\n",
    "\n",
    "plt.style.use('ggplot')\n",
    "pd.set_option('display.max_columns',50)"
   ]
  },
  {
   "cell_type": "code",
   "execution_count": 4,
   "id": "f175e281-e8b0-4b3a-89e8-060dc155a7fa",
   "metadata": {
    "tags": []
   },
   "outputs": [],
   "source": [
    "df = pd.read_excel(\"./Invest værdipapirer.xlsx\",\"Complete\")"
   ]
  },
  {
   "cell_type": "code",
   "execution_count": 5,
   "id": "85fcb764-c378-4e8d-8d41-c3128d8f4211",
   "metadata": {
    "tags": []
   },
   "outputs": [
    {
     "data": {
      "text/plain": [
       "(184, 11)"
      ]
     },
     "execution_count": 5,
     "metadata": {},
     "output_type": "execute_result"
    }
   ],
   "source": [
    "df.shape #Shows rows and columns - (rows, columns = 184, 11)"
   ]
  },
  {
   "cell_type": "code",
   "execution_count": 6,
   "id": "2faccbec-bbf8-4040-81a0-03d150826742",
   "metadata": {
    "tags": []
   },
   "outputs": [
    {
     "data": {
      "text/html": [
       "<div>\n",
       "<style scoped>\n",
       "    .dataframe tbody tr th:only-of-type {\n",
       "        vertical-align: middle;\n",
       "    }\n",
       "\n",
       "    .dataframe tbody tr th {\n",
       "        vertical-align: top;\n",
       "    }\n",
       "\n",
       "    .dataframe thead th {\n",
       "        text-align: right;\n",
       "    }\n",
       "</style>\n",
       "<table border=\"1\" class=\"dataframe\">\n",
       "  <thead>\n",
       "    <tr style=\"text-align: right;\">\n",
       "      <th></th>\n",
       "      <th>Hvad er din alder?</th>\n",
       "      <th>Angiv din adgangsgivende eksamen til din nuværende uddannelse</th>\n",
       "      <th>Ejer du i dag værdipapirer, som f.eks. aktier og/eller obligationer?</th>\n",
       "      <th>Hvad er værdien af din portefølje i kr.?</th>\n",
       "      <th>Hvorfor investerer du ikke i værdipapirer?</th>\n",
       "      <th>E-mail</th>\n",
       "      <th>Samlet status - Ny</th>\n",
       "      <th>Samlet status - Distribueret</th>\n",
       "      <th>Samlet status - Nogen svar</th>\n",
       "      <th>Samlet status - Gennemført</th>\n",
       "      <th>Samlet status - Frafaldet</th>\n",
       "    </tr>\n",
       "  </thead>\n",
       "  <tbody>\n",
       "    <tr>\n",
       "      <th>0</th>\n",
       "      <td>20 - 21</td>\n",
       "      <td>STX (Almen studentereksamen)</td>\n",
       "      <td>Nej</td>\n",
       "      <td>NaN</td>\n",
       "      <td>Har ikke råd</td>\n",
       "      <td>NaN</td>\n",
       "      <td>0</td>\n",
       "      <td>0</td>\n",
       "      <td>0</td>\n",
       "      <td>1</td>\n",
       "      <td>0</td>\n",
       "    </tr>\n",
       "    <tr>\n",
       "      <th>1</th>\n",
       "      <td>22 - 23</td>\n",
       "      <td>HHX</td>\n",
       "      <td>Ja</td>\n",
       "      <td>1001 - 5000 kr.</td>\n",
       "      <td>NaN</td>\n",
       "      <td>NaN</td>\n",
       "      <td>0</td>\n",
       "      <td>0</td>\n",
       "      <td>0</td>\n",
       "      <td>1</td>\n",
       "      <td>0</td>\n",
       "    </tr>\n",
       "    <tr>\n",
       "      <th>2</th>\n",
       "      <td>24 eller mere</td>\n",
       "      <td>STX (Almen studentereksamen)</td>\n",
       "      <td>Nej</td>\n",
       "      <td>NaN</td>\n",
       "      <td>Mangler viden om det</td>\n",
       "      <td>NaN</td>\n",
       "      <td>0</td>\n",
       "      <td>0</td>\n",
       "      <td>0</td>\n",
       "      <td>1</td>\n",
       "      <td>0</td>\n",
       "    </tr>\n",
       "    <tr>\n",
       "      <th>3</th>\n",
       "      <td>NaN</td>\n",
       "      <td>NaN</td>\n",
       "      <td>NaN</td>\n",
       "      <td>NaN</td>\n",
       "      <td>NaN</td>\n",
       "      <td>NaN</td>\n",
       "      <td>0</td>\n",
       "      <td>1</td>\n",
       "      <td>0</td>\n",
       "      <td>0</td>\n",
       "      <td>0</td>\n",
       "    </tr>\n",
       "    <tr>\n",
       "      <th>4</th>\n",
       "      <td>22 - 23</td>\n",
       "      <td>HHX</td>\n",
       "      <td>Ja</td>\n",
       "      <td>10.001 kr eller mere</td>\n",
       "      <td>NaN</td>\n",
       "      <td>NaN</td>\n",
       "      <td>0</td>\n",
       "      <td>0</td>\n",
       "      <td>0</td>\n",
       "      <td>1</td>\n",
       "      <td>0</td>\n",
       "    </tr>\n",
       "  </tbody>\n",
       "</table>\n",
       "</div>"
      ],
      "text/plain": [
       "  Hvad er din alder?  \\\n",
       "0            20 - 21   \n",
       "1            22 - 23   \n",
       "2      24 eller mere   \n",
       "3                NaN   \n",
       "4            22 - 23   \n",
       "\n",
       "  Angiv din adgangsgivende eksamen til din nuværende uddannelse  \\\n",
       "0                       STX (Almen studentereksamen)              \n",
       "1                                                HHX              \n",
       "2                       STX (Almen studentereksamen)              \n",
       "3                                                NaN              \n",
       "4                                                HHX              \n",
       "\n",
       "  Ejer du i dag værdipapirer, som f.eks. aktier og/eller obligationer?  \\\n",
       "0                                                Nej                     \n",
       "1                                                 Ja                     \n",
       "2                                                Nej                     \n",
       "3                                                NaN                     \n",
       "4                                                 Ja                     \n",
       "\n",
       "  Hvad er værdien af din portefølje i kr.?  \\\n",
       "0                                      NaN   \n",
       "1                         1001 - 5000 kr.    \n",
       "2                                      NaN   \n",
       "3                                      NaN   \n",
       "4                     10.001 kr eller mere   \n",
       "\n",
       "  Hvorfor investerer du ikke i værdipapirer?  E-mail  Samlet status - Ny  \\\n",
       "0                               Har ikke råd     NaN                   0   \n",
       "1                                        NaN     NaN                   0   \n",
       "2                       Mangler viden om det     NaN                   0   \n",
       "3                                        NaN     NaN                   0   \n",
       "4                                        NaN     NaN                   0   \n",
       "\n",
       "   Samlet status - Distribueret  Samlet status - Nogen svar  \\\n",
       "0                             0                           0   \n",
       "1                             0                           0   \n",
       "2                             0                           0   \n",
       "3                             1                           0   \n",
       "4                             0                           0   \n",
       "\n",
       "   Samlet status - Gennemført  Samlet status - Frafaldet  \n",
       "0                           1                          0  \n",
       "1                           1                          0  \n",
       "2                           1                          0  \n",
       "3                           0                          0  \n",
       "4                           1                          0  "
      ]
     },
     "execution_count": 6,
     "metadata": {},
     "output_type": "execute_result"
    }
   ],
   "source": [
    "df.head() #Shows the top 5 rows and all columns(or alternativly choose top val)"
   ]
  },
  {
   "cell_type": "code",
   "execution_count": 7,
   "id": "cd4d08c0-caa7-42b5-aae1-7735b067a5f7",
   "metadata": {
    "tags": []
   },
   "outputs": [
    {
     "data": {
      "text/plain": [
       "Index(['Hvad er din alder?',\n",
       "       'Angiv din adgangsgivende eksamen til din nuværende uddannelse',\n",
       "       'Ejer du i dag værdipapirer, som f.eks. aktier og/eller obligationer?',\n",
       "       'Hvad er værdien af din portefølje i kr.?',\n",
       "       'Hvorfor investerer du ikke i værdipapirer?', 'E-mail',\n",
       "       'Samlet status - Ny', 'Samlet status - Distribueret',\n",
       "       'Samlet status - Nogen svar', 'Samlet status - Gennemført',\n",
       "       'Samlet status - Frafaldet'],\n",
       "      dtype='object')"
      ]
     },
     "execution_count": 7,
     "metadata": {},
     "output_type": "execute_result"
    }
   ],
   "source": [
    "df.columns #Shows all the column names. Good for cleanup columns later"
   ]
  },
  {
   "cell_type": "code",
   "execution_count": 8,
   "id": "cb6710ad-9da8-416b-8f1b-7161a1dced85",
   "metadata": {
    "tags": []
   },
   "outputs": [
    {
     "data": {
      "text/plain": [
       "Hvad er din alder?                                                       object\n",
       "Angiv din adgangsgivende eksamen til din nuværende uddannelse            object\n",
       "Ejer du i dag værdipapirer, som f.eks. aktier og/eller obligationer?     object\n",
       "Hvad er værdien af din portefølje i kr.?                                 object\n",
       "Hvorfor investerer du ikke i værdipapirer?                               object\n",
       "E-mail                                                                  float64\n",
       "Samlet status - Ny                                                        int64\n",
       "Samlet status - Distribueret                                              int64\n",
       "Samlet status - Nogen svar                                                int64\n",
       "Samlet status - Gennemført                                                int64\n",
       "Samlet status - Frafaldet                                                 int64\n",
       "dtype: object"
      ]
     },
     "execution_count": 8,
     "metadata": {},
     "output_type": "execute_result"
    }
   ],
   "source": [
    "df.dtypes #Shows the columns datatypes. Good for cleanup columns later\n",
    "\n",
    "#df['Hvad er værdien af din portefølje i kr.?'] = pd.to_numeric(df['Hvad er værdien af din portefølje i kr.?'] #changes it from string to int64\n",
    "# pd.to_datetime(df['date'] #Changes it from object to date type"
   ]
  },
  {
   "cell_type": "code",
   "execution_count": 9,
   "id": "1489071a-244a-401d-93ce-cf117f2ae57e",
   "metadata": {
    "tags": []
   },
   "outputs": [
    {
     "data": {
      "text/html": [
       "<div>\n",
       "<style scoped>\n",
       "    .dataframe tbody tr th:only-of-type {\n",
       "        vertical-align: middle;\n",
       "    }\n",
       "\n",
       "    .dataframe tbody tr th {\n",
       "        vertical-align: top;\n",
       "    }\n",
       "\n",
       "    .dataframe thead th {\n",
       "        text-align: right;\n",
       "    }\n",
       "</style>\n",
       "<table border=\"1\" class=\"dataframe\">\n",
       "  <thead>\n",
       "    <tr style=\"text-align: right;\">\n",
       "      <th></th>\n",
       "      <th>E-mail</th>\n",
       "      <th>Samlet status - Ny</th>\n",
       "      <th>Samlet status - Distribueret</th>\n",
       "      <th>Samlet status - Nogen svar</th>\n",
       "      <th>Samlet status - Gennemført</th>\n",
       "      <th>Samlet status - Frafaldet</th>\n",
       "    </tr>\n",
       "  </thead>\n",
       "  <tbody>\n",
       "    <tr>\n",
       "      <th>count</th>\n",
       "      <td>0.0</td>\n",
       "      <td>184.0</td>\n",
       "      <td>184.000000</td>\n",
       "      <td>184.000000</td>\n",
       "      <td>184.000000</td>\n",
       "      <td>184.0</td>\n",
       "    </tr>\n",
       "    <tr>\n",
       "      <th>mean</th>\n",
       "      <td>NaN</td>\n",
       "      <td>0.0</td>\n",
       "      <td>0.114130</td>\n",
       "      <td>0.010870</td>\n",
       "      <td>0.875000</td>\n",
       "      <td>0.0</td>\n",
       "    </tr>\n",
       "    <tr>\n",
       "      <th>std</th>\n",
       "      <td>NaN</td>\n",
       "      <td>0.0</td>\n",
       "      <td>0.318837</td>\n",
       "      <td>0.103972</td>\n",
       "      <td>0.331621</td>\n",
       "      <td>0.0</td>\n",
       "    </tr>\n",
       "    <tr>\n",
       "      <th>min</th>\n",
       "      <td>NaN</td>\n",
       "      <td>0.0</td>\n",
       "      <td>0.000000</td>\n",
       "      <td>0.000000</td>\n",
       "      <td>0.000000</td>\n",
       "      <td>0.0</td>\n",
       "    </tr>\n",
       "    <tr>\n",
       "      <th>25%</th>\n",
       "      <td>NaN</td>\n",
       "      <td>0.0</td>\n",
       "      <td>0.000000</td>\n",
       "      <td>0.000000</td>\n",
       "      <td>1.000000</td>\n",
       "      <td>0.0</td>\n",
       "    </tr>\n",
       "    <tr>\n",
       "      <th>50%</th>\n",
       "      <td>NaN</td>\n",
       "      <td>0.0</td>\n",
       "      <td>0.000000</td>\n",
       "      <td>0.000000</td>\n",
       "      <td>1.000000</td>\n",
       "      <td>0.0</td>\n",
       "    </tr>\n",
       "    <tr>\n",
       "      <th>75%</th>\n",
       "      <td>NaN</td>\n",
       "      <td>0.0</td>\n",
       "      <td>0.000000</td>\n",
       "      <td>0.000000</td>\n",
       "      <td>1.000000</td>\n",
       "      <td>0.0</td>\n",
       "    </tr>\n",
       "    <tr>\n",
       "      <th>max</th>\n",
       "      <td>NaN</td>\n",
       "      <td>0.0</td>\n",
       "      <td>1.000000</td>\n",
       "      <td>1.000000</td>\n",
       "      <td>1.000000</td>\n",
       "      <td>0.0</td>\n",
       "    </tr>\n",
       "  </tbody>\n",
       "</table>\n",
       "</div>"
      ],
      "text/plain": [
       "       E-mail  Samlet status - Ny  Samlet status - Distribueret  \\\n",
       "count     0.0               184.0                    184.000000   \n",
       "mean      NaN                 0.0                      0.114130   \n",
       "std       NaN                 0.0                      0.318837   \n",
       "min       NaN                 0.0                      0.000000   \n",
       "25%       NaN                 0.0                      0.000000   \n",
       "50%       NaN                 0.0                      0.000000   \n",
       "75%       NaN                 0.0                      0.000000   \n",
       "max       NaN                 0.0                      1.000000   \n",
       "\n",
       "       Samlet status - Nogen svar  Samlet status - Gennemført  \\\n",
       "count                  184.000000                  184.000000   \n",
       "mean                     0.010870                    0.875000   \n",
       "std                      0.103972                    0.331621   \n",
       "min                      0.000000                    0.000000   \n",
       "25%                      0.000000                    1.000000   \n",
       "50%                      0.000000                    1.000000   \n",
       "75%                      0.000000                    1.000000   \n",
       "max                      1.000000                    1.000000   \n",
       "\n",
       "       Samlet status - Frafaldet  \n",
       "count                      184.0  \n",
       "mean                         0.0  \n",
       "std                          0.0  \n",
       "min                          0.0  \n",
       "25%                          0.0  \n",
       "50%                          0.0  \n",
       "75%                          0.0  \n",
       "max                          0.0  "
      ]
     },
     "execution_count": 9,
     "metadata": {},
     "output_type": "execute_result"
    }
   ],
   "source": [
    "df.describe() #Shows a statistical 'description' of all data types = float and int "
   ]
  },
  {
   "cell_type": "markdown",
   "id": "e923903a-755c-4b2e-b221-c6ea3c40a3c7",
   "metadata": {},
   "source": [
    "<h1>Sortere kolumnner fra</h1>"
   ]
  },
  {
   "cell_type": "code",
   "execution_count": 10,
   "id": "e30dcf03-c39c-4ca3-8ff5-c2ec4fdbd28b",
   "metadata": {
    "tags": []
   },
   "outputs": [],
   "source": [
    "df = df[[\n",
    "       'Hvad er din alder?',\n",
    "       'Angiv din adgangsgivende eksamen til din nuværende uddannelse',\n",
    "       'Ejer du i dag værdipapirer, som f.eks. aktier og/eller obligationer?',\n",
    "       'Hvad er værdien af din portefølje i kr.?',\n",
    "       'Hvorfor investerer du ikke i værdipapirer?', \n",
    "       # 'E-mail',\n",
    "       # 'Samlet status - Ny', 'Samlet status - Distribueret',\n",
    "       # 'Samlet status - Nogen svar', 'Samlet status - Gennemført',\n",
    "       # 'Samlet status - Frafaldet'\n",
    "   ]].copy()\n",
    "\n",
    "# df.drop(['Hvad er din alder?'], axis=1) #delete column (axis=1 == column)"
   ]
  },
  {
   "cell_type": "code",
   "execution_count": 11,
   "id": "c30dbf36-c625-43e5-a4f5-a7206bfc28ae",
   "metadata": {
    "tags": []
   },
   "outputs": [],
   "source": [
    "df = df.rename(columns={'Hvad er din alder?':'alder',\n",
    "       'Angiv din adgangsgivende eksamen til din nuværende uddannelse':'uddannelse',\n",
    "       'Ejer du i dag værdipapirer, som f.eks. aktier og/eller obligationer?':'ejer_værdipapir',\n",
    "        'Hvad er værdien af din portefølje i kr.?':'værdi',\n",
    "       'Hvorfor investerer du ikke i værdipapirer?':'hvorfor?'})"
   ]
  },
  {
   "cell_type": "markdown",
   "id": "256631c0-c392-41ba-8505-7abb873fb668",
   "metadata": {},
   "source": [
    "<h2>1) Hvor mange invester i værdipairer? (beregn frekvenser og tilføj lagkagefigur)</h2>"
   ]
  },
  {
   "cell_type": "code",
   "execution_count": 12,
   "id": "34537c27-dbf3-4c62-9c7b-6ed64762f1aa",
   "metadata": {
    "tags": []
   },
   "outputs": [],
   "source": [
    "val = df['ejer_værdipapir'].value_counts()/df['ejer_værdipapir'].count()"
   ]
  },
  {
   "cell_type": "code",
   "execution_count": 13,
   "id": "63b7b99c-61d5-488c-8428-ccbc51c8c1a0",
   "metadata": {},
   "outputs": [
    {
     "name": "stdout",
     "output_type": "stream",
     "text": [
      "50.31%\n",
      "49.69%\n"
     ]
    }
   ],
   "source": [
    "for x in val:\n",
    "    value=str('%.2f' % (x*100))+'%' #Change the value to .00 desimals and multiply by 100 and add a % and make it a string\n",
    "    print(value)"
   ]
  },
  {
   "cell_type": "code",
   "execution_count": 14,
   "id": "22ec6539-3ab8-4d86-97e9-5f74152e0282",
   "metadata": {
    "tags": []
   },
   "outputs": [
    {
     "data": {
      "image/png": "[encoded data removed]",
      "text/plain": [
       "<Figure size 640x480 with 1 Axes>"
      ]
     },
     "metadata": {},
     "output_type": "display_data"
    }
   ],
   "source": [
    "ax = (df['ejer_værdipapir'].value_counts()\\\n",
    "    /df['ejer_værdipapir'].count())\\\n",
    "    .plot(kind='pie', title='Hvor mange ejer værdipapir', autopct='%.2f')\n",
    "ax.set_ylabel('Svar i %')\n",
    "ax.legend()\n",
    "ax.plot()\n",
    "plt.show()"
   ]
  },
  {
   "cell_type": "markdown",
   "id": "b5b450ca-eb81-4e2c-9e25-d37fd15b768b",
   "metadata": {},
   "source": [
    "<h2>2) Beregn frekvenser for de forskellige uddannelser (illustrer med søjlediagram)</h2><br>"
   ]
  },
  {
   "cell_type": "code",
   "execution_count": 15,
   "id": "241ac4f9-1091-440a-9110-bad51a1c93e6",
   "metadata": {
    "tags": []
   },
   "outputs": [
    {
     "data": {
      "text/plain": [
       "HHX                             0.453416\n",
       "STX (Almen studentereksamen)    0.335404\n",
       "HF                              0.086957\n",
       "Andet                           0.074534\n",
       "HTX                             0.049689\n",
       "Name: uddannelse, dtype: float64"
      ]
     },
     "execution_count": 15,
     "metadata": {},
     "output_type": "execute_result"
    }
   ],
   "source": [
    "uddval = df['uddannelse'].value_counts(normalize=True)\n",
    "uddval"
   ]
  },
  {
   "cell_type": "code",
   "execution_count": 16,
   "id": "3f940330-d98d-4c31-bd03-833f4275b947",
   "metadata": {
    "tags": []
   },
   "outputs": [
    {
     "data": {
      "image/png": "[encoded data removed]",
      "text/plain": [
       "<Figure size 640x480 with 1 Axes>"
      ]
     },
     "metadata": {},
     "output_type": "display_data"
    }
   ],
   "source": [
    "uddan = df['uddannelse'].value_counts(normalize=True)\\\n",
    "                        .plot(kind='barh', color='teal')\n",
    "\n",
    "for i, v in enumerate(df['uddannelse'].value_counts(normalize=True)):\n",
    "    plt.text(v, i, str(('%.2f' %(v*100))+'%'), color='black', fontweight='bold')\n",
    "    \n",
    "plt.xlabel('% delt af alle studerende')\n",
    "plt.show()"
   ]
  },
  {
   "cell_type": "markdown",
   "id": "8aeb30d5-0963-4e0b-97b5-a0e14a1ceab1",
   "metadata": {},
   "source": [
    "<h2>3) Beregn andel af HHX’er, som har værdipapirer</h2><br>"
   ]
  },
  {
   "cell_type": "code",
   "execution_count": 17,
   "id": "6571749e-505f-41c8-a5e4-382e638343dd",
   "metadata": {
    "tags": []
   },
   "outputs": [],
   "source": [
    "nejfilter = df[df['ejer_værdipapir'] == \"Ja\"].copy()"
   ]
  },
  {
   "cell_type": "code",
   "execution_count": 18,
   "id": "4ef66113-a705-4751-b99c-6df2ec7a585d",
   "metadata": {
    "tags": []
   },
   "outputs": [
    {
     "data": {
      "text/plain": [
       "HHX                             0.5125\n",
       "STX (Almen studentereksamen)    0.2875\n",
       "Andet                           0.0875\n",
       "HF                              0.0625\n",
       "HTX                             0.0500\n",
       "Name: uddannelse, dtype: float64"
      ]
     },
     "execution_count": 18,
     "metadata": {},
     "output_type": "execute_result"
    }
   ],
   "source": [
    "nejfilter['uddannelse'].value_counts(normalize=True)"
   ]
  },
  {
   "cell_type": "markdown",
   "id": "b66329dd-d90d-4996-b76a-aa7b4c1ec004",
   "metadata": {
    "tags": []
   },
   "source": [
    "<h2>4) Er der sammenhæng mellem uddannelsesvalg og om man invester i værdipapirer? (illustrer med søjlediagram)</h2><br>"
   ]
  },
  {
   "cell_type": "code",
   "execution_count": 19,
   "id": "84e95f3b-57cc-41ec-b3b5-201a4cfab7ea",
   "metadata": {
    "tags": []
   },
   "outputs": [
    {
     "data": {
      "image/png": "[encoded data removed]",
      "text/plain": [
       "<Figure size 640x480 with 1 Axes>"
      ]
     },
     "metadata": {},
     "output_type": "display_data"
    }
   ],
   "source": [
    "nejfilter['uddannelse'].value_counts(normalize=True)\\\n",
    "                       .plot(kind='barh',color='teal')\n",
    "\n",
    "for i, v in enumerate(nejfilter['uddannelse'].value_counts(normalize=True)):\n",
    "    plt.text(v, i, str(('%.2f'%(v*100))+'%'), fontweight='bold')\n",
    "    \n",
    "plt.xlabel('% studerende, som ejer værdipapir ift. uddannelser')\n",
    "plt.show()"
   ]
  },
  {
   "cell_type": "markdown",
   "id": "09f2a49d-c2be-4030-a47a-ad794c49ca2e",
   "metadata": {},
   "source": [
    "<h2>5) Er der sammenhæng mellem alder og hvor meget man har investeret?</h2><br>"
   ]
  },
  {
   "cell_type": "code",
   "execution_count": 20,
   "id": "f175c2ab-d5f3-40c1-ba4c-fd99a2d9a26c",
   "metadata": {
    "tags": []
   },
   "outputs": [],
   "source": [
    "værdi = df[~df['værdi'].isnull()]"
   ]
  },
  {
   "cell_type": "code",
   "execution_count": 29,
   "id": "cbc666dc-73bc-45fe-b076-79936bcfa410",
   "metadata": {
    "tags": []
   },
   "outputs": [],
   "source": [
    "værdi = værdi[['alder', \n",
    "       # 'uddannelse', \n",
    "       # 'ejer_værdipapir',\n",
    "       'værdi',\n",
    "       # 'hvorfor?'\n",
    "      ]].copy()"
   ]
  },
  {
   "cell_type": "code",
   "execution_count": 22,
   "id": "fa7a6cc9-0f3b-4b7b-a6b9-a31a5ecbc947",
   "metadata": {
    "tags": []
   },
   "outputs": [
    {
     "data": {
      "text/plain": [
       "<pandas.core.groupby.generic.DataFrameGroupBy object at 0x7f94f21644f0>"
      ]
     },
     "execution_count": 22,
     "metadata": {},
     "output_type": "execute_result"
    }
   ],
   "source": [
    "værdi.groupby('alder', axis=0)"
   ]
  },
  {
   "cell_type": "code",
   "execution_count": 57,
   "id": "dfb4d179-3ddf-4e87-89e2-2947aa4bac96",
   "metadata": {
    "tags": []
   },
   "outputs": [],
   "source": [
    "værdiIprocent = værdi.query('alder != \"18 - 19\"').value_counts(normalize=True)*100"
   ]
  },
  {
   "cell_type": "code",
   "execution_count": 58,
   "id": "b7aa1f81-a53c-48a7-9abf-439e92d0b876",
   "metadata": {
    "tags": []
   },
   "outputs": [
    {
     "data": {
      "text/html": [
       "<style type=\"text/css\">\n",
       "#T_13243_row0_col0, #T_13243_row0_col1, #T_13243_row0_col3, #T_13243_row2_col0, #T_13243_row2_col2 {\n",
       "  background-color: #f7fcf5;\n",
       "  color: #000000;\n",
       "}\n",
       "#T_13243_row0_col2 {\n",
       "  background-color: #73c476;\n",
       "  color: #000000;\n",
       "}\n",
       "#T_13243_row1_col0, #T_13243_row1_col1, #T_13243_row1_col2, #T_13243_row1_col3 {\n",
       "  background-color: #00441b;\n",
       "  color: #f1f1f1;\n",
       "}\n",
       "#T_13243_row2_col1 {\n",
       "  background-color: #ceecc8;\n",
       "  color: #000000;\n",
       "}\n",
       "#T_13243_row2_col3 {\n",
       "  background-color: #75c477;\n",
       "  color: #000000;\n",
       "}\n",
       "</style>\n",
       "<table id=\"T_13243\">\n",
       "  <thead>\n",
       "    <tr>\n",
       "      <th class=\"index_name level0\" >værdi</th>\n",
       "      <th id=\"T_13243_level0_col0\" class=\"col_heading level0 col0\" >0 – 1000 kr.</th>\n",
       "      <th id=\"T_13243_level0_col1\" class=\"col_heading level0 col1\" >10.001 kr eller mere</th>\n",
       "      <th id=\"T_13243_level0_col2\" class=\"col_heading level0 col2\" >1001 - 5000 kr. </th>\n",
       "      <th id=\"T_13243_level0_col3\" class=\"col_heading level0 col3\" >5001 - 10.000 kr.</th>\n",
       "    </tr>\n",
       "    <tr>\n",
       "      <th class=\"index_name level0\" >alder</th>\n",
       "      <th class=\"blank col0\" >&nbsp;</th>\n",
       "      <th class=\"blank col1\" >&nbsp;</th>\n",
       "      <th class=\"blank col2\" >&nbsp;</th>\n",
       "      <th class=\"blank col3\" >&nbsp;</th>\n",
       "    </tr>\n",
       "  </thead>\n",
       "  <tbody>\n",
       "    <tr>\n",
       "      <th id=\"T_13243_level0_row0\" class=\"row_heading level0 row0\" >20 - 21</th>\n",
       "      <td id=\"T_13243_row0_col0\" class=\"data row0 col0\" >2.564103</td>\n",
       "      <td id=\"T_13243_row0_col1\" class=\"data row0 col1\" >19.230769</td>\n",
       "      <td id=\"T_13243_row0_col2\" class=\"data row0 col2\" >3.846154</td>\n",
       "      <td id=\"T_13243_row0_col3\" class=\"data row0 col3\" >1.282051</td>\n",
       "    </tr>\n",
       "    <tr>\n",
       "      <th id=\"T_13243_level0_row1\" class=\"row_heading level0 row1\" >22 - 23</th>\n",
       "      <td id=\"T_13243_row1_col0\" class=\"data row1 col0\" >3.846154</td>\n",
       "      <td id=\"T_13243_row1_col1\" class=\"data row1 col1\" >30.769231</td>\n",
       "      <td id=\"T_13243_row1_col2\" class=\"data row1 col2\" >5.128205</td>\n",
       "      <td id=\"T_13243_row1_col3\" class=\"data row1 col3\" >3.846154</td>\n",
       "    </tr>\n",
       "    <tr>\n",
       "      <th id=\"T_13243_level0_row2\" class=\"row_heading level0 row2\" >24 eller mere</th>\n",
       "      <td id=\"T_13243_row2_col0\" class=\"data row2 col0\" >2.564103</td>\n",
       "      <td id=\"T_13243_row2_col1\" class=\"data row2 col1\" >21.794872</td>\n",
       "      <td id=\"T_13243_row2_col2\" class=\"data row2 col2\" >2.564103</td>\n",
       "      <td id=\"T_13243_row2_col3\" class=\"data row2 col3\" >2.564103</td>\n",
       "    </tr>\n",
       "  </tbody>\n",
       "</table>\n"
      ],
      "text/plain": [
       "<pandas.io.formats.style.Styler at 0x7f94c7266a70>"
      ]
     },
     "execution_count": 58,
     "metadata": {},
     "output_type": "execute_result"
    }
   ],
   "source": [
    "værdiIprocent.unstack().style.background_gradient(cmap=\"Greens\", axis=0)"
   ]
  },
  {
   "cell_type": "code",
   "execution_count": 70,
   "id": "eb58cafd-65a9-47ea-a15c-d08e38dd3c93",
   "metadata": {
    "tags": []
   },
   "outputs": [
    {
     "data": {
      "text/plain": [
       "<AxesSubplot: ylabel='værdi,alder'>"
      ]
     },
     "execution_count": 70,
     "metadata": {},
     "output_type": "execute_result"
    },
    {
     "data": {
      "image/png": "[encoded data removed]",
      "text/plain": [
       "<Figure size 640x480 with 1 Axes>"
      ]
     },
     "metadata": {},
     "output_type": "display_data"
    }
   ],
   "source": [
    "værdi.query('alder != \"18 - 19\"').query('værdi == \"5001 - 10.000 kr.\"').groupby('værdi').value_counts(normalize=True).plot(kind='barh', color='Green')"
   ]
  },
  {
   "cell_type": "code",
   "execution_count": null,
   "id": "9c343296-3733-4b13-86ee-b3086706f78b",
   "metadata": {},
   "outputs": [],
   "source": []
  },
  {
   "cell_type": "code",
   "execution_count": null,
   "id": "09fe4ab2-fb0c-4181-b0cd-3a50c22097f3",
   "metadata": {},
   "outputs": [],
   "source": []
  },
  {
   "cell_type": "code",
   "execution_count": null,
   "id": "9b1ad8ab-4b40-4512-a6c6-a9499130ae09",
   "metadata": {},
   "outputs": [],
   "source": []
  }
 ],
 "metadata": {
  "kernelspec": {
   "display_name": "Python 3 (ipykernel)",
   "language": "python",
   "name": "python3"
  },
  "language_info": {
   "codemirror_mode": {
    "name": "ipython",
    "version": 3
   },
   "file_extension": ".py",
   "mimetype": "text/x-python",
   "name": "python",
   "nbconvert_exporter": "python",
   "pygments_lexer": "ipython3",
   "version": "3.10.9"
  }
 },
 "nbformat": 4,
 "nbformat_minor": 5
}
