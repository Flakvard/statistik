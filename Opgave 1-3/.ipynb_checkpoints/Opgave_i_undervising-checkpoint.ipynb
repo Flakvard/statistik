{
 "cells": [
  {
   "cell_type": "markdown",
   "id": "bba59f7a-0f6d-4438-8dd5-8862c7a90fd2",
   "metadata": {},
   "source": [
    "Brug datasættet ”Sekundær data bolig”\n",
    "# Opgave 1.\n",
    "For variabel ”Den samlede værdi af husholdningens kontante opsparing i hjemmet eller banken”\n",
    "1.1 Lav en box plot med Kehatools:"
   ]
  },
  {
   "cell_type": "code",
   "execution_count": 263,
   "id": "b621b1f4-4248-4f7d-9cbb-857a1159cfbc",
   "metadata": {
    "tags": []
   },
   "outputs": [],
   "source": [
    "import pandas as pd\n",
    "import numpy as np\n",
    "import matplotlib.pyplot as plt"
   ]
  },
  {
   "cell_type": "code",
   "execution_count": 264,
   "id": "8dae9bb5-470e-47bb-878f-2baf7b4febdc",
   "metadata": {
    "tags": []
   },
   "outputs": [],
   "source": [
    "df = pd.read_excel(\"Sekundær data Bolig.xlsx\")"
   ]
  },
  {
   "cell_type": "code",
   "execution_count": 265,
   "id": "1af2f329-1955-4d94-9cd8-8ea17efcc54d",
   "metadata": {
    "tags": []
   },
   "outputs": [
    {
     "data": {
      "text/html": [
       "<div>\n",
       "<style scoped>\n",
       "    .dataframe tbody tr th:only-of-type {\n",
       "        vertical-align: middle;\n",
       "    }\n",
       "\n",
       "    .dataframe tbody tr th {\n",
       "        vertical-align: top;\n",
       "    }\n",
       "\n",
       "    .dataframe thead th {\n",
       "        text-align: right;\n",
       "    }\n",
       "</style>\n",
       "<table border=\"1\" class=\"dataframe\">\n",
       "  <thead>\n",
       "    <tr style=\"text-align: right;\">\n",
       "      <th></th>\n",
       "      <th>respnr</th>\n",
       "      <th>Føler du stress for tiden?</th>\n",
       "      <th>Husholdnings samlede månedelige indkomst</th>\n",
       "      <th>Hvilken type bolig er din helårsbolig?</th>\n",
       "      <th>Bor du i ejer-, leje- eller andelsbolig?</th>\n",
       "      <th>Den samlede værdi af husholdningens kontante opsparing i hjemmet eller banken</th>\n",
       "    </tr>\n",
       "  </thead>\n",
       "  <tbody>\n",
       "    <tr>\n",
       "      <th>0</th>\n",
       "      <td>10001</td>\n",
       "      <td>Aldrig</td>\n",
       "      <td>18000</td>\n",
       "      <td>Parcelhus</td>\n",
       "      <td>Ejerbolig</td>\n",
       "      <td>90000.0</td>\n",
       "    </tr>\n",
       "    <tr>\n",
       "      <th>1</th>\n",
       "      <td>10002</td>\n",
       "      <td>Sjældent</td>\n",
       "      <td>60000</td>\n",
       "      <td>Parcelhus</td>\n",
       "      <td>Ejerbolig</td>\n",
       "      <td>100000.0</td>\n",
       "    </tr>\n",
       "    <tr>\n",
       "      <th>2</th>\n",
       "      <td>10003</td>\n",
       "      <td>Sjældent</td>\n",
       "      <td>11000</td>\n",
       "      <td>Etagebolig</td>\n",
       "      <td>Lejebolig</td>\n",
       "      <td>NaN</td>\n",
       "    </tr>\n",
       "    <tr>\n",
       "      <th>3</th>\n",
       "      <td>10004</td>\n",
       "      <td>Aldrig</td>\n",
       "      <td>14000</td>\n",
       "      <td>Række-/dobbelthus</td>\n",
       "      <td>Lejebolig</td>\n",
       "      <td>100000.0</td>\n",
       "    </tr>\n",
       "    <tr>\n",
       "      <th>4</th>\n",
       "      <td>10005</td>\n",
       "      <td>Sommetider</td>\n",
       "      <td>65000</td>\n",
       "      <td>Række-/dobbelthus</td>\n",
       "      <td>Andelsbolig</td>\n",
       "      <td>NaN</td>\n",
       "    </tr>\n",
       "    <tr>\n",
       "      <th>...</th>\n",
       "      <td>...</td>\n",
       "      <td>...</td>\n",
       "      <td>...</td>\n",
       "      <td>...</td>\n",
       "      <td>...</td>\n",
       "      <td>...</td>\n",
       "    </tr>\n",
       "    <tr>\n",
       "      <th>2381</th>\n",
       "      <td>13727</td>\n",
       "      <td>Sjældent</td>\n",
       "      <td>85000</td>\n",
       "      <td>Parcelhus</td>\n",
       "      <td>Ejerbolig</td>\n",
       "      <td>100000.0</td>\n",
       "    </tr>\n",
       "    <tr>\n",
       "      <th>2382</th>\n",
       "      <td>13728</td>\n",
       "      <td>Sjældent</td>\n",
       "      <td>25000</td>\n",
       "      <td>Parcelhus</td>\n",
       "      <td>Ejerbolig</td>\n",
       "      <td>NaN</td>\n",
       "    </tr>\n",
       "    <tr>\n",
       "      <th>2383</th>\n",
       "      <td>13729</td>\n",
       "      <td>Sjældent</td>\n",
       "      <td>40000</td>\n",
       "      <td>Parcelhus</td>\n",
       "      <td>Ejerbolig</td>\n",
       "      <td>NaN</td>\n",
       "    </tr>\n",
       "    <tr>\n",
       "      <th>2384</th>\n",
       "      <td>13730</td>\n",
       "      <td>Sommetider</td>\n",
       "      <td>42000</td>\n",
       "      <td>Parcelhus</td>\n",
       "      <td>Ejerbolig</td>\n",
       "      <td>NaN</td>\n",
       "    </tr>\n",
       "    <tr>\n",
       "      <th>2385</th>\n",
       "      <td>13731</td>\n",
       "      <td>Sjældent</td>\n",
       "      <td>31000</td>\n",
       "      <td>Etagebolig</td>\n",
       "      <td>Ejerbolig</td>\n",
       "      <td>40000.0</td>\n",
       "    </tr>\n",
       "  </tbody>\n",
       "</table>\n",
       "<p>2386 rows × 6 columns</p>\n",
       "</div>"
      ],
      "text/plain": [
       "      respnr Føler du stress for tiden?  \\\n",
       "0      10001                     Aldrig   \n",
       "1      10002                   Sjældent   \n",
       "2      10003                   Sjældent   \n",
       "3      10004                     Aldrig   \n",
       "4      10005                 Sommetider   \n",
       "...      ...                        ...   \n",
       "2381   13727                   Sjældent   \n",
       "2382   13728                   Sjældent   \n",
       "2383   13729                   Sjældent   \n",
       "2384   13730                 Sommetider   \n",
       "2385   13731                   Sjældent   \n",
       "\n",
       "      Husholdnings samlede månedelige indkomst  \\\n",
       "0                                        18000   \n",
       "1                                        60000   \n",
       "2                                        11000   \n",
       "3                                        14000   \n",
       "4                                        65000   \n",
       "...                                        ...   \n",
       "2381                                     85000   \n",
       "2382                                     25000   \n",
       "2383                                     40000   \n",
       "2384                                     42000   \n",
       "2385                                     31000   \n",
       "\n",
       "     Hvilken type bolig er din helårsbolig?  \\\n",
       "0                                 Parcelhus   \n",
       "1                                 Parcelhus   \n",
       "2                                Etagebolig   \n",
       "3                         Række-/dobbelthus   \n",
       "4                         Række-/dobbelthus   \n",
       "...                                     ...   \n",
       "2381                              Parcelhus   \n",
       "2382                              Parcelhus   \n",
       "2383                              Parcelhus   \n",
       "2384                              Parcelhus   \n",
       "2385                             Etagebolig   \n",
       "\n",
       "     Bor du i ejer-, leje- eller andelsbolig?  \\\n",
       "0                                   Ejerbolig   \n",
       "1                                   Ejerbolig   \n",
       "2                                   Lejebolig   \n",
       "3                                   Lejebolig   \n",
       "4                                 Andelsbolig   \n",
       "...                                       ...   \n",
       "2381                                Ejerbolig   \n",
       "2382                                Ejerbolig   \n",
       "2383                                Ejerbolig   \n",
       "2384                                Ejerbolig   \n",
       "2385                                Ejerbolig   \n",
       "\n",
       "      Den samlede værdi af husholdningens kontante opsparing i hjemmet eller banken  \n",
       "0                                               90000.0                              \n",
       "1                                              100000.0                              \n",
       "2                                                   NaN                              \n",
       "3                                              100000.0                              \n",
       "4                                                   NaN                              \n",
       "...                                                 ...                              \n",
       "2381                                           100000.0                              \n",
       "2382                                                NaN                              \n",
       "2383                                                NaN                              \n",
       "2384                                                NaN                              \n",
       "2385                                            40000.0                              \n",
       "\n",
       "[2386 rows x 6 columns]"
      ]
     },
     "execution_count": 265,
     "metadata": {},
     "output_type": "execute_result"
    }
   ],
   "source": [
    "df"
   ]
  },
  {
   "cell_type": "code",
   "execution_count": 266,
   "id": "84b8f157-c96c-4ee6-abd8-9046a95df1a7",
   "metadata": {
    "tags": []
   },
   "outputs": [
    {
     "data": {
      "text/plain": [
       "Index(['respnr', 'Føler du stress for tiden?',\n",
       "       'Husholdnings samlede månedelige indkomst',\n",
       "       'Hvilken type bolig er din helårsbolig?',\n",
       "       'Bor du i ejer-, leje- eller andelsbolig?',\n",
       "       'Den samlede værdi af husholdningens kontante opsparing i hjemmet eller banken'],\n",
       "      dtype='object')"
      ]
     },
     "execution_count": 266,
     "metadata": {},
     "output_type": "execute_result"
    }
   ],
   "source": [
    "df.columns"
   ]
  },
  {
   "cell_type": "code",
   "execution_count": 267,
   "id": "a1c3ed58-8d77-45aa-acec-0fbb8d37a7a5",
   "metadata": {
    "tags": []
   },
   "outputs": [],
   "source": [
    "df = df[[\n",
    "    #'respnr', \n",
    "    'Føler du stress for tiden?',\n",
    "       'Husholdnings samlede månedelige indkomst',\n",
    "       'Hvilken type bolig er din helårsbolig?',\n",
    "       'Bor du i ejer-, leje- eller andelsbolig?',\n",
    "       'Den samlede værdi af husholdningens kontante opsparing i hjemmet eller banken'\n",
    "        ]].copy()"
   ]
  },
  {
   "cell_type": "code",
   "execution_count": 268,
   "id": "e5287ce3-9027-4801-844a-e1a82772ce3a",
   "metadata": {
    "tags": []
   },
   "outputs": [],
   "source": [
    "df = df.rename(columns={'Husholdnings samlede månedelige indkomst':'indkomst',\n",
    "                        'Den samlede værdi af husholdningens kontante opsparing i hjemmet eller banken':'opsparing',\n",
    "                        'Føler du stress for tiden?':'stress?',\n",
    "                        'Hvilken type bolig er din helårsbolig?':'helårsbolig',\n",
    "                        'Bor du i ejer-, leje- eller andelsbolig?':'ejerlejer'\n",
    "                       })"
   ]
  },
  {
   "cell_type": "code",
   "execution_count": 269,
   "id": "41bb731f-0508-4143-a961-4be49f2b48e5",
   "metadata": {
    "tags": []
   },
   "outputs": [],
   "source": [
    "histdata = df[[\n",
    "                #'stress?'\n",
    "                'indkomst',\n",
    "                #'opsparing',\n",
    "                #'stress?',\n",
    "                #'helårsbolig',\n",
    "                #'ejer/lejer'\n",
    "        ]].copy()"
   ]
  },
  {
   "cell_type": "code",
   "execution_count": 270,
   "id": "e0bbd554-30a2-43e9-b9e1-7891b3b917c5",
   "metadata": {
    "tags": []
   },
   "outputs": [],
   "source": [
    "histdata = round(histdata[histdata['indkomst']<=160000],2)"
   ]
  },
  {
   "cell_type": "code",
   "execution_count": 271,
   "id": "419c19db-6253-418e-a58e-8d2919437442",
   "metadata": {
    "tags": []
   },
   "outputs": [
    {
     "data": {
      "image/png": "[encoded data removed]",
      "text/plain": [
       "<Figure size 2000x500 with 2 Axes>"
      ]
     },
     "metadata": {},
     "output_type": "display_data"
    }
   ],
   "source": [
    "# Define the bins and labels\n",
    "bins = [0, 20000, 40000, 60000, 80000, 100000, 120000, 140000]\n",
    "labels = ['0-20K', '20K-40K', '40K-60K', '60K-80K', '80K-100K', '100K-120K', '120K-140K']\n",
    "\n",
    "# Create the plot\n",
    "fig, axes = plt.subplots(1,2,figsize=(20,5))\n",
    "ax = axes[0]\n",
    "ax.hist(histdata, bins=bins, color='blue')\n",
    "ax.grid(color='gray', linestyle='-', linewidth=0.5)\n",
    "ax.set_title('Indkomst')\n",
    "ax.set_xlabel('Income')\n",
    "ax.set_ylabel('Count')\n",
    "ax.set_xticks(bins[:-1])\n",
    "ax.set_xticklabels(labels)\n",
    "\n",
    "ax = axes[1]\n",
    "ax.boxplot(histdata, showmeans=True)\n",
    "ax.grid(color='gray', linestyle='-', linewidth=0.5)\n",
    "ax.set_title('Indkomst i boxplot')\n",
    "ax.set_xlabel('Income')\n",
    "ax.set_yticks(bins[:-1])\n",
    "ax.set_yticklabels(labels)\n",
    "\n",
    "plt.show()\n"
   ]
  },
  {
   "cell_type": "code",
   "execution_count": 272,
   "id": "6e805f2d-aad0-4124-87d4-abd21d052181",
   "metadata": {
    "tags": []
   },
   "outputs": [],
   "source": [
    "opsdata = df[[\n",
    "                #'stress?'\n",
    "                #'indkomst',\n",
    "                'opsparing',\n",
    "                #'stress?',\n",
    "                #'helårsbolig',\n",
    "                #'ejerlejer'\n",
    "        ]].copy()"
   ]
  },
  {
   "cell_type": "code",
   "execution_count": 273,
   "id": "3ea31361-3db7-434e-86f6-2a6b75ea523f",
   "metadata": {
    "tags": []
   },
   "outputs": [],
   "source": [
    "opsdata = round(opsdata[opsdata['opsparing']<=5000000],2)"
   ]
  },
  {
   "cell_type": "code",
   "execution_count": 274,
   "id": "e5f24c12-71b3-491d-b311-03ffa4c5c581",
   "metadata": {
    "tags": []
   },
   "outputs": [],
   "source": [
    "opsdata = opsdata['opsparing']"
   ]
  },
  {
   "cell_type": "code",
   "execution_count": 275,
   "id": "02c91664-f338-40e3-93be-2003f551db0f",
   "metadata": {
    "tags": []
   },
   "outputs": [
    {
     "data": {
      "image/png": "[encoded data removed]",
      "text/plain": [
       "<Figure size 2000x500 with 2 Axes>"
      ]
     },
     "metadata": {},
     "output_type": "display_data"
    }
   ],
   "source": [
    "# Define the bins and labels\n",
    "#bins = [0, 20000, 40000, 60000, 80000, 100000, 120000, 140000]\n",
    "#labels = ['0-20K', '20K-40K', '40K-60K', '60K-80K', '80K-100K', '100K-120K', '120K-140K']\n",
    "\n",
    "# Create the plot\n",
    "fig, axes = plt.subplots(1,2,figsize=(20,5))\n",
    "ax = axes[0]\n",
    "ax.boxplot(opsdata, showmeans=True)\n",
    "ax.grid(color='gray', linestyle='-', linewidth=0.5)\n",
    "ax.set_title('Indkomst i boxplot')\n",
    "ax.set_xlabel('Income')\n",
    "#ax.set_yticks(bins[:-1])\n",
    "#ax.set_yticklabels(labels)\n",
    "\n",
    "plt.show()\n"
   ]
  },
  {
   "cell_type": "code",
   "execution_count": 276,
   "id": "329eb06c-15a0-4775-99b7-238f125109e8",
   "metadata": {
    "tags": []
   },
   "outputs": [],
   "source": [
    "typebolig_opsparing = df[[\n",
    "                #'stress?'\n",
    "                #'indkomst',\n",
    "                'opsparing',\n",
    "                #'stress?',\n",
    "                #'helårsbolig',\n",
    "                'ejerlejer'\n",
    "        ]].copy()"
   ]
  },
  {
   "cell_type": "code",
   "execution_count": 277,
   "id": "c23df8cf-a109-4524-a4d8-3fc2eb06d570",
   "metadata": {
    "tags": []
   },
   "outputs": [
    {
     "data": {
      "text/plain": [
       "<bound method DataFrame.value_counts of       opsparing    ejerlejer\n",
       "0       90000.0    Ejerbolig\n",
       "1      100000.0    Ejerbolig\n",
       "2           NaN    Lejebolig\n",
       "3      100000.0    Lejebolig\n",
       "4           NaN  Andelsbolig\n",
       "...         ...          ...\n",
       "2381   100000.0    Ejerbolig\n",
       "2382        NaN    Ejerbolig\n",
       "2383        NaN    Ejerbolig\n",
       "2384        NaN    Ejerbolig\n",
       "2385    40000.0    Ejerbolig\n",
       "\n",
       "[2386 rows x 2 columns]>"
      ]
     },
     "execution_count": 277,
     "metadata": {},
     "output_type": "execute_result"
    }
   ],
   "source": [
    "typebolig_opsparing.value_counts"
   ]
  },
  {
   "cell_type": "code",
   "execution_count": 278,
   "id": "7460406d-76af-483d-8805-4affb09b976f",
   "metadata": {
    "tags": []
   },
   "outputs": [
    {
     "data": {
      "text/plain": [
       "ejerlejer    opsparing\n",
       "Andelsbolig  100000.0     0.068966\n",
       "             400000.0     0.068966\n",
       "             50000.0      0.057471\n",
       "             25000.0      0.057471\n",
       "             200000.0     0.057471\n",
       "                            ...   \n",
       "Ved ikke     30000.0      0.111111\n",
       "             15000.0      0.111111\n",
       "             10000.0      0.111111\n",
       "             1.0          0.111111\n",
       "             0.0          0.111111\n",
       "Length: 219, dtype: float64"
      ]
     },
     "execution_count": 278,
     "metadata": {},
     "output_type": "execute_result"
    }
   ],
   "source": [
    "typebolig_opsparing.groupby('ejerlejer').value_counts(normalize=True)"
   ]
  },
  {
   "cell_type": "code",
   "execution_count": 279,
   "id": "f7e97432-5742-4309-a4aa-14b8308471f4",
   "metadata": {
    "tags": []
   },
   "outputs": [
    {
     "data": {
      "text/plain": [
       "array(['Ejerbolig', 'Lejebolig', 'Andelsbolig', 'Ved ikke'], dtype=object)"
      ]
     },
     "execution_count": 279,
     "metadata": {},
     "output_type": "execute_result"
    }
   ],
   "source": [
    "typebolig_opsparing['ejerlejer'].unique()"
   ]
  },
  {
   "cell_type": "code",
   "execution_count": 323,
   "id": "558650a4-f0e5-485c-af2a-9a23dd9bfb1b",
   "metadata": {
    "tags": []
   },
   "outputs": [],
   "source": [
    "typebolig_opsparing = typebolig_opsparing.query('ejerlejer != \"Ved ikke\"')\n",
    "typebolig_opsparing = round(typebolig_opsparing[typebolig_opsparing['opsparing']<=5000000],2)"
   ]
  },
  {
   "cell_type": "code",
   "execution_count": 348,
   "id": "671d5a61-bc5a-4a63-bc63-9ca164e17f42",
   "metadata": {
    "tags": []
   },
   "outputs": [],
   "source": [
    "ejer = typebolig_opsparing.query('ejerlejer == \"Ejerbolig\"')\n",
    "ejer = ejer['opsparing']\n",
    "Lejebolig = typebolig_opsparing.query('ejerlejer == \"Lejebolig\"')\n",
    "Lejebolig = Lejebolig['opsparing']\n",
    "Andelsbolig = typebolig_opsparing.query('ejerlejer == \"Andelsbolig\"')\n",
    "Andelsbolig = Andelsbolig['opsparing']"
   ]
  },
  {
   "cell_type": "code",
   "execution_count": 375,
   "id": "eb1c90a6-85ca-45cb-81ef-d626c1643030",
   "metadata": {
    "tags": []
   },
   "outputs": [
    {
     "data": {
      "image/png": "[encoded data removed]",
      "text/plain": [
       "<Figure size 2000x500 with 3 Axes>"
      ]
     },
     "metadata": {},
     "output_type": "display_data"
    }
   ],
   "source": [
    "# Define the bins and labels\n",
    "\n",
    "# Create the plot\n",
    "fig, axes = plt.subplots(1,3,figsize=(20,5))\n",
    "ax = axes[0]\n",
    "ax.boxplot(ejer, showmeans=True)\n",
    "ax.grid(color='gray', linestyle='-', linewidth=0.5)\n",
    "ax.set_title('Opsparing hos Ejer')\n",
    "ax.set_xlabel('Ejer')\n",
    "ax.set_ylim(0, 5200000)\n",
    "#ax.set_yticks(bins[:-1])\n",
    "#ax.set_yticklabels(labels)\n",
    "\n",
    "\n",
    "ax = axes[1]\n",
    "ax.boxplot(Lejebolig, showmeans=True, autorange=True)\n",
    "ax.grid(color='gray', linestyle='-', linewidth=0.5)\n",
    "ax.set_title('Opsparing hos Lejebolig')\n",
    "ax.set_xlabel('Lejebolig')\n",
    "\n",
    "ax.set_ylim(0, 5200000)\n",
    "#ax.set_yticks(bins[:-1])\n",
    "#ax.set_yticklabels(labels)\n",
    "\n",
    "\n",
    "ax = axes[2]\n",
    "ax.boxplot(Andelsbolig, showmeans=True)\n",
    "ax.grid(color='gray', linestyle='-', linewidth=0.5)\n",
    "ax.set_title('Opsparing hos Andelsbolig')\n",
    "ax.set_xlabel('Andelsbolig')\n",
    "\n",
    "ax.set_ylim(0, 5200000)\n",
    "#ax.set_yticks(bins[:-1])\n",
    "#ax.set_yticklabels(labels)\n",
    "\n",
    "plt.show()\n"
   ]
  },
  {
   "cell_type": "code",
   "execution_count": 350,
   "id": "32123819-bc94-449e-b58c-95164c9b8536",
   "metadata": {
    "tags": []
   },
   "outputs": [
    {
     "name": "stdout",
     "output_type": "stream",
     "text": [
      "Ejer 4300000.0\n",
      "Lejebolig 2000000.0\n",
      "Andelsbolig 5000000.0\n"
     ]
    }
   ],
   "source": [
    "print(\"Ejer\",ejer.max())\n",
    "print(\"Lejebolig\",Lejebolig.max())\n",
    "print(\"Andelsbolig\",Andelsbolig.max())"
   ]
  },
  {
   "cell_type": "code",
   "execution_count": 368,
   "id": "99abe7a1-5c9d-49cc-9f9f-7fa33a11f20c",
   "metadata": {
    "tags": []
   },
   "outputs": [
    {
     "data": {
      "text/plain": [
       "count        979.000000\n",
       "mean      247121.911134\n",
       "std       434126.467134\n",
       "min            0.000000\n",
       "25%        40000.000000\n",
       "50%       100000.000000\n",
       "75%       280000.000000\n",
       "max      4300000.000000\n",
       "Name: opsparing, dtype: object"
      ]
     },
     "execution_count": 368,
     "metadata": {},
     "output_type": "execute_result"
    }
   ],
   "source": [
    "ejer.describe().apply(lambda x: format(x, 'f'))"
   ]
  },
  {
   "cell_type": "code",
   "execution_count": 371,
   "id": "a5c7c755-d639-4d8d-99ef-a5616d7a85b0",
   "metadata": {
    "tags": []
   },
   "outputs": [
    {
     "data": {
      "text/plain": [
       "count        196.000000\n",
       "mean      205825.765306\n",
       "std       323409.315728\n",
       "min            0.000000\n",
       "25%        34250.000000\n",
       "50%        90000.000000\n",
       "75%       207750.000000\n",
       "max      2000000.000000\n",
       "Name: opsparing, dtype: object"
      ]
     },
     "execution_count": 371,
     "metadata": {},
     "output_type": "execute_result"
    }
   ],
   "source": [
    "Lejebolig.describe().apply(lambda x: format(x, 'f'))"
   ]
  },
  {
   "cell_type": "code",
   "execution_count": 372,
   "id": "c9bcbf43-9efd-4756-868c-ff84a1bdc2ad",
   "metadata": {
    "tags": []
   },
   "outputs": [
    {
     "data": {
      "text/plain": [
       "count         87.000000\n",
       "mean      326678.172414\n",
       "std       610881.638282\n",
       "min            0.000000\n",
       "25%        40000.000000\n",
       "50%       100000.000000\n",
       "75%       400000.000000\n",
       "max      5000000.000000\n",
       "Name: opsparing, dtype: object"
      ]
     },
     "execution_count": 372,
     "metadata": {},
     "output_type": "execute_result"
    }
   ],
   "source": [
    "Andelsbolig.describe().apply(lambda x: format(x, 'f'))"
   ]
  },
  {
   "cell_type": "code",
   "execution_count": null,
   "id": "c8935b4a-0c99-4c8f-80bb-0224e5d99260",
   "metadata": {},
   "outputs": [],
   "source": []
  }
 ],
 "metadata": {
  "kernelspec": {
   "display_name": "Python 3 (ipykernel)",
   "language": "python",
   "name": "python3"
  },
  "language_info": {
   "codemirror_mode": {
    "name": "ipython",
    "version": 3
   },
   "file_extension": ".py",
   "mimetype": "text/x-python",
   "name": "python",
   "nbconvert_exporter": "python",
   "pygments_lexer": "ipython3",
   "version": "3.10.9"
  }
 },
 "nbformat": 4,
 "nbformat_minor": 5
}
