{
 "cells": [
  {
   "cell_type": "code",
   "execution_count": 1,
   "id": "1345efab-2a40-4c19-aaba-b0c11a3f8159",
   "metadata": {
    "tags": []
   },
   "outputs": [],
   "source": [
    "import numpy as np\n",
    "import pandas as pd"
   ]
  },
  {
   "cell_type": "code",
   "execution_count": null,
   "id": "b03db6b7-9cf6-4ce9-b6e0-bb50cc8d71b0",
   "metadata": {
    "tags": []
   },
   "outputs": [
    {
     "ename": "TypeError",
     "evalue": "read_excel() got an unexpected keyword argument 'sheet'",
     "output_type": "error",
     "traceback": [
      "\u001b[0;31m---------------------------------------------------------------------------\u001b[0m",
      "\u001b[0;31mTypeError\u001b[0m                                 Traceback (most recent call last)",
      "Cell \u001b[0;32mIn[4], line 1\u001b[0m\n\u001b[0;32m----> 1\u001b[0m investDATA \u001b[38;5;241m=\u001b[39m \u001b[43mpd\u001b[49m\u001b[38;5;241;43m.\u001b[39;49m\u001b[43mread_excel\u001b[49m\u001b[43m(\u001b[49m\u001b[38;5;124;43m\"\u001b[39;49m\u001b[38;5;124;43m./Invest værdipapirer.xlsx\u001b[39;49m\u001b[38;5;124;43m\"\u001b[39;49m\u001b[43m,\u001b[49m\u001b[43msheet\u001b[49m\u001b[38;5;241;43m=\u001b[39;49m\u001b[38;5;124;43m\"\u001b[39;49m\u001b[38;5;124;43mComplete\u001b[39;49m\u001b[38;5;124;43m\"\u001b[39;49m\u001b[43m)\u001b[49m\n",
      "File \u001b[0;32m~/.local/lib/python3.10/site-packages/pandas/util/_decorators.py:211\u001b[0m, in \u001b[0;36mdeprecate_kwarg.<locals>._deprecate_kwarg.<locals>.wrapper\u001b[0;34m(*args, **kwargs)\u001b[0m\n\u001b[1;32m    209\u001b[0m     \u001b[38;5;28;01melse\u001b[39;00m:\n\u001b[1;32m    210\u001b[0m         kwargs[new_arg_name] \u001b[38;5;241m=\u001b[39m new_arg_value\n\u001b[0;32m--> 211\u001b[0m \u001b[38;5;28;01mreturn\u001b[39;00m \u001b[43mfunc\u001b[49m\u001b[43m(\u001b[49m\u001b[38;5;241;43m*\u001b[39;49m\u001b[43margs\u001b[49m\u001b[43m,\u001b[49m\u001b[43m \u001b[49m\u001b[38;5;241;43m*\u001b[39;49m\u001b[38;5;241;43m*\u001b[39;49m\u001b[43mkwargs\u001b[49m\u001b[43m)\u001b[49m\n",
      "File \u001b[0;32m~/.local/lib/python3.10/site-packages/pandas/util/_decorators.py:331\u001b[0m, in \u001b[0;36mdeprecate_nonkeyword_arguments.<locals>.decorate.<locals>.wrapper\u001b[0;34m(*args, **kwargs)\u001b[0m\n\u001b[1;32m    325\u001b[0m \u001b[38;5;28;01mif\u001b[39;00m \u001b[38;5;28mlen\u001b[39m(args) \u001b[38;5;241m>\u001b[39m num_allow_args:\n\u001b[1;32m    326\u001b[0m     warnings\u001b[38;5;241m.\u001b[39mwarn(\n\u001b[1;32m    327\u001b[0m         msg\u001b[38;5;241m.\u001b[39mformat(arguments\u001b[38;5;241m=\u001b[39m_format_argument_list(allow_args)),\n\u001b[1;32m    328\u001b[0m         \u001b[38;5;167;01mFutureWarning\u001b[39;00m,\n\u001b[1;32m    329\u001b[0m         stacklevel\u001b[38;5;241m=\u001b[39mfind_stack_level(),\n\u001b[1;32m    330\u001b[0m     )\n\u001b[0;32m--> 331\u001b[0m \u001b[38;5;28;01mreturn\u001b[39;00m \u001b[43mfunc\u001b[49m\u001b[43m(\u001b[49m\u001b[38;5;241;43m*\u001b[39;49m\u001b[43margs\u001b[49m\u001b[43m,\u001b[49m\u001b[43m \u001b[49m\u001b[38;5;241;43m*\u001b[39;49m\u001b[38;5;241;43m*\u001b[39;49m\u001b[43mkwargs\u001b[49m\u001b[43m)\u001b[49m\n",
      "\u001b[0;31mTypeError\u001b[0m: read_excel() got an unexpected keyword argument 'sheet'"
     ]
    }
   ],
   "source": [
    "investDATA = pd.read_excel(\"./Invest værdipapirer.xlsx\",\"Complete\")"
   ]
  },
  {
   "cell_type": "code",
   "execution_count": 3,
   "id": "e3170ce9-1275-45df-9ef0-b2590ab4994b",
   "metadata": {
    "tags": []
   },
   "outputs": [
    {
     "name": "stdout",
     "output_type": "stream",
     "text": [
      "        s_1  1                       18 - 19\n",
      "0       s_1  2                       20 - 21\n",
      "1       s_1  3                       22 - 23\n",
      "2       s_1  4                 24 eller mere\n",
      "3       s_2  1  STX (Almen studentereksamen)\n",
      "4       s_2  2                            HF\n",
      "5       s_2  3                           HHX\n",
      "6       s_2  4                           HTX\n",
      "7       s_2  5                         Andet\n",
      "8       s_3  1                            Ja\n",
      "9       s_3  2                           Nej\n",
      "10      s_4  1                  0 – 1000 kr.\n",
      "11      s_4  2              1001 - 5000 kr. \n",
      "12      s_4  3             5001 - 10.000 kr.\n",
      "13      s_4  4          10.001 kr eller mere\n",
      "14      s_5  1          Mangler viden om det\n",
      "15      s_5  2             Risiko er for høj\n",
      "16      s_5  3                  Har ikke råd\n",
      "17      s_5  4      Det intresserer mig ikke\n",
      "18      s_5  5                         Andet\n",
      "19  stato_1  0                    Ikke valgt\n",
      "20  stato_1  1                         Valgt\n",
      "21  stato_2  0                    Ikke valgt\n",
      "22  stato_2  1                         Valgt\n",
      "23  stato_3  0                    Ikke valgt\n",
      "24  stato_3  1                         Valgt\n",
      "25  stato_4  0                    Ikke valgt\n",
      "26  stato_4  1                         Valgt\n",
      "27  stato_5  0                    Ikke valgt\n",
      "28  stato_5  1                         Valgt\n"
     ]
    }
   ],
   "source": [
    "print(investDATA)"
   ]
  },
  {
   "cell_type": "code",
   "execution_count": null,
   "id": "6ede26c7-7ba9-47f7-a639-e650d1240c0c",
   "metadata": {},
   "outputs": [],
   "source": []
  }
 ],
 "metadata": {
  "kernelspec": {
   "display_name": "Python 3 (ipykernel)",
   "language": "python",
   "name": "python3"
  },
  "language_info": {
   "codemirror_mode": {
    "name": "ipython",
    "version": 3
   },
   "file_extension": ".py",
   "mimetype": "text/x-python",
   "name": "python",
   "nbconvert_exporter": "python",
   "pygments_lexer": "ipython3",
   "version": "3.10.9"
  }
 },
 "nbformat": 4,
 "nbformat_minor": 5
}
