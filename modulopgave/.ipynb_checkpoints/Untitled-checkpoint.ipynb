{
 "cells": [
  {
   "cell_type": "markdown",
   "id": "19a47e8e-8cef-400b-8382-7f187f1aa2c6",
   "metadata": {},
   "source": [
    "# Modulopgave statistik\n",
    "## Opgaven er delt i to dele. Del 1 og Del 2\n",
    "### Til at besvare modulopgaven, skal I bruge to datasæts ”Investering i værdipapirer nyeste” og ”Google Play Apps”."
   ]
  },
  {
   "cell_type": "code",
   "execution_count": 14,
   "id": "410ef634-e4f3-449d-a07d-57a59a9f33e6",
   "metadata": {
    "tags": []
   },
   "outputs": [],
   "source": [
    "import numpy as np\n",
    "import pandas as pd\n",
    "import matplotlib.pyplot as plot\n",
    "from scipy.stats import norm"
   ]
  },
  {
   "cell_type": "markdown",
   "id": "27083d04-a162-4b1f-aa63-5d8e2c610509",
   "metadata": {},
   "source": [
    "# Del 1\n",
    "Her skal I bruge datasættet ”Investering i værdipapirer nyeste”, som I har besvaret i starten af denne\n",
    "semester. Antag at undersøgelsen handler om investeringsadfærd blandt de danske studerende."
   ]
  },
  {
   "cell_type": "code",
   "execution_count": 50,
   "id": "761c722b-265f-4ebd-b662-ce5afdfccee2",
   "metadata": {
    "tags": []
   },
   "outputs": [],
   "source": [
    "dfInvest = pd.read_excel(\"./Kopi af Investering i værdipapirer nyeste.xlsx\")"
   ]
  },
  {
   "cell_type": "markdown",
   "id": "c86e71b6-6012-448a-8fb9-d5565d0663e8",
   "metadata": {},
   "source": [
    "## 1) Lav en passende figur til at illustrere andelen af respondenter, som ejer værdipapirer."
   ]
  },
  {
   "cell_type": "code",
   "execution_count": 51,
   "id": "ff4ce423-a8ed-420a-b28b-00443ff25dd0",
   "metadata": {
    "tags": []
   },
   "outputs": [
    {
     "data": {
      "text/html": [
       "<div>\n",
       "<style scoped>\n",
       "    .dataframe tbody tr th:only-of-type {\n",
       "        vertical-align: middle;\n",
       "    }\n",
       "\n",
       "    .dataframe tbody tr th {\n",
       "        vertical-align: top;\n",
       "    }\n",
       "\n",
       "    .dataframe thead th {\n",
       "        text-align: right;\n",
       "    }\n",
       "</style>\n",
       "<table border=\"1\" class=\"dataframe\">\n",
       "  <thead>\n",
       "    <tr style=\"text-align: right;\">\n",
       "      <th></th>\n",
       "      <th>Hvad er din alder?</th>\n",
       "      <th>Angiv din adgangsgivende eksamen til din nuværende uddannelse</th>\n",
       "      <th>Ejer du i dag værdipapirer, som f.eks. aktier og/eller obligationer?</th>\n",
       "      <th>Hvad er værdien af din portefølje i kr.?</th>\n",
       "      <th>Hvorfor investerer du ikke i værdipapirer?</th>\n",
       "      <th>E-mail</th>\n",
       "      <th>Samlet status - Ny</th>\n",
       "      <th>Samlet status - Distribueret</th>\n",
       "      <th>Samlet status - Nogen svar</th>\n",
       "      <th>Samlet status - Gennemført</th>\n",
       "      <th>Samlet status - Frafaldet</th>\n",
       "    </tr>\n",
       "  </thead>\n",
       "  <tbody>\n",
       "    <tr>\n",
       "      <th>0</th>\n",
       "      <td>20 - 21</td>\n",
       "      <td>STX (Almen studentereksamen)</td>\n",
       "      <td>Nej</td>\n",
       "      <td>NaN</td>\n",
       "      <td>Har ikke råd</td>\n",
       "      <td>NaN</td>\n",
       "      <td>0</td>\n",
       "      <td>0</td>\n",
       "      <td>0</td>\n",
       "      <td>1</td>\n",
       "      <td>0</td>\n",
       "    </tr>\n",
       "    <tr>\n",
       "      <th>1</th>\n",
       "      <td>22 - 23</td>\n",
       "      <td>HHX</td>\n",
       "      <td>Ja</td>\n",
       "      <td>10.001 kr eller mere</td>\n",
       "      <td>NaN</td>\n",
       "      <td>NaN</td>\n",
       "      <td>0</td>\n",
       "      <td>0</td>\n",
       "      <td>0</td>\n",
       "      <td>1</td>\n",
       "      <td>0</td>\n",
       "    </tr>\n",
       "    <tr>\n",
       "      <th>2</th>\n",
       "      <td>22 - 23</td>\n",
       "      <td>HHX</td>\n",
       "      <td>Ja</td>\n",
       "      <td>1001 - 5000 kr.</td>\n",
       "      <td>NaN</td>\n",
       "      <td>NaN</td>\n",
       "      <td>0</td>\n",
       "      <td>0</td>\n",
       "      <td>0</td>\n",
       "      <td>1</td>\n",
       "      <td>0</td>\n",
       "    </tr>\n",
       "    <tr>\n",
       "      <th>3</th>\n",
       "      <td>NaN</td>\n",
       "      <td>NaN</td>\n",
       "      <td>NaN</td>\n",
       "      <td>NaN</td>\n",
       "      <td>NaN</td>\n",
       "      <td>NaN</td>\n",
       "      <td>0</td>\n",
       "      <td>1</td>\n",
       "      <td>0</td>\n",
       "      <td>0</td>\n",
       "      <td>0</td>\n",
       "    </tr>\n",
       "    <tr>\n",
       "      <th>4</th>\n",
       "      <td>22 - 23</td>\n",
       "      <td>HHX</td>\n",
       "      <td>Ja</td>\n",
       "      <td>10.001 kr eller mere</td>\n",
       "      <td>NaN</td>\n",
       "      <td>NaN</td>\n",
       "      <td>0</td>\n",
       "      <td>0</td>\n",
       "      <td>0</td>\n",
       "      <td>1</td>\n",
       "      <td>0</td>\n",
       "    </tr>\n",
       "    <tr>\n",
       "      <th>...</th>\n",
       "      <td>...</td>\n",
       "      <td>...</td>\n",
       "      <td>...</td>\n",
       "      <td>...</td>\n",
       "      <td>...</td>\n",
       "      <td>...</td>\n",
       "      <td>...</td>\n",
       "      <td>...</td>\n",
       "      <td>...</td>\n",
       "      <td>...</td>\n",
       "      <td>...</td>\n",
       "    </tr>\n",
       "    <tr>\n",
       "      <th>285</th>\n",
       "      <td>24 eller mere</td>\n",
       "      <td>HF</td>\n",
       "      <td>Ja</td>\n",
       "      <td>10.001 kr eller mere</td>\n",
       "      <td>NaN</td>\n",
       "      <td>NaN</td>\n",
       "      <td>0</td>\n",
       "      <td>0</td>\n",
       "      <td>0</td>\n",
       "      <td>1</td>\n",
       "      <td>0</td>\n",
       "    </tr>\n",
       "    <tr>\n",
       "      <th>286</th>\n",
       "      <td>18 - 19</td>\n",
       "      <td>Andet</td>\n",
       "      <td>Nej</td>\n",
       "      <td>NaN</td>\n",
       "      <td>Risiko er for høj</td>\n",
       "      <td>NaN</td>\n",
       "      <td>0</td>\n",
       "      <td>0</td>\n",
       "      <td>0</td>\n",
       "      <td>1</td>\n",
       "      <td>0</td>\n",
       "    </tr>\n",
       "    <tr>\n",
       "      <th>287</th>\n",
       "      <td>22 - 23</td>\n",
       "      <td>STX (Almen studentereksamen)</td>\n",
       "      <td>Ja</td>\n",
       "      <td>10.001 kr eller mere</td>\n",
       "      <td>NaN</td>\n",
       "      <td>NaN</td>\n",
       "      <td>0</td>\n",
       "      <td>0</td>\n",
       "      <td>0</td>\n",
       "      <td>1</td>\n",
       "      <td>0</td>\n",
       "    </tr>\n",
       "    <tr>\n",
       "      <th>288</th>\n",
       "      <td>24 eller mere</td>\n",
       "      <td>HF</td>\n",
       "      <td>Ja</td>\n",
       "      <td>10.001 kr eller mere</td>\n",
       "      <td>NaN</td>\n",
       "      <td>NaN</td>\n",
       "      <td>0</td>\n",
       "      <td>0</td>\n",
       "      <td>0</td>\n",
       "      <td>1</td>\n",
       "      <td>0</td>\n",
       "    </tr>\n",
       "    <tr>\n",
       "      <th>289</th>\n",
       "      <td>24 eller mere</td>\n",
       "      <td>HHX</td>\n",
       "      <td>Ja</td>\n",
       "      <td>10.001 kr eller mere</td>\n",
       "      <td>NaN</td>\n",
       "      <td>NaN</td>\n",
       "      <td>0</td>\n",
       "      <td>0</td>\n",
       "      <td>0</td>\n",
       "      <td>1</td>\n",
       "      <td>0</td>\n",
       "    </tr>\n",
       "  </tbody>\n",
       "</table>\n",
       "<p>290 rows × 11 columns</p>\n",
       "</div>"
      ],
      "text/plain": [
       "    Hvad er din alder?  \\\n",
       "0              20 - 21   \n",
       "1              22 - 23   \n",
       "2              22 - 23   \n",
       "3                  NaN   \n",
       "4              22 - 23   \n",
       "..                 ...   \n",
       "285      24 eller mere   \n",
       "286            18 - 19   \n",
       "287            22 - 23   \n",
       "288      24 eller mere   \n",
       "289      24 eller mere   \n",
       "\n",
       "    Angiv din adgangsgivende eksamen til din nuværende uddannelse  \\\n",
       "0                         STX (Almen studentereksamen)              \n",
       "1                                                  HHX              \n",
       "2                                                  HHX              \n",
       "3                                                  NaN              \n",
       "4                                                  HHX              \n",
       "..                                                 ...              \n",
       "285                                                 HF              \n",
       "286                                              Andet              \n",
       "287                       STX (Almen studentereksamen)              \n",
       "288                                                 HF              \n",
       "289                                                HHX              \n",
       "\n",
       "    Ejer du i dag værdipapirer, som f.eks. aktier og/eller obligationer?  \\\n",
       "0                                                  Nej                     \n",
       "1                                                   Ja                     \n",
       "2                                                   Ja                     \n",
       "3                                                  NaN                     \n",
       "4                                                   Ja                     \n",
       "..                                                 ...                     \n",
       "285                                                 Ja                     \n",
       "286                                                Nej                     \n",
       "287                                                 Ja                     \n",
       "288                                                 Ja                     \n",
       "289                                                 Ja                     \n",
       "\n",
       "    Hvad er værdien af din portefølje i kr.?  \\\n",
       "0                                        NaN   \n",
       "1                       10.001 kr eller mere   \n",
       "2                           1001 - 5000 kr.    \n",
       "3                                        NaN   \n",
       "4                       10.001 kr eller mere   \n",
       "..                                       ...   \n",
       "285                     10.001 kr eller mere   \n",
       "286                                      NaN   \n",
       "287                     10.001 kr eller mere   \n",
       "288                     10.001 kr eller mere   \n",
       "289                     10.001 kr eller mere   \n",
       "\n",
       "    Hvorfor investerer du ikke i værdipapirer?  E-mail  Samlet status - Ny  \\\n",
       "0                                 Har ikke råd     NaN                   0   \n",
       "1                                          NaN     NaN                   0   \n",
       "2                                          NaN     NaN                   0   \n",
       "3                                          NaN     NaN                   0   \n",
       "4                                          NaN     NaN                   0   \n",
       "..                                         ...     ...                 ...   \n",
       "285                                        NaN     NaN                   0   \n",
       "286                          Risiko er for høj     NaN                   0   \n",
       "287                                        NaN     NaN                   0   \n",
       "288                                        NaN     NaN                   0   \n",
       "289                                        NaN     NaN                   0   \n",
       "\n",
       "     Samlet status - Distribueret  Samlet status - Nogen svar  \\\n",
       "0                               0                           0   \n",
       "1                               0                           0   \n",
       "2                               0                           0   \n",
       "3                               1                           0   \n",
       "4                               0                           0   \n",
       "..                            ...                         ...   \n",
       "285                             0                           0   \n",
       "286                             0                           0   \n",
       "287                             0                           0   \n",
       "288                             0                           0   \n",
       "289                             0                           0   \n",
       "\n",
       "     Samlet status - Gennemført  Samlet status - Frafaldet  \n",
       "0                             1                          0  \n",
       "1                             1                          0  \n",
       "2                             1                          0  \n",
       "3                             0                          0  \n",
       "4                             1                          0  \n",
       "..                          ...                        ...  \n",
       "285                           1                          0  \n",
       "286                           1                          0  \n",
       "287                           1                          0  \n",
       "288                           1                          0  \n",
       "289                           1                          0  \n",
       "\n",
       "[290 rows x 11 columns]"
      ]
     },
     "execution_count": 51,
     "metadata": {},
     "output_type": "execute_result"
    }
   ],
   "source": [
    "dfInvest"
   ]
  },
  {
   "cell_type": "code",
   "execution_count": 52,
   "id": "d8e31db5-5bd7-4169-a9dc-e66cbdd9c25b",
   "metadata": {
    "tags": []
   },
   "outputs": [
    {
     "data": {
      "text/plain": [
       "Index(['Hvad er din alder?',\n",
       "       'Angiv din adgangsgivende eksamen til din nuværende uddannelse',\n",
       "       'Ejer du i dag værdipapirer, som f.eks. aktier og/eller obligationer?',\n",
       "       'Hvad er værdien af din portefølje i kr.?',\n",
       "       'Hvorfor investerer du ikke i værdipapirer?', 'E-mail',\n",
       "       'Samlet status - Ny', 'Samlet status - Distribueret',\n",
       "       'Samlet status - Nogen svar', 'Samlet status - Gennemført',\n",
       "       'Samlet status - Frafaldet'],\n",
       "      dtype='object')"
      ]
     },
     "execution_count": 52,
     "metadata": {},
     "output_type": "execute_result"
    }
   ],
   "source": [
    "dfInvest.columns"
   ]
  },
  {
   "cell_type": "code",
   "execution_count": 54,
   "id": "94ee7915-21c6-49c5-af98-e958c172aede",
   "metadata": {
    "tags": []
   },
   "outputs": [],
   "source": [
    "dfInvest = dfInvest[['Hvad er din alder?',\n",
    "       'Angiv din adgangsgivende eksamen til din nuværende uddannelse',\n",
    "       'Ejer du i dag værdipapirer, som f.eks. aktier og/eller obligationer?',\n",
    "       'Hvad er værdien af din portefølje i kr.?',\n",
    "       'Hvorfor investerer du ikke i værdipapirer?']]"
   ]
  },
  {
   "cell_type": "code",
   "execution_count": 55,
   "id": "db910d67-d8cf-4f44-89e9-00b9d315369e",
   "metadata": {
    "tags": []
   },
   "outputs": [],
   "source": [
    "dfInvest = dfInvest.rename(columns={'Hvad er din alder?':'alder',\n",
    "       'Angiv din adgangsgivende eksamen til din nuværende uddannelse':'uddannelse',\n",
    "       'Ejer du i dag værdipapirer, som f.eks. aktier og/eller obligationer?':'ejer værdipapirer',\n",
    "       'Hvad er værdien af din portefølje i kr.?':'værdi',\n",
    "   })"
   ]
  },
  {
   "cell_type": "code",
   "execution_count": 94,
   "id": "d6035b26-14e4-47e4-803a-6252bd79b046",
   "metadata": {
    "tags": []
   },
   "outputs": [
    {
     "data": {
      "text/plain": [
       "259"
      ]
     },
     "execution_count": 94,
     "metadata": {},
     "output_type": "execute_result"
    }
   ],
   "source": [
    "dfInvest['ejer værdipapirer'].count()"
   ]
  },
  {
   "cell_type": "code",
   "execution_count": 100,
   "id": "f1fdab6f-0f62-442f-bc92-40ead012f45d",
   "metadata": {
    "tags": []
   },
   "outputs": [
    {
     "ename": "AttributeError",
     "evalue": "'Series' object has no attribute 'query'",
     "output_type": "error",
     "traceback": [
      "\u001b[0;31m---------------------------------------------------------------------------\u001b[0m",
      "\u001b[0;31mAttributeError\u001b[0m                            Traceback (most recent call last)",
      "Cell \u001b[0;32mIn[100], line 1\u001b[0m\n\u001b[0;32m----> 1\u001b[0m Nej \u001b[38;5;241m=\u001b[39m \u001b[43mdfInvest\u001b[49m\u001b[43m[\u001b[49m\u001b[38;5;124;43m'\u001b[39;49m\u001b[38;5;124;43mejer værdipapirer\u001b[39;49m\u001b[38;5;124;43m'\u001b[39;49m\u001b[43m]\u001b[49m\u001b[38;5;241;43m.\u001b[39;49m\u001b[43mquery\u001b[49m(\u001b[38;5;124m'\u001b[39m\u001b[38;5;124mejer værdipapirer\u001b[39m\u001b[38;5;124m'\u001b[39m\u001b[38;5;241m==\u001b[39m \u001b[38;5;124m\"\u001b[39m\u001b[38;5;124mNej\u001b[39m\u001b[38;5;124m\"\u001b[39m)\n\u001b[1;32m      2\u001b[0m Nej\n",
      "File \u001b[0;32m~/.local/lib/python3.10/site-packages/pandas/core/generic.py:5902\u001b[0m, in \u001b[0;36mNDFrame.__getattr__\u001b[0;34m(self, name)\u001b[0m\n\u001b[1;32m   5895\u001b[0m \u001b[38;5;28;01mif\u001b[39;00m (\n\u001b[1;32m   5896\u001b[0m     name \u001b[38;5;129;01mnot\u001b[39;00m \u001b[38;5;129;01min\u001b[39;00m \u001b[38;5;28mself\u001b[39m\u001b[38;5;241m.\u001b[39m_internal_names_set\n\u001b[1;32m   5897\u001b[0m     \u001b[38;5;129;01mand\u001b[39;00m name \u001b[38;5;129;01mnot\u001b[39;00m \u001b[38;5;129;01min\u001b[39;00m \u001b[38;5;28mself\u001b[39m\u001b[38;5;241m.\u001b[39m_metadata\n\u001b[1;32m   5898\u001b[0m     \u001b[38;5;129;01mand\u001b[39;00m name \u001b[38;5;129;01mnot\u001b[39;00m \u001b[38;5;129;01min\u001b[39;00m \u001b[38;5;28mself\u001b[39m\u001b[38;5;241m.\u001b[39m_accessors\n\u001b[1;32m   5899\u001b[0m     \u001b[38;5;129;01mand\u001b[39;00m \u001b[38;5;28mself\u001b[39m\u001b[38;5;241m.\u001b[39m_info_axis\u001b[38;5;241m.\u001b[39m_can_hold_identifiers_and_holds_name(name)\n\u001b[1;32m   5900\u001b[0m ):\n\u001b[1;32m   5901\u001b[0m     \u001b[38;5;28;01mreturn\u001b[39;00m \u001b[38;5;28mself\u001b[39m[name]\n\u001b[0;32m-> 5902\u001b[0m \u001b[38;5;28;01mreturn\u001b[39;00m \u001b[38;5;28;43mobject\u001b[39;49m\u001b[38;5;241;43m.\u001b[39;49m\u001b[38;5;21;43m__getattribute__\u001b[39;49m\u001b[43m(\u001b[49m\u001b[38;5;28;43mself\u001b[39;49m\u001b[43m,\u001b[49m\u001b[43m \u001b[49m\u001b[43mname\u001b[49m\u001b[43m)\u001b[49m\n",
      "\u001b[0;31mAttributeError\u001b[0m: 'Series' object has no attribute 'query'"
     ]
    }
   ],
   "source": [
    "Nej = dfInvest['ejer værdipapirer'].query('ejer værdipapirer'== \"Nej\")\n",
    "Nej"
   ]
  },
  {
   "cell_type": "code",
   "execution_count": 73,
   "id": "291edd45-4f60-4181-861d-02b67587f86a",
   "metadata": {
    "tags": []
   },
   "outputs": [
    {
     "data": {
      "text/plain": [
       "<bound method IndexOpsMixin.value_counts of 0                       NaN\n",
       "1      10.001 kr eller mere\n",
       "2          1001 - 5000 kr. \n",
       "3                       NaN\n",
       "4      10.001 kr eller mere\n",
       "               ...         \n",
       "285    10.001 kr eller mere\n",
       "286                     NaN\n",
       "287    10.001 kr eller mere\n",
       "288    10.001 kr eller mere\n",
       "289    10.001 kr eller mere\n",
       "Name: værdi, Length: 290, dtype: object>"
      ]
     },
     "execution_count": 73,
     "metadata": {},
     "output_type": "execute_result"
    }
   ],
   "source": [
    "dfInvest['værdi'].value_counts"
   ]
  },
  {
   "cell_type": "code",
   "execution_count": null,
   "id": "9a95d49d-c287-4876-bec0-bdbdd8fd267e",
   "metadata": {},
   "outputs": [],
   "source": [
    "plot(kind='bar')"
   ]
  },
  {
   "cell_type": "markdown",
   "id": "a24afdca-93a4-4641-97b6-56182053ecbf",
   "metadata": {},
   "source": [
    "## 2) Beregn et 95% konfidensinterval for andelen af studerende, som investerer i værdipapirer."
   ]
  },
  {
   "cell_type": "code",
   "execution_count": null,
   "id": "af5730bd-9f92-421c-8376-0e9dce718acb",
   "metadata": {},
   "outputs": [],
   "source": []
  },
  {
   "cell_type": "markdown",
   "id": "4f4901dd-cf15-4fd1-b0bb-564e18feb570",
   "metadata": {},
   "source": [
    "## 3) Test på 5% signifikansniveau om at mindst halvdelen af de danske studerende ejer værdipapirer."
   ]
  },
  {
   "cell_type": "code",
   "execution_count": null,
   "id": "25fd7311-76c6-4938-869b-4410c2364ddc",
   "metadata": {},
   "outputs": [],
   "source": []
  },
  {
   "cell_type": "markdown",
   "id": "24db7136-51c5-4326-be21-c6f653237273",
   "metadata": {},
   "source": [
    "## 4) Lav en passende figur, som viser hvordan andelen af respondenter, som investerer i værdipairer,fordeler sig ift. uddannelsestyper. Ud fra figuren: hvem har den største tendens til at investere i værdipapirer, hvem har den mindste tendens?"
   ]
  },
  {
   "cell_type": "code",
   "execution_count": null,
   "id": "954fe1d0-db94-4fb1-a83d-87f2441d1dd1",
   "metadata": {},
   "outputs": [],
   "source": []
  },
  {
   "cell_type": "markdown",
   "id": "75fc1a9a-bc26-4ee8-820d-24024c6c20c5",
   "metadata": {},
   "source": [
    "## 5) Test på 5% signifikansniveau om andelen, der investerer i værdipapirer er signifikant større blandt studerende med HHX baggrund for studerende med STX baggrund."
   ]
  },
  {
   "cell_type": "code",
   "execution_count": null,
   "id": "c218b9d1-9b41-44fa-8ec3-f0509d7d8d05",
   "metadata": {},
   "outputs": [],
   "source": []
  },
  {
   "cell_type": "markdown",
   "id": "71b4c110-15e0-4c6e-adae-4e3ab7c9b8f0",
   "metadata": {},
   "source": [
    "# Del 2\n",
    "Her skal I bruge datasættet ”Google Play Apps”."
   ]
  },
  {
   "cell_type": "code",
   "execution_count": 10,
   "id": "8a0aa9fb-2f5b-40da-bb98-233c313b82bd",
   "metadata": {
    "tags": []
   },
   "outputs": [],
   "source": [
    "#dfApps = pd.read_excel(\"./Kopi af Google Play Apps.xls\")"
   ]
  },
  {
   "cell_type": "markdown",
   "id": "1b877ab1-8bdd-4eb4-a84a-43985ea3c747",
   "metadata": {},
   "source": [
    "## 1) En af variable i datasættet er ratings, som viser brugernes rating fra 1 til 5 for de enkelte apps.\n",
    "Beregn 95% KI for rating for alle Google Play Apps."
   ]
  },
  {
   "cell_type": "code",
   "execution_count": null,
   "id": "3c349d37-10e0-4a67-9f9a-0222426b916f",
   "metadata": {},
   "outputs": [],
   "source": []
  },
  {
   "cell_type": "markdown",
   "id": "d647a2d4-7bc0-4e0a-8058-01772a355580",
   "metadata": {},
   "source": [
    "## 2) Hvilken kategori apps har i den højeste gennemsnitlige rating og hvilken kategori apps har den\n",
    "laveste gennemsnitlige rating? (brug variabel category til at gruppere i Excel)\n"
   ]
  },
  {
   "cell_type": "code",
   "execution_count": null,
   "id": "b81799ce-1c3d-46e6-ac2b-db1d0384ab04",
   "metadata": {},
   "outputs": [],
   "source": []
  },
  {
   "cell_type": "markdown",
   "id": "f9c50208-f035-465d-b20a-06bee4bb4fcd",
   "metadata": {},
   "source": [
    "## 3) Undersøg hvad er den gennemsnitlige rating for betalings apps ift. gratis apps. Test på 5%\n",
    "signifikansniveau om forskellen er statistisk signifikant.\n"
   ]
  },
  {
   "cell_type": "code",
   "execution_count": null,
   "id": "28f55f74-ecff-4b15-9763-03b02400fe9f",
   "metadata": {},
   "outputs": [],
   "source": []
  },
  {
   "cell_type": "markdown",
   "id": "acf853e7-fbd3-46c5-aa6d-a20f68bc2913",
   "metadata": {},
   "source": [
    "## 4) Test på 5% signifikansniveau om den gennemsnitlige pris for apps på Google Play er mindre end 5$."
   ]
  },
  {
   "cell_type": "code",
   "execution_count": null,
   "id": "443fd013-0279-4749-adc1-5611f0f19c06",
   "metadata": {},
   "outputs": [],
   "source": []
  }
 ],
 "metadata": {
  "kernelspec": {
   "display_name": "Python 3 (ipykernel)",
   "language": "python",
   "name": "python3"
  },
  "language_info": {
   "codemirror_mode": {
    "name": "ipython",
    "version": 3
   },
   "file_extension": ".py",
   "mimetype": "text/x-python",
   "name": "python",
   "nbconvert_exporter": "python",
   "pygments_lexer": "ipython3",
   "version": "3.10.9"
  }
 },
 "nbformat": 4,
 "nbformat_minor": 5
}
