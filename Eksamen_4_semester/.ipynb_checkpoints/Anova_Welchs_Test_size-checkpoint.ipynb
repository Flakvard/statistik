{
 "cells": [
  {
   "cell_type": "code",
   "execution_count": 6,
   "id": "92675cb0-ea53-4c86-a8e8-c138bfac966c",
   "metadata": {},
   "outputs": [],
   "source": [
    "import scipy.stats as stats\n",
    "import pingouin as pg\n",
    "import pandas as pd"
   ]
  },
  {
   "cell_type": "code",
   "execution_count": 7,
   "id": "1279bcb4-a6b0-4819-96a3-b96e3680ca6e",
   "metadata": {},
   "outputs": [],
   "source": [
    "df_excel = pd.read_excel(\"./WelchTest_GooglePlay_dataset.xlsx\", \"ANOVA_CATEGORIES_SIZE\")"
   ]
  },
  {
   "cell_type": "code",
   "execution_count": 8,
   "id": "e32ea4fa-b5f0-4caf-9af4-c80e35f8615e",
   "metadata": {},
   "outputs": [
    {
     "data": {
      "text/html": [
       "<div>\n",
       "<style scoped>\n",
       "    .dataframe tbody tr th:only-of-type {\n",
       "        vertical-align: middle;\n",
       "    }\n",
       "\n",
       "    .dataframe tbody tr th {\n",
       "        vertical-align: top;\n",
       "    }\n",
       "\n",
       "    .dataframe thead th {\n",
       "        text-align: right;\n",
       "    }\n",
       "</style>\n",
       "<table border=\"1\" class=\"dataframe\">\n",
       "  <thead>\n",
       "    <tr style=\"text-align: right;\">\n",
       "      <th></th>\n",
       "      <th>COMMUNICATION</th>\n",
       "      <th>FAMILY</th>\n",
       "      <th>GAME</th>\n",
       "      <th>PRODUCTIVITY</th>\n",
       "    </tr>\n",
       "  </thead>\n",
       "  <tbody>\n",
       "    <tr>\n",
       "      <th>count</th>\n",
       "      <td>53.000000</td>\n",
       "      <td>463.000000</td>\n",
       "      <td>267.000000</td>\n",
       "      <td>58.000000</td>\n",
       "    </tr>\n",
       "    <tr>\n",
       "      <th>mean</th>\n",
       "      <td>15.067925</td>\n",
       "      <td>29.967063</td>\n",
       "      <td>44.339326</td>\n",
       "      <td>16.006897</td>\n",
       "    </tr>\n",
       "    <tr>\n",
       "      <th>std</th>\n",
       "      <td>15.222096</td>\n",
       "      <td>26.109084</td>\n",
       "      <td>27.572620</td>\n",
       "      <td>18.509295</td>\n",
       "    </tr>\n",
       "    <tr>\n",
       "      <th>min</th>\n",
       "      <td>1.000000</td>\n",
       "      <td>1.200000</td>\n",
       "      <td>1.300000</td>\n",
       "      <td>1.200000</td>\n",
       "    </tr>\n",
       "    <tr>\n",
       "      <th>25%</th>\n",
       "      <td>4.300000</td>\n",
       "      <td>7.900000</td>\n",
       "      <td>20.500000</td>\n",
       "      <td>3.425000</td>\n",
       "    </tr>\n",
       "    <tr>\n",
       "      <th>50%</th>\n",
       "      <td>8.300000</td>\n",
       "      <td>22.000000</td>\n",
       "      <td>40.000000</td>\n",
       "      <td>7.150000</td>\n",
       "    </tr>\n",
       "    <tr>\n",
       "      <th>75%</th>\n",
       "      <td>20.000000</td>\n",
       "      <td>48.000000</td>\n",
       "      <td>65.000000</td>\n",
       "      <td>22.000000</td>\n",
       "    </tr>\n",
       "    <tr>\n",
       "      <th>max</th>\n",
       "      <td>66.000000</td>\n",
       "      <td>100.000000</td>\n",
       "      <td>100.000000</td>\n",
       "      <td>76.000000</td>\n",
       "    </tr>\n",
       "  </tbody>\n",
       "</table>\n",
       "</div>"
      ],
      "text/plain": [
       "       COMMUNICATION      FAMILY        GAME  PRODUCTIVITY\n",
       "count      53.000000  463.000000  267.000000     58.000000\n",
       "mean       15.067925   29.967063   44.339326     16.006897\n",
       "std        15.222096   26.109084   27.572620     18.509295\n",
       "min         1.000000    1.200000    1.300000      1.200000\n",
       "25%         4.300000    7.900000   20.500000      3.425000\n",
       "50%         8.300000   22.000000   40.000000      7.150000\n",
       "75%        20.000000   48.000000   65.000000     22.000000\n",
       "max        66.000000  100.000000  100.000000     76.000000"
      ]
     },
     "execution_count": 8,
     "metadata": {},
     "output_type": "execute_result"
    }
   ],
   "source": [
    "df_excel.describe()"
   ]
  },
  {
   "cell_type": "code",
   "execution_count": 9,
   "id": "e05ad016-bf47-4f77-b09e-0b7896935fb9",
   "metadata": {},
   "outputs": [],
   "source": [
    "# Data for each group\n",
    "communicationSize = df_excel[\"COMMUNICATION\"]\n",
    "familySize = df_excel[\"FAMILY\"]\n",
    "gameSize = df_excel[\"GAME\"]\n",
    "productivitySize = df_excel[\"PRODUCTIVITY\"]"
   ]
  },
  {
   "cell_type": "code",
   "execution_count": 10,
   "id": "9b26ca64-0cfa-4238-9e11-0ea6586163af",
   "metadata": {},
   "outputs": [],
   "source": [
    "# Drop NaN values from the group arrays\n",
    "communicationSize = communicationSize.dropna()\n",
    "familySize = familySize.dropna()\n",
    "gameSize = gameSize.dropna()\n",
    "productivitySize = productivitySize.dropna()"
   ]
  },
  {
   "cell_type": "code",
   "execution_count": 11,
   "id": "a7d8db6d-5a53-4988-8fa7-07a099ba13f4",
   "metadata": {},
   "outputs": [
    {
     "name": "stdout",
     "output_type": "stream",
     "text": [
      "ANOVA results:\n",
      "F-value: 36.74202391905343\n",
      "p-value: 2.601597843539059e-22\n"
     ]
    }
   ],
   "source": [
    "# Perform ANOVA\n",
    "f_value, p_value = stats.f_oneway(communicationSize, familySize, gameSize, productivitySize)\n",
    "print(\"ANOVA results:\")\n",
    "print(\"F-value:\", f_value)\n",
    "print(\"p-value:\", p_value)"
   ]
  },
  {
   "attachments": {},
   "cell_type": "markdown",
   "id": "089dd86f-f0f0-4b65-96fb-69216141bb3e",
   "metadata": {},
   "source": [
    "### EXCEL ANOVA TEST = 2,60159784353495E-22"
   ]
  },
  {
   "cell_type": "code",
   "execution_count": 12,
   "id": "fd8818d4-9842-49ad-a140-c01d3f64caa7",
   "metadata": {},
   "outputs": [
    {
     "data": {
      "text/plain": [
       "BartlettResult(statistic=33.50920936317704, pvalue=2.5148631539966e-07)"
      ]
     },
     "execution_count": 12,
     "metadata": {},
     "output_type": "execute_result"
    }
   ],
   "source": [
    "# perform Bartlett's test\n",
    "stats.bartlett(communicationSize, familySize, gameSize,productivitySize)"
   ]
  },
  {
   "attachments": {},
   "cell_type": "markdown",
   "id": "f41dd45e-75bc-4864-be7d-b8082dbc081e",
   "metadata": {},
   "source": [
    "### EXCEL Test for varianshomogenitet = 2,5148631539966E-07"
   ]
  },
  {
   "cell_type": "code",
   "execution_count": 13,
   "id": "af37cc57-6c2a-4908-bac7-42ac260a02fd",
   "metadata": {},
   "outputs": [],
   "source": [
    "df = df_excel.stack().reset_index()"
   ]
  },
  {
   "cell_type": "code",
   "execution_count": 14,
   "id": "470d66eb-763e-49f0-9a35-25ceb21b7b06",
   "metadata": {},
   "outputs": [],
   "source": [
    "df.columns = ['idx','categories', 'values']"
   ]
  },
  {
   "cell_type": "code",
   "execution_count": 15,
   "id": "61daf6d6-85e5-4a61-ba0f-4fb905ba219b",
   "metadata": {},
   "outputs": [],
   "source": [
    "df = df.drop('idx', axis=1)"
   ]
  },
  {
   "cell_type": "code",
   "execution_count": 16,
   "id": "6d37fa55-ea19-472f-9678-3fca2ad2c865",
   "metadata": {},
   "outputs": [
    {
     "data": {
      "text/html": [
       "<div>\n",
       "<style scoped>\n",
       "    .dataframe tbody tr th:only-of-type {\n",
       "        vertical-align: middle;\n",
       "    }\n",
       "\n",
       "    .dataframe tbody tr th {\n",
       "        vertical-align: top;\n",
       "    }\n",
       "\n",
       "    .dataframe thead th {\n",
       "        text-align: right;\n",
       "    }\n",
       "</style>\n",
       "<table border=\"1\" class=\"dataframe\">\n",
       "  <thead>\n",
       "    <tr style=\"text-align: right;\">\n",
       "      <th></th>\n",
       "      <th>Source</th>\n",
       "      <th>SS</th>\n",
       "      <th>DF</th>\n",
       "      <th>MS</th>\n",
       "      <th>F</th>\n",
       "      <th>p-unc</th>\n",
       "      <th>np2</th>\n",
       "    </tr>\n",
       "  </thead>\n",
       "  <tbody>\n",
       "    <tr>\n",
       "      <th>0</th>\n",
       "      <td>categories</td>\n",
       "      <td>72264.761799</td>\n",
       "      <td>3</td>\n",
       "      <td>24088.253933</td>\n",
       "      <td>36.742024</td>\n",
       "      <td>2.601598e-22</td>\n",
       "      <td>0.116367</td>\n",
       "    </tr>\n",
       "    <tr>\n",
       "      <th>1</th>\n",
       "      <td>Within</td>\n",
       "      <td>548741.369997</td>\n",
       "      <td>837</td>\n",
       "      <td>655.604982</td>\n",
       "      <td>NaN</td>\n",
       "      <td>NaN</td>\n",
       "      <td>NaN</td>\n",
       "    </tr>\n",
       "  </tbody>\n",
       "</table>\n",
       "</div>"
      ],
      "text/plain": [
       "       Source             SS   DF            MS          F         p-unc  \\\n",
       "0  categories   72264.761799    3  24088.253933  36.742024  2.601598e-22   \n",
       "1      Within  548741.369997  837    655.604982        NaN           NaN   \n",
       "\n",
       "        np2  \n",
       "0  0.116367  \n",
       "1       NaN  "
      ]
     },
     "execution_count": 16,
     "metadata": {},
     "output_type": "execute_result"
    }
   ],
   "source": [
    "# Perform one-way ANOVA\n",
    "anova = pg.anova(data=df, dv='values', between='categories', detailed=True)\n",
    "anova"
   ]
  },
  {
   "cell_type": "code",
   "execution_count": 17,
   "id": "65454e47-6b64-4fc7-ac1f-02fc6be8043d",
   "metadata": {},
   "outputs": [
    {
     "data": {
      "text/html": [
       "<div>\n",
       "<style scoped>\n",
       "    .dataframe tbody tr th:only-of-type {\n",
       "        vertical-align: middle;\n",
       "    }\n",
       "\n",
       "    .dataframe tbody tr th {\n",
       "        vertical-align: top;\n",
       "    }\n",
       "\n",
       "    .dataframe thead th {\n",
       "        text-align: right;\n",
       "    }\n",
       "</style>\n",
       "<table border=\"1\" class=\"dataframe\">\n",
       "  <thead>\n",
       "    <tr style=\"text-align: right;\">\n",
       "      <th></th>\n",
       "      <th>Source</th>\n",
       "      <th>ddof1</th>\n",
       "      <th>ddof2</th>\n",
       "      <th>F</th>\n",
       "      <th>p-unc</th>\n",
       "      <th>np2</th>\n",
       "    </tr>\n",
       "  </thead>\n",
       "  <tbody>\n",
       "    <tr>\n",
       "      <th>0</th>\n",
       "      <td>categories</td>\n",
       "      <td>3</td>\n",
       "      <td>167.054611</td>\n",
       "      <td>51.570539</td>\n",
       "      <td>1.203180e-23</td>\n",
       "      <td>0.116367</td>\n",
       "    </tr>\n",
       "  </tbody>\n",
       "</table>\n",
       "</div>"
      ],
      "text/plain": [
       "       Source  ddof1       ddof2          F         p-unc       np2\n",
       "0  categories      3  167.054611  51.570539  1.203180e-23  0.116367"
      ]
     },
     "execution_count": 17,
     "metadata": {},
     "output_type": "execute_result"
    }
   ],
   "source": [
    "# perform Welch's ANOVA\n",
    "Wanova = pg.welch_anova(dv='values', between='categories', data=df)\n",
    "Wanova"
   ]
  },
  {
   "cell_type": "markdown",
   "id": "ab7099e1-cb8c-431b-a059-1e84889b6c66",
   "metadata": {},
   "source": [
    "# Hvor ligger forskellen?"
   ]
  },
  {
   "cell_type": "code",
   "execution_count": 18,
   "id": "ec3a0839-d3ad-4715-91ae-7b9100b4bd2b",
   "metadata": {},
   "outputs": [
    {
     "name": "stdout",
     "output_type": "stream",
     "text": [
      "\n",
      "Welch's t-test between communicationSize and familySize:\n",
      "t-value: -6.163065616970236\n",
      "p-value: 1.879007247817127e-08\n"
     ]
    }
   ],
   "source": [
    "# Perform Welch's t-test between pairs of groups\n",
    "t_value, p_value = stats.ttest_ind(communicationSize, familySize, equal_var=False)\n",
    "print(\"\\nWelch's t-test between communicationSize and familySize:\")\n",
    "print(\"t-value:\", t_value)\n",
    "print(\"p-value:\", p_value)"
   ]
  },
  {
   "cell_type": "code",
   "execution_count": 19,
   "id": "53861aa9-dc43-4fc9-a0d8-80cf5ef49cff",
   "metadata": {},
   "outputs": [
    {
     "name": "stdout",
     "output_type": "stream",
     "text": [
      "\n",
      "Welch's t-test between communicationSize and gameSize:\n",
      "t-value: -10.894212159293176\n",
      "p-value: 4.519961029814106e-20\n"
     ]
    }
   ],
   "source": [
    "t_value, p_value = stats.ttest_ind(communicationSize, gameSize, equal_var=False)\n",
    "print(\"\\nWelch's t-test between communicationSize and gameSize:\")\n",
    "print(\"t-value:\", t_value)\n",
    "print(\"p-value:\", p_value)"
   ]
  },
  {
   "cell_type": "markdown",
   "id": "2543fdcd-62da-4bdc-9dc3-1916621f3960",
   "metadata": {},
   "source": [
    "### Eneste hvor variansen er ens. Altså, H0 ikke kan forkastes"
   ]
  },
  {
   "cell_type": "code",
   "execution_count": 20,
   "id": "82798341-a81c-485e-8c24-7b77630d4ce2",
   "metadata": {},
   "outputs": [
    {
     "name": "stdout",
     "output_type": "stream",
     "text": [
      "\n",
      "Welch's t-test between communicationSize and productivitySize:\n",
      "t-value: -0.29287553961715473\n",
      "p-value: 0.770180068541946\n"
     ]
    }
   ],
   "source": [
    "t_value, p_value = stats.ttest_ind(communicationSize, productivitySize, equal_var=False)\n",
    "print(\"\\nWelch's t-test between communicationSize and productivitySize:\")\n",
    "print(\"t-value:\", t_value)\n",
    "print(\"p-value:\", p_value)"
   ]
  },
  {
   "cell_type": "code",
   "execution_count": 21,
   "id": "8e8e0d48-570a-4501-b140-04dd6f82a438",
   "metadata": {},
   "outputs": [
    {
     "name": "stdout",
     "output_type": "stream",
     "text": [
      "\n",
      "Welch's t-test between familySize and gameSize:\n",
      "t-value: -6.915101468626785\n",
      "p-value: 1.3489066117066136e-11\n"
     ]
    }
   ],
   "source": [
    "t_value, p_value = stats.ttest_ind(familySize, gameSize, equal_var=False)\n",
    "print(\"\\nWelch's t-test between familySize and gameSize:\")\n",
    "print(\"t-value:\", t_value)\n",
    "print(\"p-value:\", p_value)"
   ]
  },
  {
   "cell_type": "code",
   "execution_count": 22,
   "id": "b1f2b3c3-14bc-4471-8562-ae5e4c86f0c1",
   "metadata": {},
   "outputs": [
    {
     "name": "stdout",
     "output_type": "stream",
     "text": [
      "\n",
      "Welch's t-test between familySize and productivitySize:\n",
      "t-value: 5.1391169421935485\n",
      "p-value: 1.6392155447564927e-06\n"
     ]
    }
   ],
   "source": [
    "t_value, p_value = stats.ttest_ind(familySize, productivitySize, equal_var=False)\n",
    "print(\"\\nWelch's t-test between familySize and productivitySize:\")\n",
    "print(\"t-value:\", t_value)\n",
    "print(\"p-value:\", p_value)"
   ]
  },
  {
   "cell_type": "code",
   "execution_count": 23,
   "id": "bc236b59-4d95-4048-9e39-5247d569d6f6",
   "metadata": {},
   "outputs": [
    {
     "name": "stdout",
     "output_type": "stream",
     "text": [
      "\n",
      "Welch's t-test between gameSize and productivitySize:\n",
      "t-value: 9.575828378704504\n",
      "p-value: 1.8574016221550509e-16\n"
     ]
    }
   ],
   "source": [
    "t_value, p_value = stats.ttest_ind(gameSize, productivitySize, equal_var=False)\n",
    "print(\"\\nWelch's t-test between gameSize and productivitySize:\")\n",
    "print(\"t-value:\", t_value)\n",
    "print(\"p-value:\", p_value)"
   ]
  },
  {
   "cell_type": "markdown",
   "id": "74ce68cc-eed9-48ba-8eba-f09948599b29",
   "metadata": {},
   "source": [
    "# Tukey Test"
   ]
  },
  {
   "cell_type": "code",
   "execution_count": 32,
   "id": "32ca0a3c-80d6-442c-ade3-0c9bc9f5ef41",
   "metadata": {},
   "outputs": [],
   "source": [
    "# Conduct post-hoc Tukey HSD test\n",
    "posthoc = pg.pairwise_tukey(dv='values', between='categories', data=df)"
   ]
  },
  {
   "cell_type": "code",
   "execution_count": 33,
   "id": "bdf255a6-d24e-4176-b76c-ea53b5fcbc1f",
   "metadata": {},
   "outputs": [
    {
     "data": {
      "text/html": [
       "<div>\n",
       "<style scoped>\n",
       "    .dataframe tbody tr th:only-of-type {\n",
       "        vertical-align: middle;\n",
       "    }\n",
       "\n",
       "    .dataframe tbody tr th {\n",
       "        vertical-align: top;\n",
       "    }\n",
       "\n",
       "    .dataframe thead th {\n",
       "        text-align: right;\n",
       "    }\n",
       "</style>\n",
       "<table border=\"1\" class=\"dataframe\">\n",
       "  <thead>\n",
       "    <tr style=\"text-align: right;\">\n",
       "      <th></th>\n",
       "      <th>A</th>\n",
       "      <th>B</th>\n",
       "      <th>mean(A)</th>\n",
       "      <th>mean(B)</th>\n",
       "      <th>diff</th>\n",
       "      <th>se</th>\n",
       "      <th>T</th>\n",
       "      <th>p-tukey</th>\n",
       "      <th>hedges</th>\n",
       "    </tr>\n",
       "  </thead>\n",
       "  <tbody>\n",
       "    <tr>\n",
       "      <th>0</th>\n",
       "      <td>COMMUNICATION</td>\n",
       "      <td>FAMILY</td>\n",
       "      <td>15.067925</td>\n",
       "      <td>29.967063</td>\n",
       "      <td>-14.899138</td>\n",
       "      <td>3.712937</td>\n",
       "      <td>-4.012764</td>\n",
       "      <td>3.799924e-04</td>\n",
       "      <td>-0.589852</td>\n",
       "    </tr>\n",
       "    <tr>\n",
       "      <th>1</th>\n",
       "      <td>COMMUNICATION</td>\n",
       "      <td>GAME</td>\n",
       "      <td>15.067925</td>\n",
       "      <td>44.339326</td>\n",
       "      <td>-29.271401</td>\n",
       "      <td>3.850371</td>\n",
       "      <td>-7.602229</td>\n",
       "      <td>6.988854e-13</td>\n",
       "      <td>-1.124980</td>\n",
       "    </tr>\n",
       "    <tr>\n",
       "      <th>2</th>\n",
       "      <td>COMMUNICATION</td>\n",
       "      <td>PRODUCTIVITY</td>\n",
       "      <td>15.067925</td>\n",
       "      <td>16.006897</td>\n",
       "      <td>-0.938972</td>\n",
       "      <td>4.865536</td>\n",
       "      <td>-0.192984</td>\n",
       "      <td>9.974521e-01</td>\n",
       "      <td>-0.054787</td>\n",
       "    </tr>\n",
       "    <tr>\n",
       "      <th>3</th>\n",
       "      <td>FAMILY</td>\n",
       "      <td>GAME</td>\n",
       "      <td>29.967063</td>\n",
       "      <td>44.339326</td>\n",
       "      <td>-14.372263</td>\n",
       "      <td>1.967598</td>\n",
       "      <td>-7.304470</td>\n",
       "      <td>4.123701e-12</td>\n",
       "      <td>-0.538677</td>\n",
       "    </tr>\n",
       "    <tr>\n",
       "      <th>4</th>\n",
       "      <td>FAMILY</td>\n",
       "      <td>PRODUCTIVITY</td>\n",
       "      <td>29.967063</td>\n",
       "      <td>16.006897</td>\n",
       "      <td>13.960166</td>\n",
       "      <td>3.566445</td>\n",
       "      <td>3.914309</td>\n",
       "      <td>5.669232e-04</td>\n",
       "      <td>0.549123</td>\n",
       "    </tr>\n",
       "    <tr>\n",
       "      <th>5</th>\n",
       "      <td>GAME</td>\n",
       "      <td>PRODUCTIVITY</td>\n",
       "      <td>44.339326</td>\n",
       "      <td>16.006897</td>\n",
       "      <td>28.332429</td>\n",
       "      <td>3.709310</td>\n",
       "      <td>7.638193</td>\n",
       "      <td>5.914158e-13</td>\n",
       "      <td>1.078795</td>\n",
       "    </tr>\n",
       "  </tbody>\n",
       "</table>\n",
       "</div>"
      ],
      "text/plain": [
       "               A             B    mean(A)    mean(B)       diff        se  \\\n",
       "0  COMMUNICATION        FAMILY  15.067925  29.967063 -14.899138  3.712937   \n",
       "1  COMMUNICATION          GAME  15.067925  44.339326 -29.271401  3.850371   \n",
       "2  COMMUNICATION  PRODUCTIVITY  15.067925  16.006897  -0.938972  4.865536   \n",
       "3         FAMILY          GAME  29.967063  44.339326 -14.372263  1.967598   \n",
       "4         FAMILY  PRODUCTIVITY  29.967063  16.006897  13.960166  3.566445   \n",
       "5           GAME  PRODUCTIVITY  44.339326  16.006897  28.332429  3.709310   \n",
       "\n",
       "          T       p-tukey    hedges  \n",
       "0 -4.012764  3.799924e-04 -0.589852  \n",
       "1 -7.602229  6.988854e-13 -1.124980  \n",
       "2 -0.192984  9.974521e-01 -0.054787  \n",
       "3 -7.304470  4.123701e-12 -0.538677  \n",
       "4  3.914309  5.669232e-04  0.549123  \n",
       "5  7.638193  5.914158e-13  1.078795  "
      ]
     },
     "execution_count": 33,
     "metadata": {},
     "output_type": "execute_result"
    }
   ],
   "source": [
    "posthoc"
   ]
  },
  {
   "cell_type": "code",
   "execution_count": 31,
   "id": "f051ea93-1cc5-428e-a5b1-f19269d71524",
   "metadata": {},
   "outputs": [
    {
     "name": "stdout",
     "output_type": "stream",
     "text": [
      "Significant Comparisons:\n",
      "               A             B    mean(A)    mean(B)       p-tukey\n",
      "0  COMMUNICATION        FAMILY  15.067925  29.967063  3.799924e-04\n",
      "1  COMMUNICATION          GAME  15.067925  44.339326  6.988854e-13\n",
      "3         FAMILY          GAME  29.967063  44.339326  4.123701e-12\n",
      "4         FAMILY  PRODUCTIVITY  29.967063  16.006897  5.669232e-04\n",
      "5           GAME  PRODUCTIVITY  44.339326  16.006897  5.914158e-13\n"
     ]
    }
   ],
   "source": [
    "# Print the significant pairwise comparisons\n",
    "significant_comparisons = posthoc[posthoc['p-tukey'] < 0.05]\n",
    "print(\"Significant Comparisons:\")\n",
    "print(significant_comparisons[['A', 'B', 'mean(A)', 'mean(B)', 'p-tukey']])"
   ]
  },
  {
   "cell_type": "code",
   "execution_count": null,
   "id": "ba7ad591-b619-49ba-8e24-800e53db889e",
   "metadata": {},
   "outputs": [],
   "source": []
  },
  {
   "cell_type": "code",
   "execution_count": null,
   "id": "03b0ef8c-452b-4c81-a694-6f596e117d1d",
   "metadata": {},
   "outputs": [],
   "source": []
  }
 ],
 "metadata": {
  "kernelspec": {
   "display_name": "Python 3 (ipykernel)",
   "language": "python",
   "name": "python3"
  },
  "language_info": {
   "codemirror_mode": {
    "name": "ipython",
    "version": 3
   },
   "file_extension": ".py",
   "mimetype": "text/x-python",
   "name": "python",
   "nbconvert_exporter": "python",
   "pygments_lexer": "ipython3",
   "version": "3.10.6"
  }
 },
 "nbformat": 4,
 "nbformat_minor": 5
}
