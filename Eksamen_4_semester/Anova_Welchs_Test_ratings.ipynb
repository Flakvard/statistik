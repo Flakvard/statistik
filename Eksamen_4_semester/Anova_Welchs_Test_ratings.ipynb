{
 "cells": [
  {
   "cell_type": "code",
   "execution_count": 14,
   "id": "92675cb0-ea53-4c86-a8e8-c138bfac966c",
   "metadata": {},
   "outputs": [],
   "source": [
    "import scipy.stats as stats\n",
    "import pingouin as pg\n",
    "import pandas as pd"
   ]
  },
  {
   "cell_type": "code",
   "execution_count": 15,
   "id": "1279bcb4-a6b0-4819-96a3-b96e3680ca6e",
   "metadata": {},
   "outputs": [],
   "source": [
    "df_excel = pd.read_excel(\"./WelchTest_GooglePlay_dataset.xlsx\", \"ANOVA_CATEGORIES_RATINGS\")"
   ]
  },
  {
   "cell_type": "code",
   "execution_count": 16,
   "id": "9facbce6-2bab-4d5c-a3ee-73467eae5892",
   "metadata": {},
   "outputs": [
    {
     "data": {
      "text/html": [
       "<div>\n",
       "<style scoped>\n",
       "    .dataframe tbody tr th:only-of-type {\n",
       "        vertical-align: middle;\n",
       "    }\n",
       "\n",
       "    .dataframe tbody tr th {\n",
       "        vertical-align: top;\n",
       "    }\n",
       "\n",
       "    .dataframe thead th {\n",
       "        text-align: right;\n",
       "    }\n",
       "</style>\n",
       "<table border=\"1\" class=\"dataframe\">\n",
       "  <thead>\n",
       "    <tr style=\"text-align: right;\">\n",
       "      <th></th>\n",
       "      <th>COMMUNICATION</th>\n",
       "      <th>FAMILY</th>\n",
       "      <th>GAME</th>\n",
       "      <th>PRODUCTIVITY</th>\n",
       "    </tr>\n",
       "  </thead>\n",
       "  <tbody>\n",
       "    <tr>\n",
       "      <th>0</th>\n",
       "      <td>4.3</td>\n",
       "      <td>4.1</td>\n",
       "      <td>3.8</td>\n",
       "      <td>4.4</td>\n",
       "    </tr>\n",
       "    <tr>\n",
       "      <th>1</th>\n",
       "      <td>4.2</td>\n",
       "      <td>4.2</td>\n",
       "      <td>4.5</td>\n",
       "      <td>3.4</td>\n",
       "    </tr>\n",
       "    <tr>\n",
       "      <th>2</th>\n",
       "      <td>4.3</td>\n",
       "      <td>4.3</td>\n",
       "      <td>4.5</td>\n",
       "      <td>4.1</td>\n",
       "    </tr>\n",
       "    <tr>\n",
       "      <th>3</th>\n",
       "      <td>4.0</td>\n",
       "      <td>0.5</td>\n",
       "      <td>4.0</td>\n",
       "      <td>4.1</td>\n",
       "    </tr>\n",
       "    <tr>\n",
       "      <th>4</th>\n",
       "      <td>4.3</td>\n",
       "      <td>4.3</td>\n",
       "      <td>4.3</td>\n",
       "      <td>3.6</td>\n",
       "    </tr>\n",
       "    <tr>\n",
       "      <th>...</th>\n",
       "      <td>...</td>\n",
       "      <td>...</td>\n",
       "      <td>...</td>\n",
       "      <td>...</td>\n",
       "    </tr>\n",
       "    <tr>\n",
       "      <th>506</th>\n",
       "      <td>NaN</td>\n",
       "      <td>4.5</td>\n",
       "      <td>NaN</td>\n",
       "      <td>NaN</td>\n",
       "    </tr>\n",
       "    <tr>\n",
       "      <th>507</th>\n",
       "      <td>NaN</td>\n",
       "      <td>1.9</td>\n",
       "      <td>NaN</td>\n",
       "      <td>NaN</td>\n",
       "    </tr>\n",
       "    <tr>\n",
       "      <th>508</th>\n",
       "      <td>NaN</td>\n",
       "      <td>4.6</td>\n",
       "      <td>NaN</td>\n",
       "      <td>NaN</td>\n",
       "    </tr>\n",
       "    <tr>\n",
       "      <th>509</th>\n",
       "      <td>NaN</td>\n",
       "      <td>4.3</td>\n",
       "      <td>NaN</td>\n",
       "      <td>NaN</td>\n",
       "    </tr>\n",
       "    <tr>\n",
       "      <th>510</th>\n",
       "      <td>NaN</td>\n",
       "      <td>4.2</td>\n",
       "      <td>NaN</td>\n",
       "      <td>NaN</td>\n",
       "    </tr>\n",
       "  </tbody>\n",
       "</table>\n",
       "<p>511 rows × 4 columns</p>\n",
       "</div>"
      ],
      "text/plain": [
       "     COMMUNICATION  FAMILY  GAME  PRODUCTIVITY\n",
       "0              4.3     4.1   3.8           4.4\n",
       "1              4.2     4.2   4.5           3.4\n",
       "2              4.3     4.3   4.5           4.1\n",
       "3              4.0     0.5   4.0           4.1\n",
       "4              4.3     4.3   4.3           3.6\n",
       "..             ...     ...   ...           ...\n",
       "506            NaN     4.5   NaN           NaN\n",
       "507            NaN     1.9   NaN           NaN\n",
       "508            NaN     4.6   NaN           NaN\n",
       "509            NaN     4.3   NaN           NaN\n",
       "510            NaN     4.2   NaN           NaN\n",
       "\n",
       "[511 rows x 4 columns]"
      ]
     },
     "execution_count": 16,
     "metadata": {},
     "output_type": "execute_result"
    }
   ],
   "source": [
    "df_excel"
   ]
  },
  {
   "cell_type": "code",
   "execution_count": 17,
   "id": "e32ea4fa-b5f0-4caf-9af4-c80e35f8615e",
   "metadata": {},
   "outputs": [
    {
     "data": {
      "text/html": [
       "<div>\n",
       "<style scoped>\n",
       "    .dataframe tbody tr th:only-of-type {\n",
       "        vertical-align: middle;\n",
       "    }\n",
       "\n",
       "    .dataframe tbody tr th {\n",
       "        vertical-align: top;\n",
       "    }\n",
       "\n",
       "    .dataframe thead th {\n",
       "        text-align: right;\n",
       "    }\n",
       "</style>\n",
       "<table border=\"1\" class=\"dataframe\">\n",
       "  <thead>\n",
       "    <tr style=\"text-align: right;\">\n",
       "      <th></th>\n",
       "      <th>COMMUNICATION</th>\n",
       "      <th>FAMILY</th>\n",
       "      <th>GAME</th>\n",
       "      <th>PRODUCTIVITY</th>\n",
       "    </tr>\n",
       "  </thead>\n",
       "  <tbody>\n",
       "    <tr>\n",
       "      <th>count</th>\n",
       "      <td>97.000000</td>\n",
       "      <td>511.000000</td>\n",
       "      <td>302.000000</td>\n",
       "      <td>93.000000</td>\n",
       "    </tr>\n",
       "    <tr>\n",
       "      <th>mean</th>\n",
       "      <td>4.141237</td>\n",
       "      <td>4.176223</td>\n",
       "      <td>4.271523</td>\n",
       "      <td>4.221505</td>\n",
       "    </tr>\n",
       "    <tr>\n",
       "      <th>std</th>\n",
       "      <td>0.374931</td>\n",
       "      <td>0.545433</td>\n",
       "      <td>0.373789</td>\n",
       "      <td>0.490308</td>\n",
       "    </tr>\n",
       "    <tr>\n",
       "      <th>min</th>\n",
       "      <td>2.300000</td>\n",
       "      <td>0.500000</td>\n",
       "      <td>1.400000</td>\n",
       "      <td>1.900000</td>\n",
       "    </tr>\n",
       "    <tr>\n",
       "      <th>25%</th>\n",
       "      <td>4.000000</td>\n",
       "      <td>4.000000</td>\n",
       "      <td>4.100000</td>\n",
       "      <td>4.100000</td>\n",
       "    </tr>\n",
       "    <tr>\n",
       "      <th>50%</th>\n",
       "      <td>4.200000</td>\n",
       "      <td>4.300000</td>\n",
       "      <td>4.400000</td>\n",
       "      <td>4.300000</td>\n",
       "    </tr>\n",
       "    <tr>\n",
       "      <th>75%</th>\n",
       "      <td>4.400000</td>\n",
       "      <td>4.500000</td>\n",
       "      <td>4.500000</td>\n",
       "      <td>4.500000</td>\n",
       "    </tr>\n",
       "    <tr>\n",
       "      <th>max</th>\n",
       "      <td>4.800000</td>\n",
       "      <td>5.000000</td>\n",
       "      <td>5.000000</td>\n",
       "      <td>5.000000</td>\n",
       "    </tr>\n",
       "  </tbody>\n",
       "</table>\n",
       "</div>"
      ],
      "text/plain": [
       "       COMMUNICATION      FAMILY        GAME  PRODUCTIVITY\n",
       "count      97.000000  511.000000  302.000000     93.000000\n",
       "mean        4.141237    4.176223    4.271523      4.221505\n",
       "std         0.374931    0.545433    0.373789      0.490308\n",
       "min         2.300000    0.500000    1.400000      1.900000\n",
       "25%         4.000000    4.000000    4.100000      4.100000\n",
       "50%         4.200000    4.300000    4.400000      4.300000\n",
       "75%         4.400000    4.500000    4.500000      4.500000\n",
       "max         4.800000    5.000000    5.000000      5.000000"
      ]
     },
     "execution_count": 17,
     "metadata": {},
     "output_type": "execute_result"
    }
   ],
   "source": [
    "df_excel.describe()"
   ]
  },
  {
   "cell_type": "code",
   "execution_count": 18,
   "id": "e05ad016-bf47-4f77-b09e-0b7896935fb9",
   "metadata": {},
   "outputs": [],
   "source": [
    "# Data for each group\n",
    "communicationSize = df_excel[\"COMMUNICATION\"]\n",
    "familySize = df_excel[\"FAMILY\"]\n",
    "gameSize = df_excel[\"GAME\"]\n",
    "productivitySize = df_excel[\"PRODUCTIVITY\"]"
   ]
  },
  {
   "cell_type": "code",
   "execution_count": 19,
   "id": "9b26ca64-0cfa-4238-9e11-0ea6586163af",
   "metadata": {},
   "outputs": [],
   "source": [
    "# Drop NaN values from the group arrays\n",
    "communicationSize = communicationSize.dropna()\n",
    "familySize = familySize.dropna()\n",
    "gameSize = gameSize.dropna()\n",
    "productivitySize = productivitySize.dropna()"
   ]
  },
  {
   "cell_type": "code",
   "execution_count": 20,
   "id": "a7d8db6d-5a53-4988-8fa7-07a099ba13f4",
   "metadata": {},
   "outputs": [
    {
     "name": "stdout",
     "output_type": "stream",
     "text": [
      "ANOVA results:\n",
      "F-value: 3.1628809495541423\n",
      "p-value: 0.023884668463414905\n"
     ]
    }
   ],
   "source": [
    "# Perform ANOVA\n",
    "f_value, p_value = stats.f_oneway(communicationSize, familySize, gameSize, productivitySize)\n",
    "print(\"ANOVA results:\")\n",
    "print(\"F-value:\", f_value)\n",
    "print(\"p-value:\", p_value)"
   ]
  },
  {
   "attachments": {},
   "cell_type": "markdown",
   "id": "089dd86f-f0f0-4b65-96fb-69216141bb3e",
   "metadata": {},
   "source": [
    "### EXCEL ANOVA TEST = 0,0281327317086259\n",
    "### Næste gang = 0,0238846684661909"
   ]
  },
  {
   "cell_type": "code",
   "execution_count": 21,
   "id": "fd8818d4-9842-49ad-a140-c01d3f64caa7",
   "metadata": {},
   "outputs": [
    {
     "data": {
      "text/plain": [
       "BartlettResult(statistic=60.17323284264685, pvalue=5.398035992544165e-13)"
      ]
     },
     "execution_count": 21,
     "metadata": {},
     "output_type": "execute_result"
    }
   ],
   "source": [
    "# perform Bartlett's test\n",
    "stats.bartlett(communicationSize, familySize, gameSize,productivitySize)"
   ]
  },
  {
   "attachments": {},
   "cell_type": "markdown",
   "id": "f41dd45e-75bc-4864-be7d-b8082dbc081e",
   "metadata": {},
   "source": [
    "### EXCEL Test for varianshomogenitet = 2,95685308899291E-10\n",
    "### Næste gang = 5,39803599257789E-13"
   ]
  },
  {
   "cell_type": "code",
   "execution_count": 22,
   "id": "af37cc57-6c2a-4908-bac7-42ac260a02fd",
   "metadata": {},
   "outputs": [],
   "source": [
    "df = df_excel.stack().reset_index()"
   ]
  },
  {
   "cell_type": "code",
   "execution_count": 23,
   "id": "470d66eb-763e-49f0-9a35-25ceb21b7b06",
   "metadata": {},
   "outputs": [],
   "source": [
    "df.columns = ['idx','categories', 'values']"
   ]
  },
  {
   "cell_type": "code",
   "execution_count": 24,
   "id": "61daf6d6-85e5-4a61-ba0f-4fb905ba219b",
   "metadata": {},
   "outputs": [],
   "source": [
    "df = df.drop('idx', axis=1)"
   ]
  },
  {
   "cell_type": "code",
   "execution_count": 25,
   "id": "f6db2c87-f2ac-418c-b9e6-97e4708436db",
   "metadata": {},
   "outputs": [
    {
     "data": {
      "text/html": [
       "<div>\n",
       "<style scoped>\n",
       "    .dataframe tbody tr th:only-of-type {\n",
       "        vertical-align: middle;\n",
       "    }\n",
       "\n",
       "    .dataframe tbody tr th {\n",
       "        vertical-align: top;\n",
       "    }\n",
       "\n",
       "    .dataframe thead th {\n",
       "        text-align: right;\n",
       "    }\n",
       "</style>\n",
       "<table border=\"1\" class=\"dataframe\">\n",
       "  <thead>\n",
       "    <tr style=\"text-align: right;\">\n",
       "      <th></th>\n",
       "      <th>categories</th>\n",
       "      <th>values</th>\n",
       "    </tr>\n",
       "  </thead>\n",
       "  <tbody>\n",
       "    <tr>\n",
       "      <th>0</th>\n",
       "      <td>COMMUNICATION</td>\n",
       "      <td>4.3</td>\n",
       "    </tr>\n",
       "    <tr>\n",
       "      <th>1</th>\n",
       "      <td>FAMILY</td>\n",
       "      <td>4.1</td>\n",
       "    </tr>\n",
       "    <tr>\n",
       "      <th>2</th>\n",
       "      <td>GAME</td>\n",
       "      <td>3.8</td>\n",
       "    </tr>\n",
       "    <tr>\n",
       "      <th>3</th>\n",
       "      <td>PRODUCTIVITY</td>\n",
       "      <td>4.4</td>\n",
       "    </tr>\n",
       "    <tr>\n",
       "      <th>4</th>\n",
       "      <td>COMMUNICATION</td>\n",
       "      <td>4.2</td>\n",
       "    </tr>\n",
       "    <tr>\n",
       "      <th>...</th>\n",
       "      <td>...</td>\n",
       "      <td>...</td>\n",
       "    </tr>\n",
       "    <tr>\n",
       "      <th>998</th>\n",
       "      <td>FAMILY</td>\n",
       "      <td>4.5</td>\n",
       "    </tr>\n",
       "    <tr>\n",
       "      <th>999</th>\n",
       "      <td>FAMILY</td>\n",
       "      <td>1.9</td>\n",
       "    </tr>\n",
       "    <tr>\n",
       "      <th>1000</th>\n",
       "      <td>FAMILY</td>\n",
       "      <td>4.6</td>\n",
       "    </tr>\n",
       "    <tr>\n",
       "      <th>1001</th>\n",
       "      <td>FAMILY</td>\n",
       "      <td>4.3</td>\n",
       "    </tr>\n",
       "    <tr>\n",
       "      <th>1002</th>\n",
       "      <td>FAMILY</td>\n",
       "      <td>4.2</td>\n",
       "    </tr>\n",
       "  </tbody>\n",
       "</table>\n",
       "<p>1003 rows × 2 columns</p>\n",
       "</div>"
      ],
      "text/plain": [
       "         categories  values\n",
       "0     COMMUNICATION     4.3\n",
       "1            FAMILY     4.1\n",
       "2              GAME     3.8\n",
       "3      PRODUCTIVITY     4.4\n",
       "4     COMMUNICATION     4.2\n",
       "...             ...     ...\n",
       "998          FAMILY     4.5\n",
       "999          FAMILY     1.9\n",
       "1000         FAMILY     4.6\n",
       "1001         FAMILY     4.3\n",
       "1002         FAMILY     4.2\n",
       "\n",
       "[1003 rows x 2 columns]"
      ]
     },
     "execution_count": 25,
     "metadata": {},
     "output_type": "execute_result"
    }
   ],
   "source": [
    "df"
   ]
  },
  {
   "cell_type": "code",
   "execution_count": 26,
   "id": "6d37fa55-ea19-472f-9678-3fca2ad2c865",
   "metadata": {},
   "outputs": [
    {
     "data": {
      "text/html": [
       "<div>\n",
       "<style scoped>\n",
       "    .dataframe tbody tr th:only-of-type {\n",
       "        vertical-align: middle;\n",
       "    }\n",
       "\n",
       "    .dataframe tbody tr th {\n",
       "        vertical-align: top;\n",
       "    }\n",
       "\n",
       "    .dataframe thead th {\n",
       "        text-align: right;\n",
       "    }\n",
       "</style>\n",
       "<table border=\"1\" class=\"dataframe\">\n",
       "  <thead>\n",
       "    <tr style=\"text-align: right;\">\n",
       "      <th></th>\n",
       "      <th>Source</th>\n",
       "      <th>SS</th>\n",
       "      <th>DF</th>\n",
       "      <th>MS</th>\n",
       "      <th>F</th>\n",
       "      <th>p-unc</th>\n",
       "      <th>np2</th>\n",
       "    </tr>\n",
       "  </thead>\n",
       "  <tbody>\n",
       "    <tr>\n",
       "      <th>0</th>\n",
       "      <td>categories</td>\n",
       "      <td>2.178786</td>\n",
       "      <td>3</td>\n",
       "      <td>0.726262</td>\n",
       "      <td>3.162881</td>\n",
       "      <td>0.023885</td>\n",
       "      <td>0.009409</td>\n",
       "    </tr>\n",
       "    <tr>\n",
       "      <th>1</th>\n",
       "      <td>Within</td>\n",
       "      <td>229.390751</td>\n",
       "      <td>999</td>\n",
       "      <td>0.229620</td>\n",
       "      <td>NaN</td>\n",
       "      <td>NaN</td>\n",
       "      <td>NaN</td>\n",
       "    </tr>\n",
       "  </tbody>\n",
       "</table>\n",
       "</div>"
      ],
      "text/plain": [
       "       Source          SS   DF        MS         F     p-unc       np2\n",
       "0  categories    2.178786    3  0.726262  3.162881  0.023885  0.009409\n",
       "1      Within  229.390751  999  0.229620       NaN       NaN       NaN"
      ]
     },
     "execution_count": 26,
     "metadata": {},
     "output_type": "execute_result"
    }
   ],
   "source": [
    "# Perform one-way ANOVA\n",
    "anova = pg.anova(data=df, dv='values', between='categories', detailed=True)\n",
    "anova"
   ]
  },
  {
   "cell_type": "code",
   "execution_count": 27,
   "id": "65454e47-6b64-4fc7-ac1f-02fc6be8043d",
   "metadata": {},
   "outputs": [
    {
     "data": {
      "text/html": [
       "<div>\n",
       "<style scoped>\n",
       "    .dataframe tbody tr th:only-of-type {\n",
       "        vertical-align: middle;\n",
       "    }\n",
       "\n",
       "    .dataframe tbody tr th {\n",
       "        vertical-align: top;\n",
       "    }\n",
       "\n",
       "    .dataframe thead th {\n",
       "        text-align: right;\n",
       "    }\n",
       "</style>\n",
       "<table border=\"1\" class=\"dataframe\">\n",
       "  <thead>\n",
       "    <tr style=\"text-align: right;\">\n",
       "      <th></th>\n",
       "      <th>Source</th>\n",
       "      <th>ddof1</th>\n",
       "      <th>ddof2</th>\n",
       "      <th>F</th>\n",
       "      <th>p-unc</th>\n",
       "      <th>np2</th>\n",
       "    </tr>\n",
       "  </thead>\n",
       "  <tbody>\n",
       "    <tr>\n",
       "      <th>0</th>\n",
       "      <td>categories</td>\n",
       "      <td>3</td>\n",
       "      <td>265.247149</td>\n",
       "      <td>4.394193</td>\n",
       "      <td>0.004882</td>\n",
       "      <td>0.009409</td>\n",
       "    </tr>\n",
       "  </tbody>\n",
       "</table>\n",
       "</div>"
      ],
      "text/plain": [
       "       Source  ddof1       ddof2         F     p-unc       np2\n",
       "0  categories      3  265.247149  4.394193  0.004882  0.009409"
      ]
     },
     "execution_count": 27,
     "metadata": {},
     "output_type": "execute_result"
    }
   ],
   "source": [
    "# perform Welch's ANOVA\n",
    "Wanova = pg.welch_anova(dv='values', between='categories', data=df)\n",
    "Wanova"
   ]
  },
  {
   "cell_type": "markdown",
   "id": "ab7099e1-cb8c-431b-a059-1e84889b6c66",
   "metadata": {},
   "source": [
    "# Hvor ligger forskellen?"
   ]
  },
  {
   "cell_type": "code",
   "execution_count": 28,
   "id": "ec3a0839-d3ad-4715-91ae-7b9100b4bd2b",
   "metadata": {},
   "outputs": [
    {
     "name": "stdout",
     "output_type": "stream",
     "text": [
      "\n",
      "Welch's t-test between communicationSize and familySize:\n",
      "t-value: -0.7762410202612958\n",
      "p-value: 0.4386084334814365\n"
     ]
    }
   ],
   "source": [
    "# Perform Welch's t-test between pairs of groups\n",
    "t_value, p_value = stats.ttest_ind(communicationSize, familySize, equal_var=False)\n",
    "print(\"\\nWelch's t-test between communicationSize and familySize:\")\n",
    "print(\"t-value:\", t_value)\n",
    "print(\"p-value:\", p_value)"
   ]
  },
  {
   "cell_type": "code",
   "execution_count": 29,
   "id": "53861aa9-dc43-4fc9-a0d8-80cf5ef49cff",
   "metadata": {},
   "outputs": [
    {
     "name": "stdout",
     "output_type": "stream",
     "text": [
      "\n",
      "Welch's t-test between communicationSize and gameSize:\n",
      "t-value: -2.979687476784126\n",
      "p-value: 0.003330442399738894\n"
     ]
    }
   ],
   "source": [
    "t_value, p_value = stats.ttest_ind(communicationSize, gameSize, equal_var=False)\n",
    "print(\"\\nWelch's t-test between communicationSize and gameSize:\")\n",
    "print(\"t-value:\", t_value)\n",
    "print(\"p-value:\", p_value)"
   ]
  },
  {
   "cell_type": "markdown",
   "id": "2543fdcd-62da-4bdc-9dc3-1916621f3960",
   "metadata": {},
   "source": [
    "### forskellen ligger mellem communicationSize og productivitySize"
   ]
  },
  {
   "cell_type": "code",
   "execution_count": 30,
   "id": "82798341-a81c-485e-8c24-7b77630d4ce2",
   "metadata": {},
   "outputs": [
    {
     "name": "stdout",
     "output_type": "stream",
     "text": [
      "\n",
      "Welch's t-test between communicationSize and productivitySize:\n",
      "t-value: -1.2637648469654237\n",
      "p-value: 0.20802254964150274\n"
     ]
    }
   ],
   "source": [
    "t_value, p_value = stats.ttest_ind(communicationSize, productivitySize, equal_var=False)\n",
    "print(\"\\nWelch's t-test between communicationSize and productivitySize:\")\n",
    "print(\"t-value:\", t_value)\n",
    "print(\"p-value:\", p_value)"
   ]
  },
  {
   "cell_type": "code",
   "execution_count": 31,
   "id": "8e8e0d48-570a-4501-b140-04dd6f82a438",
   "metadata": {},
   "outputs": [
    {
     "name": "stdout",
     "output_type": "stream",
     "text": [
      "\n",
      "Welch's t-test between familySize and gameSize:\n",
      "t-value: -2.94829383616811\n",
      "p-value: 0.0032890965769201566\n"
     ]
    }
   ],
   "source": [
    "t_value, p_value = stats.ttest_ind(familySize, gameSize, equal_var=False)\n",
    "print(\"\\nWelch's t-test between familySize and gameSize:\")\n",
    "print(\"t-value:\", t_value)\n",
    "print(\"p-value:\", p_value)"
   ]
  },
  {
   "cell_type": "code",
   "execution_count": 32,
   "id": "b1f2b3c3-14bc-4471-8562-ae5e4c86f0c1",
   "metadata": {},
   "outputs": [
    {
     "name": "stdout",
     "output_type": "stream",
     "text": [
      "\n",
      "Welch's t-test between familySize and productivitySize:\n",
      "t-value: -0.8046252961961513\n",
      "p-value: 0.4224315353376734\n"
     ]
    }
   ],
   "source": [
    "t_value, p_value = stats.ttest_ind(familySize, productivitySize, equal_var=False)\n",
    "print(\"\\nWelch's t-test between familySize and productivitySize:\")\n",
    "print(\"t-value:\", t_value)\n",
    "print(\"p-value:\", p_value)"
   ]
  },
  {
   "cell_type": "code",
   "execution_count": 33,
   "id": "bc236b59-4d95-4048-9e39-5247d569d6f6",
   "metadata": {},
   "outputs": [
    {
     "name": "stdout",
     "output_type": "stream",
     "text": [
      "\n",
      "Welch's t-test between gameSize and productivitySize:\n",
      "t-value: 0.9060347899149139\n",
      "p-value: 0.366638078620661\n"
     ]
    }
   ],
   "source": [
    "t_value, p_value = stats.ttest_ind(gameSize, productivitySize, equal_var=False)\n",
    "print(\"\\nWelch's t-test between gameSize and productivitySize:\")\n",
    "print(\"t-value:\", t_value)\n",
    "print(\"p-value:\", p_value)"
   ]
  },
  {
   "cell_type": "code",
   "execution_count": null,
   "id": "c12394b4-e4f7-4f0f-8a4b-f106b63e56cd",
   "metadata": {},
   "outputs": [],
   "source": []
  }
 ],
 "metadata": {
  "kernelspec": {
   "display_name": "Python 3 (ipykernel)",
   "language": "python",
   "name": "python3"
  },
  "language_info": {
   "codemirror_mode": {
    "name": "ipython",
    "version": 3
   },
   "file_extension": ".py",
   "mimetype": "text/x-python",
   "name": "python",
   "nbconvert_exporter": "python",
   "pygments_lexer": "ipython3",
   "version": "3.10.6"
  }
 },
 "nbformat": 4,
 "nbformat_minor": 5
}
